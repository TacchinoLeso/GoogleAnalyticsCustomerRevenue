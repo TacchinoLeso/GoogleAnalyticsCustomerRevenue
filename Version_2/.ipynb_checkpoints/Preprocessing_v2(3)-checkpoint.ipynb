{
 "cells": [
  {
   "cell_type": "code",
   "execution_count": 1,
   "metadata": {},
   "outputs": [],
   "source": [
    "import pandas as pd\n",
    "import numpy as np\n",
    "\n",
    "# Random seed for reproducibility\n",
    "seed = 202\n",
    "np.random.seed(seed)\n",
    "\n",
    "# Ignore warnings\n",
    "import warnings\n",
    "warnings.simplefilter('ignore')\n",
    "\n",
    "# Garbage collector\n",
    "import gc\n",
    "gc.enable()"
   ]
  },
  {
   "cell_type": "code",
   "execution_count": 2,
   "metadata": {},
   "outputs": [
    {
     "data": {
      "text/plain": [
       "((1708337, 38), (401589, 38))"
      ]
     },
     "execution_count": 2,
     "metadata": {},
     "output_type": "execute_result"
    }
   ],
   "source": [
    "# Import the dataframes without JSON features and useless features\n",
    "train_raw_df = pd.read_csv(\"cleaned_train_v2(2).csv\",\n",
    "    dtype={'date': str, 'fullVisitorId': str}, nrows=None)\n",
    "test_raw_df = pd.read_csv(\"cleaned_test_v2(2).csv\",\n",
    "    dtype={'date': str, 'fullVisitorId': str}, nrows=None)\n",
    "train_raw_df.shape, test_raw_df.shape"
   ]
  },
  {
   "cell_type": "markdown",
   "metadata": {},
   "source": [
    "## First preprocessing"
   ]
  },
  {
   "cell_type": "markdown",
   "metadata": {},
   "source": [
    "### NOTE: the next step is optional"
   ]
  },
  {
   "cell_type": "markdown",
   "metadata": {},
   "source": [
    "### Inspect disguised nans"
   ]
  },
  {
   "cell_type": "code",
   "execution_count": null,
   "metadata": {
    "scrolled": true
   },
   "outputs": [],
   "source": [
    "# check how many categories are present per column (before nans substitution)\n",
    "for c in train_raw_df.columns:\n",
    "    print(c, len(np.unique(train_raw_df[c].astype(str))))"
   ]
  },
  {
   "cell_type": "code",
   "execution_count": null,
   "metadata": {},
   "outputs": [],
   "source": [
    "from collections import Counter\n",
    "Counter(train_raw_df['channelGrouping'])"
   ]
  },
  {
   "cell_type": "code",
   "execution_count": null,
   "metadata": {
    "scrolled": true
   },
   "outputs": [],
   "source": [
    "train_raw_df['trafficSource.adwordsClickInfo.slot'].unique()"
   ]
  },
  {
   "cell_type": "markdown",
   "metadata": {},
   "source": [
    "### Convert disguised nans"
   ]
  },
  {
   "cell_type": "code",
   "execution_count": 3,
   "metadata": {},
   "outputs": [],
   "source": [
    "nan_list = [\n",
    "    \"(not set)\",\n",
    "    \"not available in demo dataset\",\n",
    "    \"not.configured\",\n",
    "    \"(not provided)\",\n",
    "    \"unknown.unknown\",\n",
    "    \"/\",\n",
    "    \"(Other)\",\n",
    "    \"(other)\",\n",
    "    \"(none)\",\n",
    "    \"nan\"\n",
    "]\n",
    "\n",
    "nan_dict = {nl:np.nan for nl in nan_list}\n",
    "\n",
    "# convert all \"disguised\" missing values to nans\n",
    "def miss_to_nan(df):\n",
    "    df.replace(nan_dict, inplace=True) # convert disguised NaNs\n",
    "    df.dropna(axis=1, how='all', inplace=True)\n",
    "    return df"
   ]
  },
  {
   "cell_type": "markdown",
   "metadata": {},
   "source": [
    "### Checkpoint"
   ]
  },
  {
   "cell_type": "code",
   "execution_count": 4,
   "metadata": {},
   "outputs": [],
   "source": [
    "# apply the preprocessing up to this point and save into copies\n",
    "train_df = miss_to_nan(train_raw_df)\n",
    "test_df = miss_to_nan(test_raw_df)"
   ]
  },
  {
   "cell_type": "markdown",
   "metadata": {},
   "source": [
    "### Fill nans with zeroes in target column"
   ]
  },
  {
   "cell_type": "code",
   "execution_count": 5,
   "metadata": {},
   "outputs": [],
   "source": [
    "train_df['totals.transactionRevenue'].fillna(0, inplace=True)"
   ]
  },
  {
   "cell_type": "markdown",
   "metadata": {},
   "source": [
    "### NOTE: the next step is optional"
   ]
  },
  {
   "cell_type": "markdown",
   "metadata": {},
   "source": [
    "### Inspect data"
   ]
  },
  {
   "cell_type": "code",
   "execution_count": null,
   "metadata": {
    "scrolled": true
   },
   "outputs": [],
   "source": [
    "# check the nan condition in totals.newVisits\n",
    "from itertools import compress\n",
    "sum(list(compress(train_df['visitNumber'] > 1, train_df['totals.newVisits'].isnull()))) == train_df['totals.newVisits'].isnull().sum()"
   ]
  },
  {
   "cell_type": "code",
   "execution_count": null,
   "metadata": {},
   "outputs": [],
   "source": [
    "# check the nan condition in totals.newVisits\n",
    "print(sum(train_df['totals.newVisits'].isnull()))\n",
    "sum(list(compress(train_df['totals.newVisits'].isnull(), train_df['visitNumber'] > 1)))"
   ]
  },
  {
   "cell_type": "code",
   "execution_count": null,
   "metadata": {},
   "outputs": [],
   "source": [
    "# check if there is difference between nan and (none) in df['trafficSource.medium']\n",
    "print(sum(train_df['trafficSource.medium'].isnull()))\n",
    "sum(list(compress(train_df['trafficSource.medium'].isnull(), train_df['totals.transactionRevenue'] == 0)))\n",
    "\n",
    "### c'è un valore con revenue !!!!!"
   ]
  },
  {
   "cell_type": "code",
   "execution_count": null,
   "metadata": {},
   "outputs": [],
   "source": [
    "#same shit for trafficSource.source\n",
    "print(sum(train_df['trafficSource.source'].isnull()))\n",
    "sum(list(compress(train_df['trafficSource.source'].isnull(), train_df['totals.transactionRevenue'] == 0)))"
   ]
  },
  {
   "cell_type": "code",
   "execution_count": null,
   "metadata": {
    "scrolled": true
   },
   "outputs": [],
   "source": [
    "train_df.isnull().sum()"
   ]
  },
  {
   "cell_type": "code",
   "execution_count": null,
   "metadata": {
    "scrolled": true
   },
   "outputs": [],
   "source": [
    "#check again number of categories in each variable (eg column)\n",
    "for c in train_df.columns:\n",
    "    print(c, len(np.unique(train_df[c].astype(str))))"
   ]
  },
  {
   "cell_type": "code",
   "execution_count": null,
   "metadata": {},
   "outputs": [],
   "source": [
    "for i in train_df.columns:    \n",
    "    if len(train_df[i].unique()) <= 100:\n",
    "        print(i + '\\n')\n",
    "        print(train_df[i].unique())\n",
    "        print('\\n')"
   ]
  },
  {
   "cell_type": "markdown",
   "metadata": {},
   "source": [
    "## Second preprocessing"
   ]
  },
  {
   "cell_type": "markdown",
   "metadata": {},
   "source": [
    "### Missing values filling"
   ]
  },
  {
   "cell_type": "code",
   "execution_count": 6,
   "metadata": {},
   "outputs": [],
   "source": [
    "def fill_nans(df):\n",
    "    \n",
    "    \n",
    "    df['channelGrouping'].fillna('Organic Search', inplace=True) # few nans, a lot of \"Organic Search\"\n",
    "    df['device.browser'].fillna('Chrome', inplace=True) # few nans, a lot of \"Chrome\"\n",
    "    df['device.operatingSystem'].fillna('unknown', inplace=True) # no predominance of any value, quite a bit of nans, keep separated category\n",
    "    df['totals.pageviews'].fillna(1, inplace=True) # many 1s, nans do not bring any revenue -> nans become 1s\n",
    "    df['trafficSource.medium'].fillna('unknown', inplace=True) # seems to be the same\n",
    "    df['trafficSource.source'].fillna('unknown', inplace = True) # seems to be the same\n",
    "    \n",
    "    \n",
    "    df['geoNetwork.continent'].fillna('unknown', inplace=True)# keep separate category\n",
    "    df['geoNetwork.country'].fillna('unknown', inplace=True)# keep separate category\n",
    "    df['geoNetwork.subContinent'].fillna('unknown', inplace=True)# keep separate category\n",
    "\n",
    "    \n",
    "    # Features with huge amout of nans\n",
    "    df['geoNetwork.city'].fillna('unknown', inplace=True)\n",
    "    df['geoNetwork.metro'].fillna('unknown', inplace=True)\n",
    "    df['geoNetwork.networkDomain'].fillna('unknown', inplace=True)\n",
    "    df['geoNetwork.region'].fillna('unknown', inplace=True)\n",
    "    df['totals.bounces'].fillna(0, inplace=True) # nan and 1\n",
    "    df['trafficSource.adContent'].fillna('unknown', inplace=True)\n",
    "    df['trafficSource.adwordsClickInfo.adNetworkType'].fillna('unknown', inplace=True)\n",
    "    df['trafficSource.adwordsClickInfo.gclId'].fillna('unknown', inplace=True)\n",
    "#     df['trafficSource.adwordsClickInfo.isVideoAd'].fillna(True, inplace=True) # nan and False\n",
    "    df['trafficSource.adwordsClickInfo.page'].fillna(0, inplace=True) # 0 is not cointained in the set\n",
    "    df['trafficSource.adwordsClickInfo.slot'].fillna('unknown', inplace=True)\n",
    "    df['trafficSource.campaign'].fillna('unknown', inplace=True)\n",
    "    df['trafficSource.isTrueDirect'].fillna(False, inplace=True) # nan and True\n",
    "    df['trafficSource.keyword'].fillna('unknown', inplace=True)\n",
    "    df['trafficSource.referralPath'].fillna('unknown', inplace=True)\n",
    "    df['totals.newVisits'].fillna(0, inplace=True)# totals.newVisits is always == nan when visitNumber > 1, we keep it for now but it will be dropped eventually\n",
    "\n",
    "    return df"
   ]
  },
  {
   "cell_type": "code",
   "execution_count": 7,
   "metadata": {},
   "outputs": [],
   "source": [
    "train_df = fill_nans(train_df)\n",
    "test_df = fill_nans(test_df)"
   ]
  },
  {
   "cell_type": "code",
   "execution_count": 8,
   "metadata": {
    "scrolled": true
   },
   "outputs": [
    {
     "data": {
      "text/plain": [
       "channelGrouping                                 0\n",
       "fullVisitorId                                   0\n",
       "sessionId                                       0\n",
       "visitId                                         0\n",
       "visitNumber                                     0\n",
       "visitStartTime                                  0\n",
       "device.browser                                  0\n",
       "device.deviceCategory                           0\n",
       "device.isMobile                                 0\n",
       "device.operatingSystem                          0\n",
       "geoNetwork.city                                 0\n",
       "geoNetwork.continent                            0\n",
       "geoNetwork.country                              0\n",
       "geoNetwork.metro                                0\n",
       "geoNetwork.networkDomain                        0\n",
       "geoNetwork.region                               0\n",
       "geoNetwork.subContinent                         0\n",
       "totals.bounces                                  0\n",
       "totals.hits                                     0\n",
       "totals.newVisits                                0\n",
       "totals.pageviews                                0\n",
       "totals.transactionRevenue                       0\n",
       "trafficSource.adContent                         0\n",
       "trafficSource.adwordsClickInfo.adNetworkType    0\n",
       "trafficSource.adwordsClickInfo.gclId            0\n",
       "trafficSource.adwordsClickInfo.page             0\n",
       "trafficSource.adwordsClickInfo.slot             0\n",
       "trafficSource.campaign                          0\n",
       "trafficSource.isTrueDirect                      0\n",
       "trafficSource.keyword                           0\n",
       "trafficSource.medium                            0\n",
       "trafficSource.referralPath                      0\n",
       "trafficSource.source                            0\n",
       "dtype: int64"
      ]
     },
     "execution_count": 8,
     "metadata": {},
     "output_type": "execute_result"
    }
   ],
   "source": [
    "train_df.isnull().sum()"
   ]
  },
  {
   "cell_type": "markdown",
   "metadata": {},
   "source": [
    "### Cast numerical features to float"
   ]
  },
  {
   "cell_type": "code",
   "execution_count": null,
   "metadata": {},
   "outputs": [],
   "source": [
    "# float_features = ['visitId', 'visitNumber', 'visitStartTime', 'totals.bounces', 'totals.hits',\n",
    "#                  'totals.newVisits', 'totals.pageviews', 'trafficSource.adwordsClickInfo.page',\n",
    "#                  'trafficSource.isTrueDirect']\n",
    "\n",
    "# for col in float_features:\n",
    "#     train_df[col] = train_df[col].astype(float)\n",
    "#     test_df[col] = test_df[col].astype(float)"
   ]
  },
  {
   "cell_type": "markdown",
   "metadata": {},
   "source": [
    "### Cast string categorical features to lower case"
   ]
  },
  {
   "cell_type": "code",
   "execution_count": 10,
   "metadata": {},
   "outputs": [],
   "source": [
    "string_features = ['channelGrouping', 'sessionId', 'device.browser', 'device.deviceCategory',\n",
    "                  'device.operatingSystem', 'geoNetwork.city', 'geoNetwork.continent', 'geoNetwork.country',\n",
    "                  'geoNetwork.metro', 'geoNetwork.networkDomain', 'geoNetwork.region', 'geoNetwork.subContinent',\n",
    "                  'trafficSource.adContent', 'trafficSource.adwordsClickInfo.adNetworkType', 'trafficSource.adwordsClickInfo.gclId',\n",
    "                  'trafficSource.adwordsClickInfo.slot', 'trafficSource.campaign', 'trafficSource.referralPath',\n",
    "                  'trafficSource.medium', 'trafficSource.source', 'trafficSource.keyword']\n",
    "\n",
    "for col in string_features:\n",
    "    train_df[col] = train_df[col].str.lower().astype(str)\n",
    "    train_df[col] = train_df[col].astype(str)\n",
    "    test_df[col] = test_df[col].str.lower().astype(str)\n",
    "    test_df[col] = test_df[col].astype(str)"
   ]
  },
  {
   "cell_type": "code",
   "execution_count": 9,
   "metadata": {},
   "outputs": [
    {
     "data": {
      "text/html": [
       "<div>\n",
       "<style scoped>\n",
       "    .dataframe tbody tr th:only-of-type {\n",
       "        vertical-align: middle;\n",
       "    }\n",
       "\n",
       "    .dataframe tbody tr th {\n",
       "        vertical-align: top;\n",
       "    }\n",
       "\n",
       "    .dataframe thead th {\n",
       "        text-align: right;\n",
       "    }\n",
       "</style>\n",
       "<table border=\"1\" class=\"dataframe\">\n",
       "  <thead>\n",
       "    <tr style=\"text-align: right;\">\n",
       "      <th></th>\n",
       "      <th>channelGrouping</th>\n",
       "      <th>fullVisitorId</th>\n",
       "      <th>sessionId</th>\n",
       "      <th>visitId</th>\n",
       "      <th>visitNumber</th>\n",
       "      <th>visitStartTime</th>\n",
       "      <th>device.browser</th>\n",
       "      <th>device.deviceCategory</th>\n",
       "      <th>device.isMobile</th>\n",
       "      <th>device.operatingSystem</th>\n",
       "      <th>...</th>\n",
       "      <th>trafficSource.adwordsClickInfo.adNetworkType</th>\n",
       "      <th>trafficSource.adwordsClickInfo.gclId</th>\n",
       "      <th>trafficSource.adwordsClickInfo.page</th>\n",
       "      <th>trafficSource.adwordsClickInfo.slot</th>\n",
       "      <th>trafficSource.campaign</th>\n",
       "      <th>trafficSource.isTrueDirect</th>\n",
       "      <th>trafficSource.keyword</th>\n",
       "      <th>trafficSource.medium</th>\n",
       "      <th>trafficSource.referralPath</th>\n",
       "      <th>trafficSource.source</th>\n",
       "    </tr>\n",
       "  </thead>\n",
       "  <tbody>\n",
       "    <tr>\n",
       "      <th>0</th>\n",
       "      <td>Organic Search</td>\n",
       "      <td>1131660440785968503</td>\n",
       "      <td>1131660440785968503_1472830385</td>\n",
       "      <td>1472830385</td>\n",
       "      <td>1</td>\n",
       "      <td>1472830385</td>\n",
       "      <td>Chrome</td>\n",
       "      <td>desktop</td>\n",
       "      <td>False</td>\n",
       "      <td>Windows</td>\n",
       "      <td>...</td>\n",
       "      <td>unknown</td>\n",
       "      <td>unknown</td>\n",
       "      <td>0.0</td>\n",
       "      <td>unknown</td>\n",
       "      <td>unknown</td>\n",
       "      <td>False</td>\n",
       "      <td>unknown</td>\n",
       "      <td>organic</td>\n",
       "      <td>unknown</td>\n",
       "      <td>google</td>\n",
       "    </tr>\n",
       "    <tr>\n",
       "      <th>1</th>\n",
       "      <td>Organic Search</td>\n",
       "      <td>377306020877927890</td>\n",
       "      <td>377306020877927890_1472880147</td>\n",
       "      <td>1472880147</td>\n",
       "      <td>1</td>\n",
       "      <td>1472880147</td>\n",
       "      <td>Firefox</td>\n",
       "      <td>desktop</td>\n",
       "      <td>False</td>\n",
       "      <td>Macintosh</td>\n",
       "      <td>...</td>\n",
       "      <td>unknown</td>\n",
       "      <td>unknown</td>\n",
       "      <td>0.0</td>\n",
       "      <td>unknown</td>\n",
       "      <td>unknown</td>\n",
       "      <td>False</td>\n",
       "      <td>unknown</td>\n",
       "      <td>organic</td>\n",
       "      <td>unknown</td>\n",
       "      <td>google</td>\n",
       "    </tr>\n",
       "    <tr>\n",
       "      <th>2</th>\n",
       "      <td>Organic Search</td>\n",
       "      <td>3895546263509774583</td>\n",
       "      <td>3895546263509774583_1472865386</td>\n",
       "      <td>1472865386</td>\n",
       "      <td>1</td>\n",
       "      <td>1472865386</td>\n",
       "      <td>Chrome</td>\n",
       "      <td>desktop</td>\n",
       "      <td>False</td>\n",
       "      <td>Windows</td>\n",
       "      <td>...</td>\n",
       "      <td>unknown</td>\n",
       "      <td>unknown</td>\n",
       "      <td>0.0</td>\n",
       "      <td>unknown</td>\n",
       "      <td>unknown</td>\n",
       "      <td>False</td>\n",
       "      <td>unknown</td>\n",
       "      <td>organic</td>\n",
       "      <td>unknown</td>\n",
       "      <td>google</td>\n",
       "    </tr>\n",
       "    <tr>\n",
       "      <th>3</th>\n",
       "      <td>Organic Search</td>\n",
       "      <td>4763447161404445595</td>\n",
       "      <td>4763447161404445595_1472881213</td>\n",
       "      <td>1472881213</td>\n",
       "      <td>1</td>\n",
       "      <td>1472881213</td>\n",
       "      <td>UC Browser</td>\n",
       "      <td>desktop</td>\n",
       "      <td>False</td>\n",
       "      <td>Linux</td>\n",
       "      <td>...</td>\n",
       "      <td>unknown</td>\n",
       "      <td>unknown</td>\n",
       "      <td>0.0</td>\n",
       "      <td>unknown</td>\n",
       "      <td>unknown</td>\n",
       "      <td>False</td>\n",
       "      <td>google + online</td>\n",
       "      <td>organic</td>\n",
       "      <td>unknown</td>\n",
       "      <td>google</td>\n",
       "    </tr>\n",
       "    <tr>\n",
       "      <th>4</th>\n",
       "      <td>Organic Search</td>\n",
       "      <td>27294437909732085</td>\n",
       "      <td>27294437909732085_1472822600</td>\n",
       "      <td>1472822600</td>\n",
       "      <td>2</td>\n",
       "      <td>1472822600</td>\n",
       "      <td>Chrome</td>\n",
       "      <td>mobile</td>\n",
       "      <td>True</td>\n",
       "      <td>Android</td>\n",
       "      <td>...</td>\n",
       "      <td>unknown</td>\n",
       "      <td>unknown</td>\n",
       "      <td>0.0</td>\n",
       "      <td>unknown</td>\n",
       "      <td>unknown</td>\n",
       "      <td>True</td>\n",
       "      <td>unknown</td>\n",
       "      <td>organic</td>\n",
       "      <td>unknown</td>\n",
       "      <td>google</td>\n",
       "    </tr>\n",
       "  </tbody>\n",
       "</table>\n",
       "<p>5 rows × 33 columns</p>\n",
       "</div>"
      ],
      "text/plain": [
       "  channelGrouping        fullVisitorId                       sessionId  \\\n",
       "0  Organic Search  1131660440785968503  1131660440785968503_1472830385   \n",
       "1  Organic Search   377306020877927890   377306020877927890_1472880147   \n",
       "2  Organic Search  3895546263509774583  3895546263509774583_1472865386   \n",
       "3  Organic Search  4763447161404445595  4763447161404445595_1472881213   \n",
       "4  Organic Search    27294437909732085    27294437909732085_1472822600   \n",
       "\n",
       "      visitId  visitNumber  visitStartTime device.browser  \\\n",
       "0  1472830385            1      1472830385         Chrome   \n",
       "1  1472880147            1      1472880147        Firefox   \n",
       "2  1472865386            1      1472865386         Chrome   \n",
       "3  1472881213            1      1472881213     UC Browser   \n",
       "4  1472822600            2      1472822600         Chrome   \n",
       "\n",
       "  device.deviceCategory  device.isMobile device.operatingSystem  \\\n",
       "0               desktop            False                Windows   \n",
       "1               desktop            False              Macintosh   \n",
       "2               desktop            False                Windows   \n",
       "3               desktop            False                  Linux   \n",
       "4                mobile             True                Android   \n",
       "\n",
       "           ...          trafficSource.adwordsClickInfo.adNetworkType  \\\n",
       "0          ...                                               unknown   \n",
       "1          ...                                               unknown   \n",
       "2          ...                                               unknown   \n",
       "3          ...                                               unknown   \n",
       "4          ...                                               unknown   \n",
       "\n",
       "  trafficSource.adwordsClickInfo.gclId trafficSource.adwordsClickInfo.page  \\\n",
       "0                              unknown                                 0.0   \n",
       "1                              unknown                                 0.0   \n",
       "2                              unknown                                 0.0   \n",
       "3                              unknown                                 0.0   \n",
       "4                              unknown                                 0.0   \n",
       "\n",
       "  trafficSource.adwordsClickInfo.slot trafficSource.campaign  \\\n",
       "0                             unknown                unknown   \n",
       "1                             unknown                unknown   \n",
       "2                             unknown                unknown   \n",
       "3                             unknown                unknown   \n",
       "4                             unknown                unknown   \n",
       "\n",
       "  trafficSource.isTrueDirect trafficSource.keyword  trafficSource.medium  \\\n",
       "0                      False               unknown               organic   \n",
       "1                      False               unknown               organic   \n",
       "2                      False               unknown               organic   \n",
       "3                      False       google + online               organic   \n",
       "4                       True               unknown               organic   \n",
       "\n",
       "   trafficSource.referralPath  trafficSource.source  \n",
       "0                     unknown                google  \n",
       "1                     unknown                google  \n",
       "2                     unknown                google  \n",
       "3                     unknown                google  \n",
       "4                     unknown                google  \n",
       "\n",
       "[5 rows x 33 columns]"
      ]
     },
     "execution_count": 9,
     "metadata": {},
     "output_type": "execute_result"
    }
   ],
   "source": [
    "train_df.head()"
   ]
  },
  {
   "cell_type": "code",
   "execution_count": null,
   "metadata": {},
   "outputs": [],
   "source": []
  },
  {
   "cell_type": "code",
   "execution_count": null,
   "metadata": {},
   "outputs": [],
   "source": []
  },
  {
   "cell_type": "code",
   "execution_count": null,
   "metadata": {},
   "outputs": [],
   "source": []
  },
  {
   "cell_type": "code",
   "execution_count": null,
   "metadata": {},
   "outputs": [],
   "source": []
  },
  {
   "cell_type": "code",
   "execution_count": null,
   "metadata": {},
   "outputs": [],
   "source": []
  },
  {
   "cell_type": "code",
   "execution_count": null,
   "metadata": {},
   "outputs": [],
   "source": []
  },
  {
   "cell_type": "code",
   "execution_count": null,
   "metadata": {},
   "outputs": [],
   "source": []
  },
  {
   "cell_type": "markdown",
   "metadata": {},
   "source": [
    "### NOTE: the next step is optional (may improve performances but it has to be tested)"
   ]
  },
  {
   "cell_type": "markdown",
   "metadata": {},
   "source": [
    "### Cleaning rare categories"
   ]
  },
  {
   "cell_type": "code",
   "execution_count": null,
   "metadata": {},
   "outputs": [],
   "source": [
    "# Actually we have no longer missing values, and we can manage the problem of the rare categories\n",
    "# We group them in an overfeature\n",
    "def clear_rare_categories(df, feature, limit = 900):\n",
    "\n",
    "    vc = df[feature].value_counts()\n",
    "    \n",
    "    common = vc > limit\n",
    "    common = set(common.index[common].values)\n",
    "    print(\"Set\", sum(vc <= limit), feature, \"categories to 'other';\", end=\" \")\n",
    "    \n",
    "    df.loc[df[feature].map(lambda x: x not in common), feature] = 'other'\n",
    "    print(\"now there are\", df[feature].nunique(), \"categories\")\n",
    "    \n",
    "    return df"
   ]
  },
  {
   "cell_type": "code",
   "execution_count": null,
   "metadata": {
    "scrolled": true
   },
   "outputs": [],
   "source": [
    "# to be chacked better!!!\n",
    "\n",
    "# There are features that we don't want to modify\n",
    "raw_features = [\n",
    "\"channelGrouping\",\n",
    "\"device.browser\",\n",
    "\"device.deviceCategory\",\n",
    "\"device.isMobile\",\n",
    "\"device.operatingSystem\",\n",
    "\"geoNetwork.city\",\n",
    "\"geoNetwork.continent\",\n",
    "\"geoNetwork.country\",\n",
    "\"geoNetwork.metro\",\n",
    "\"geoNetwork.networkDomain\",\n",
    "\"geoNetwork.region\",\n",
    "\"geoNetwork.subContinent\",\n",
    "\"totals.bounces\",\n",
    "\"totals.newVisits\",\n",
    "\"trafficSource.adContent\",\n",
    "\"trafficSource.adwordsClickInfo.adNetworkType\",\n",
    "# \"trafficSource.adwordsClickInfo.isVideoAd\",\n",
    "\"trafficSource.adwordsClickInfo.slot\",\n",
    "\"trafficSource.campaign\",\n",
    "\"trafficSource.isTrueDirect\",\n",
    "\"trafficSource.keyword\",\n",
    "\"trafficSource.medium\",\n",
    "\"trafficSource.referralPath\",\n",
    "\"trafficSource.source\"\n",
    "]\n",
    "\n",
    "\n",
    "for feat in raw_features:\n",
    "    print(\"\\nTRAIN:\\n\")\n",
    "    train_df = clear_rare_categories(train_df, feat)\n",
    "    print(\"\\nTEST:\\n\")\n",
    "    test_df = clear_rare_categories(test_df, feat)\n",
    "    \n",
    "#     if(train_df[feat].nunique() != test_df[feat].nunique()):\n",
    "#         print(\"\\n\\n\\nWARNING:\\n\")\n"
   ]
  },
  {
   "cell_type": "code",
   "execution_count": null,
   "metadata": {},
   "outputs": [],
   "source": [
    "for i in train_df.columns:    \n",
    "    if len(train_df[i].unique()) <= 100:\n",
    "        print(i + '\\n')\n",
    "        print(train_df[i].unique())\n",
    "        print('\\n')"
   ]
  },
  {
   "cell_type": "code",
   "execution_count": null,
   "metadata": {
    "scrolled": true
   },
   "outputs": [],
   "source": [
    "#check again number of categories in each variable (eg column)\n",
    "for c in train_df.columns:\n",
    "    print(c, len(np.unique(train_df[c].astype(str))))"
   ]
  },
  {
   "cell_type": "markdown",
   "metadata": {},
   "source": [
    "### Drop meaningless columns"
   ]
  },
  {
   "cell_type": "code",
   "execution_count": 9,
   "metadata": {},
   "outputs": [
    {
     "data": {
      "text/plain": [
       "((903653, 33), (804684, 32))"
      ]
     },
     "execution_count": 9,
     "metadata": {},
     "output_type": "execute_result"
    }
   ],
   "source": [
    "meaningless_columns =[]\n",
    "\n",
    "def drop_meaningless_columns(df, meaningless_columns):\n",
    "    df.drop(meaningless_columns, axis=1, inplace=True)\n",
    "    return df\n",
    "\n",
    "train_df = drop_meaningless_columns(train_df, meaningless_columns)\n",
    "test_df = drop_meaningless_columns(test_df, meaningless_columns)\n",
    "train_df.shape, test_df.shape"
   ]
  },
  {
   "cell_type": "code",
   "execution_count": null,
   "metadata": {},
   "outputs": [],
   "source": [
    "\"\"\"\n",
    "\n",
    "meaningless_columns = [\n",
    "    'geoNetwork.city', 'geoNetwork.metro', 'geoNetwork.networkDomain', 'geoNetwork.region',\n",
    "    'totals.bounces',\n",
    "    'trafficSource.adContent', 'trafficSource.adwordsClickInfo.adNetworkType', 'trafficSource.adwordsClickInfo.gclId',\n",
    "    'trafficSource.adwordsClickInfo.isVideoAd', 'trafficSource.adwordsClickInfo.page', 'trafficSource.adwordsClickInfo.slot',\n",
    "    'trafficSource.campaign', 'trafficSource.isTrueDirect', 'trafficSource.keyword', 'trafficSource.referralPath'   \n",
    "]\n",
    "\n",
    "#NO DROP VERSION\n",
    "for i in meaningless_columns:\n",
    "    if train_df[i].dtype == float:\n",
    "\n",
    "        train_df[i].fillna(0, inplace=True)\n",
    "        test_df[i].fillna(0, inplace=True)\n",
    "    else:\n",
    "        print(i)        \n",
    "        train_df[i].fillna('(other)', inplace=True)\n",
    "        test_df[i].fillna('(other)', inplace=True)    \n",
    "\n",
    "def drop_meaningless_columns(df, meaningless_columns):\n",
    "    df.drop(meaningless_columns, axis=1, inplace=True)\n",
    "    return df\n",
    "\n",
    "#train_df = drop_meaningless_columns(train_df, meaningless_columns)\n",
    "#test_df = drop_meaningless_columns(test_df, meaningless_columns)\n",
    "train_df.shape, test_df.shape\n",
    "\n",
    "\"\"\""
   ]
  },
  {
   "cell_type": "markdown",
   "metadata": {},
   "source": [
    "### NOTE: the next step is optional"
   ]
  },
  {
   "cell_type": "markdown",
   "metadata": {},
   "source": [
    "###  Label encoder"
   ]
  },
  {
   "cell_type": "code",
   "execution_count": null,
   "metadata": {},
   "outputs": [
    {
     "name": "stdout",
     "output_type": "stream",
     "text": [
      "channelGrouping\n",
      "sessionId\n"
     ]
    }
   ],
   "source": [
    "from sklearn import preprocessing\n",
    "\n",
    "for col in string_features:\n",
    "    print(col)\n",
    "    lbl = preprocessing.LabelEncoder()\n",
    "    lbl.fit(list(train_df[col].values.astype('str')) + list(test_df[col].values.astype('str')))\n",
    "    train_df[col] = lbl.transform(list(train_df[col].values.astype('str')))\n",
    "    test_df[col] = lbl.transform(list(test_df[col].values.astype('str')))"
   ]
  },
  {
   "cell_type": "markdown",
   "metadata": {},
   "source": [
    "### Export Dataframes"
   ]
  },
  {
   "cell_type": "code",
   "execution_count": 10,
   "metadata": {},
   "outputs": [],
   "source": [
    "train_df.to_csv('preprocessed_train(3).csv', index = False)\n",
    "test_df.to_csv('preprocessed_test(3).csv', index = False)"
   ]
  }
 ],
 "metadata": {
  "kernelspec": {
   "display_name": "Python 3",
   "language": "python",
   "name": "python3"
  },
  "language_info": {
   "codemirror_mode": {
    "name": "ipython",
    "version": 3
   },
   "file_extension": ".py",
   "mimetype": "text/x-python",
   "name": "python",
   "nbconvert_exporter": "python",
   "pygments_lexer": "ipython3",
   "version": "3.7.0"
  }
 },
 "nbformat": 4,
 "nbformat_minor": 2
}
