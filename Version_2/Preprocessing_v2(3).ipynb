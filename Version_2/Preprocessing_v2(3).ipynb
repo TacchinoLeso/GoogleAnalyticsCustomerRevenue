{
 "cells": [
  {
   "cell_type": "code",
   "execution_count": 34,
   "metadata": {},
   "outputs": [],
   "source": [
    "import pandas as pd\n",
    "import numpy as np\n",
    "\n",
    "# Seaborn and matplotlib\n",
    "import seaborn as sns\n",
    "import matplotlib.pyplot as plt\n",
    "\n",
    "# Random seed for reproducibility\n",
    "seed = 202\n",
    "np.random.seed(seed)\n",
    "\n",
    "# Ignore warnings\n",
    "import warnings\n",
    "warnings.simplefilter('ignore')\n",
    "\n",
    "# Garbage collector\n",
    "import gc\n",
    "gc.enable()"
   ]
  },
  {
   "cell_type": "code",
   "execution_count": 36,
   "metadata": {},
   "outputs": [
    {
     "data": {
      "text/plain": [
       "((1708337, 38), (401589, 38))"
      ]
     },
     "execution_count": 36,
     "metadata": {},
     "output_type": "execute_result"
    }
   ],
   "source": [
    "# Import the dataframes without JSON features and useless features\n",
    "train_raw_df = pd.read_csv(\"cleaned_train_v2(2).csv\",\n",
    "    dtype={'fullVisitorId': str}, nrows=None)\n",
    "test_raw_df = pd.read_csv(\"cleaned_test_v2(2).csv\",\n",
    "    dtype={'fullVisitorId': str}, nrows=None)\n",
    "train_raw_df.shape, test_raw_df.shape"
   ]
  },
  {
   "cell_type": "markdown",
   "metadata": {},
   "source": [
    "## First preprocessing"
   ]
  },
  {
   "cell_type": "markdown",
   "metadata": {},
   "source": [
    "### NOTE: the next step is optional"
   ]
  },
  {
   "cell_type": "markdown",
   "metadata": {},
   "source": [
    "### Inspect disguised nans"
   ]
  },
  {
   "cell_type": "code",
   "execution_count": null,
   "metadata": {
    "scrolled": true
   },
   "outputs": [],
   "source": [
    "# check how many categories are present per column (before nans substitution)\n",
    "for c in train_raw_df.columns:\n",
    "    print(c, len(np.unique(train_raw_df[c].astype(str))))"
   ]
  },
  {
   "cell_type": "code",
   "execution_count": null,
   "metadata": {},
   "outputs": [],
   "source": [
    "from collections import Counter\n",
    "Counter(train_raw_df['totals_sessionQualityDim'])"
   ]
  },
  {
   "cell_type": "code",
   "execution_count": null,
   "metadata": {},
   "outputs": [],
   "source": [
    "\"\"\"\n",
    "\n",
    "POSSIBLE DATA HANDLING\n",
    "\n",
    "device_browser:\n",
    "    'Safari (in-app)' -> 'Safari'\n",
    "    'Opera Mini' -> 'Opera'\n",
    "    'Mozilla' -> 'Firefox'\n",
    "    'Mozilla Compatible Agent' -> 'Firefox'\n",
    "\"\"\""
   ]
  },
  {
   "cell_type": "code",
   "execution_count": null,
   "metadata": {
    "scrolled": true
   },
   "outputs": [],
   "source": [
    "train_raw_df['totals_timeOnSite'].unique()"
   ]
  },
  {
   "cell_type": "markdown",
   "metadata": {},
   "source": [
    "### Convert disguised nans"
   ]
  },
  {
   "cell_type": "code",
   "execution_count": 37,
   "metadata": {},
   "outputs": [],
   "source": [
    "nan_list = [\n",
    "    \"(not set)\",\n",
    "    \"not available in demo dataset\",\n",
    "    \"not.configured\",\n",
    "    \"(not provided)\",\n",
    "    \"unknown.unknown\",\n",
    "    \"/\",\n",
    "    \"(Other)\",\n",
    "    \"(other)\",\n",
    "    \"(none)\",\n",
    "    \"nan\",\n",
    "    \"[]\"\n",
    "]\n",
    "\n",
    "nan_dict = {nl:np.nan for nl in nan_list}\n",
    "\n",
    "# convert all \"disguised\" missing values to nans\n",
    "def miss_to_nan(df):\n",
    "    df.replace(nan_dict, inplace=True) # convert disguised NaNs\n",
    "    df.dropna(axis=1, how='all', inplace=True)\n",
    "    return df"
   ]
  },
  {
   "cell_type": "code",
   "execution_count": 38,
   "metadata": {},
   "outputs": [],
   "source": [
    "# apply the preprocessing up to this point and save into copies\n",
    "train_df = miss_to_nan(train_raw_df)\n",
    "test_df = miss_to_nan(test_raw_df)"
   ]
  },
  {
   "cell_type": "code",
   "execution_count": 39,
   "metadata": {
    "scrolled": true
   },
   "outputs": [
    {
     "data": {
      "text/plain": [
       "channelGrouping                                     137\n",
       "customDimensions                                 333235\n",
       "fullVisitorId                                         0\n",
       "visitId                                               0\n",
       "visitNumber                                           0\n",
       "visitStartTime                                        0\n",
       "device_browser                                       12\n",
       "device_deviceCategory                                 0\n",
       "device_isMobile                                       0\n",
       "device_operatingSystem                            11815\n",
       "geoNetwork_city                                  998826\n",
       "geoNetwork_continent                               2517\n",
       "geoNetwork_country                                 2517\n",
       "geoNetwork_metro                                1319855\n",
       "geoNetwork_networkDomain                         769043\n",
       "geoNetwork_region                                982733\n",
       "geoNetwork_subContinent                            2517\n",
       "totals_bounces                                   836759\n",
       "totals_hits                                           0\n",
       "totals_newVisits                                 400907\n",
       "totals_pageviews                                    239\n",
       "totals_sessionQualityDim                         835274\n",
       "totals_timeOnSite                                874294\n",
       "totals_totalTransactionRevenue                  1689823\n",
       "totals_transactionRevenue                       1689823\n",
       "totals_transactions                             1689778\n",
       "trafficSource_adContent                         1643600\n",
       "trafficSource_adwordsClickInfo.adNetworkType    1633063\n",
       "trafficSource_adwordsClickInfo.gclId            1632914\n",
       "trafficSource_adwordsClickInfo.isVideoAd        1633063\n",
       "trafficSource_adwordsClickInfo.page             1633063\n",
       "trafficSource_adwordsClickInfo.slot             1633063\n",
       "trafficSource_campaign                          1604526\n",
       "trafficSource_isTrueDirect                      1173819\n",
       "trafficSource_keyword                           1621713\n",
       "trafficSource_medium                             566091\n",
       "trafficSource_referralPath                      1280366\n",
       "trafficSource_source                                 70\n",
       "dtype: int64"
      ]
     },
     "execution_count": 39,
     "metadata": {},
     "output_type": "execute_result"
    }
   ],
   "source": [
    "train_df.isnull().sum()"
   ]
  },
  {
   "cell_type": "markdown",
   "metadata": {},
   "source": [
    "### NOTE: the next step is optional"
   ]
  },
  {
   "cell_type": "markdown",
   "metadata": {},
   "source": [
    "### Inspect data"
   ]
  },
  {
   "cell_type": "code",
   "execution_count": null,
   "metadata": {
    "scrolled": true
   },
   "outputs": [],
   "source": [
    "# check the nan condition in totals.newVisits\n",
    "from itertools import compress\n",
    "sum(list(compress(train_df['visitNumber'] > 1, train_df['totals.newVisits'].isnull()))) == train_df['totals.newVisits'].isnull().sum()"
   ]
  },
  {
   "cell_type": "code",
   "execution_count": null,
   "metadata": {},
   "outputs": [],
   "source": [
    "# check the nan condition in totals.newVisits\n",
    "print(sum(train_df['totals.newVisits'].isnull()))\n",
    "sum(list(compress(train_df['totals.newVisits'].isnull(), train_df['visitNumber'] > 1)))"
   ]
  },
  {
   "cell_type": "code",
   "execution_count": null,
   "metadata": {},
   "outputs": [],
   "source": [
    "# check if there is difference between nan and (none) in df['trafficSource.medium']\n",
    "print(sum(train_df['trafficSource.medium'].isnull()))\n",
    "sum(list(compress(train_df['trafficSource.medium'].isnull(), train_df['totals.transactionRevenue'] == 0)))\n",
    "\n",
    "### c'è un valore con revenue !!!!!"
   ]
  },
  {
   "cell_type": "code",
   "execution_count": null,
   "metadata": {},
   "outputs": [],
   "source": [
    "#same shit for trafficSource.source\n",
    "print(sum(train_df['trafficSource.source'].isnull()))\n",
    "sum(list(compress(train_df['trafficSource.source'].isnull(), train_df['totals.transactionRevenue'] == 0)))"
   ]
  },
  {
   "cell_type": "code",
   "execution_count": null,
   "metadata": {
    "scrolled": true
   },
   "outputs": [],
   "source": [
    "train_df.isnull().sum()"
   ]
  },
  {
   "cell_type": "code",
   "execution_count": null,
   "metadata": {
    "scrolled": true
   },
   "outputs": [],
   "source": [
    "#check again number of categories in each variable (eg column)\n",
    "for c in train_df.columns:\n",
    "    print(c, len(np.unique(train_df[c].astype(str))))"
   ]
  },
  {
   "cell_type": "code",
   "execution_count": null,
   "metadata": {},
   "outputs": [],
   "source": [
    "for i in train_df.columns:    \n",
    "    if len(train_df[i].unique()) <= 100:\n",
    "        print(i + '\\n')\n",
    "        print(train_df[i].unique())\n",
    "        print('\\n')"
   ]
  },
  {
   "cell_type": "markdown",
   "metadata": {},
   "source": [
    "## Second preprocessing"
   ]
  },
  {
   "cell_type": "markdown",
   "metadata": {},
   "source": [
    "### NOTE: the next step is optional"
   ]
  },
  {
   "cell_type": "code",
   "execution_count": null,
   "metadata": {},
   "outputs": [],
   "source": [
    "train_df.columns"
   ]
  },
  {
   "cell_type": "code",
   "execution_count": null,
   "metadata": {},
   "outputs": [],
   "source": [
    "def train_test_distribution(col, dtype='float64'):\n",
    "    \"\"\"Plot a single numerical column distribution in linear and log scale.\"\"\"\n",
    "    fig, axis = plt.subplots(1, 2, figsize=(14,6))\n",
    "    axis[0].set_title(\"Linear scale\")\n",
    "    axis[1].set_title(\"Log scale\")\n",
    "    \n",
    "    train_df[col], test_df[col] = train_df[col].astype(dtype), test_df[col].astype(dtype)\n",
    "    ax1 = sns.kdeplot(train_df[col].dropna(), label='train', ax=axis[0])\n",
    "    ax2 = sns.kdeplot(test_df[col].dropna(), label='test', ax=axis[0])\n",
    "    ax3 = sns.kdeplot(np.log(train_df[col].dropna()), label='train', ax=axis[1])\n",
    "    ax4 = sns.kdeplot(np.log(test_df[col].dropna()), label='test', ax=axis[1])"
   ]
  },
  {
   "cell_type": "code",
   "execution_count": null,
   "metadata": {},
   "outputs": [],
   "source": [
    "train_test_distribution('totals_transactionRevenue')"
   ]
  },
  {
   "cell_type": "markdown",
   "metadata": {},
   "source": [
    "### Missing values filling"
   ]
  },
  {
   "cell_type": "code",
   "execution_count": 40,
   "metadata": {},
   "outputs": [],
   "source": [
    "def fill_nans(df):\n",
    "    \n",
    "    \n",
    "    df['channelGrouping'].fillna('Organic Search', inplace=True) # few nans, a lot of \"Organic Search\"\n",
    "    df['device_browser'].fillna('Chrome', inplace=True) # few nans, a lot of \"Chrome\"\n",
    "    df['device_operatingSystem'].fillna('unknown', inplace=True) # no predominance of any value, quite a bit of nans, keep separated category\n",
    "    df['totals_pageviews'].fillna(1, inplace=True) # many 1s, nans do not bring any revenue -> nans become 1s\n",
    "    df['trafficSource_medium'].fillna('unknown', inplace=True) # seems to be the same\n",
    "    df['trafficSource_source'].fillna('unknown', inplace = True) # seems to be the same\n",
    "    df['customDimensions'].fillna('unknown', inplace = True)\n",
    "    \n",
    "    \n",
    "    df['geoNetwork_continent'].fillna('unknown', inplace=True)# keep separate category\n",
    "    df['geoNetwork_country'].fillna('unknown', inplace=True)# keep separate category\n",
    "    df['geoNetwork_subContinent'].fillna('unknown', inplace=True)# keep separate category\n",
    "\n",
    "    # Targets\n",
    "    df['totals_transactionRevenue'].fillna(0, inplace=True)\n",
    "    df['totals_transactions'].fillna(0, inplace=True)\n",
    "    df['totals_totalTransactionRevenue'].fillna(0, inplace=True)\n",
    "    \n",
    "    \n",
    "    # Features with huge amout of nans\n",
    "    df['totals_timeOnSite'].fillna(0, inplace=True) # to be decided together\n",
    "    df['totals_sessionQualityDim'].fillna(0, inplace=True) # 1 means bad quality, and is the most frequent value. Anyway putting 0 may be significative\n",
    "    df['geoNetwork_city'].fillna('unknown', inplace=True)\n",
    "    df['geoNetwork_metro'].fillna('unknown', inplace=True)\n",
    "    df['geoNetwork_networkDomain'].fillna('unknown', inplace=True)\n",
    "    df['geoNetwork_region'].fillna('unknown', inplace=True)\n",
    "    df['totals_bounces'].fillna(0, inplace=True) # nan and 1\n",
    "    df['trafficSource_adContent'].fillna('unknown', inplace=True)\n",
    "    df['trafficSource_adwordsClickInfo.adNetworkType'].fillna('unknown', inplace=True)\n",
    "    df['trafficSource_adwordsClickInfo.gclId'].fillna('unknown', inplace=True)\n",
    "    df['trafficSource_adwordsClickInfo.isVideoAd'].fillna(True, inplace=True) # nan and False\n",
    "    df['trafficSource_adwordsClickInfo.page'].fillna(0, inplace=True) # 0 is not cointained in the set\n",
    "    df['trafficSource_adwordsClickInfo.slot'].fillna('unknown', inplace=True)\n",
    "    df['trafficSource_campaign'].fillna('unknown', inplace=True)\n",
    "    df['trafficSource_isTrueDirect'].fillna(False, inplace=True) # nan and True\n",
    "    df['trafficSource_keyword'].fillna('unknown', inplace=True)\n",
    "    df['trafficSource_referralPath'].fillna('unknown', inplace=True)\n",
    "    df['totals_newVisits'].fillna(0, inplace=True)# totals.newVisits is always == nan when visitNumber > 1, we keep it for now but it will be dropped eventually\n",
    "\n",
    "    return df"
   ]
  },
  {
   "cell_type": "code",
   "execution_count": 41,
   "metadata": {},
   "outputs": [],
   "source": [
    "train_df = fill_nans(train_df)\n",
    "test_df = fill_nans(test_df)"
   ]
  },
  {
   "cell_type": "code",
   "execution_count": 42,
   "metadata": {
    "scrolled": true
   },
   "outputs": [
    {
     "data": {
      "text/plain": [
       "channelGrouping                                 0\n",
       "customDimensions                                0\n",
       "fullVisitorId                                   0\n",
       "visitId                                         0\n",
       "visitNumber                                     0\n",
       "visitStartTime                                  0\n",
       "device_browser                                  0\n",
       "device_deviceCategory                           0\n",
       "device_isMobile                                 0\n",
       "device_operatingSystem                          0\n",
       "geoNetwork_city                                 0\n",
       "geoNetwork_continent                            0\n",
       "geoNetwork_country                              0\n",
       "geoNetwork_metro                                0\n",
       "geoNetwork_networkDomain                        0\n",
       "geoNetwork_region                               0\n",
       "geoNetwork_subContinent                         0\n",
       "totals_bounces                                  0\n",
       "totals_hits                                     0\n",
       "totals_newVisits                                0\n",
       "totals_pageviews                                0\n",
       "totals_sessionQualityDim                        0\n",
       "totals_timeOnSite                               0\n",
       "totals_totalTransactionRevenue                  0\n",
       "totals_transactionRevenue                       0\n",
       "totals_transactions                             0\n",
       "trafficSource_adContent                         0\n",
       "trafficSource_adwordsClickInfo.adNetworkType    0\n",
       "trafficSource_adwordsClickInfo.gclId            0\n",
       "trafficSource_adwordsClickInfo.isVideoAd        0\n",
       "trafficSource_adwordsClickInfo.page             0\n",
       "trafficSource_adwordsClickInfo.slot             0\n",
       "trafficSource_campaign                          0\n",
       "trafficSource_isTrueDirect                      0\n",
       "trafficSource_keyword                           0\n",
       "trafficSource_medium                            0\n",
       "trafficSource_referralPath                      0\n",
       "trafficSource_source                            0\n",
       "dtype: int64"
      ]
     },
     "execution_count": 42,
     "metadata": {},
     "output_type": "execute_result"
    }
   ],
   "source": [
    "train_df.isnull().sum()"
   ]
  },
  {
   "cell_type": "markdown",
   "metadata": {},
   "source": [
    "### Cast numerical features to float"
   ]
  },
  {
   "cell_type": "code",
   "execution_count": null,
   "metadata": {},
   "outputs": [],
   "source": [
    "# float_features = ['visitId', 'visitNumber', 'visitStartTime', 'totals.bounces', 'totals.hits',\n",
    "#                  'totals.newVisits', 'totals.pageviews', 'trafficSource.adwordsClickInfo.page',\n",
    "#                  'trafficSource.isTrueDirect']\n",
    "\n",
    "# for col in float_features:\n",
    "#     train_df[col] = train_df[col].astype(float)\n",
    "#     test_df[col] = test_df[col].astype(float)"
   ]
  },
  {
   "cell_type": "markdown",
   "metadata": {},
   "source": [
    "### Cast string categorical features to lower case"
   ]
  },
  {
   "cell_type": "code",
   "execution_count": 30,
   "metadata": {},
   "outputs": [],
   "source": [
    "string_features = ['channelGrouping', 'customDimensions', 'device_browser', 'device_deviceCategory',\n",
    "                  'device_operatingSystem', 'geoNetwork_city', 'geoNetwork_continent', 'geoNetwork_country',\n",
    "                  'geoNetwork_metro', 'geoNetwork_networkDomain', 'geoNetwork_region', 'geoNetwork_subContinent',\n",
    "                  'trafficSource_adContent', 'trafficSource_adwordsClickInfo.adNetworkType', 'trafficSource_adwordsClickInfo.gclId',\n",
    "                  'trafficSource_adwordsClickInfo.slot', 'trafficSource_campaign', 'trafficSource_referralPath',\n",
    "                  'trafficSource_medium', 'trafficSource_source', 'trafficSource_keyword']\n",
    "\n",
    "for col in string_features:\n",
    "    train_df[col] = train_df[col].str.lower().astype(str)\n",
    "    train_df[col] = train_df[col].astype(str)\n",
    "    test_df[col] = test_df[col].str.lower().astype(str)\n",
    "    test_df[col] = test_df[col].astype(str)"
   ]
  },
  {
   "cell_type": "code",
   "execution_count": 31,
   "metadata": {},
   "outputs": [
    {
     "data": {
      "text/html": [
       "<div>\n",
       "<style scoped>\n",
       "    .dataframe tbody tr th:only-of-type {\n",
       "        vertical-align: middle;\n",
       "    }\n",
       "\n",
       "    .dataframe tbody tr th {\n",
       "        vertical-align: top;\n",
       "    }\n",
       "\n",
       "    .dataframe thead th {\n",
       "        text-align: right;\n",
       "    }\n",
       "</style>\n",
       "<table border=\"1\" class=\"dataframe\">\n",
       "  <thead>\n",
       "    <tr style=\"text-align: right;\">\n",
       "      <th></th>\n",
       "      <th>channelGrouping</th>\n",
       "      <th>customDimensions</th>\n",
       "      <th>date</th>\n",
       "      <th>fullVisitorId</th>\n",
       "      <th>visitId</th>\n",
       "      <th>visitNumber</th>\n",
       "      <th>visitStartTime</th>\n",
       "      <th>device_browser</th>\n",
       "      <th>device_deviceCategory</th>\n",
       "      <th>device_isMobile</th>\n",
       "      <th>...</th>\n",
       "      <th>trafficSource_adwordsClickInfo.gclId</th>\n",
       "      <th>trafficSource_adwordsClickInfo.isVideoAd</th>\n",
       "      <th>trafficSource_adwordsClickInfo.page</th>\n",
       "      <th>trafficSource_adwordsClickInfo.slot</th>\n",
       "      <th>trafficSource_campaign</th>\n",
       "      <th>trafficSource_isTrueDirect</th>\n",
       "      <th>trafficSource_keyword</th>\n",
       "      <th>trafficSource_medium</th>\n",
       "      <th>trafficSource_referralPath</th>\n",
       "      <th>trafficSource_source</th>\n",
       "    </tr>\n",
       "  </thead>\n",
       "  <tbody>\n",
       "    <tr>\n",
       "      <th>0</th>\n",
       "      <td>organic search</td>\n",
       "      <td>[{'index': '4', 'value': 'emea'}]</td>\n",
       "      <td>20171016</td>\n",
       "      <td>3162355547410993243</td>\n",
       "      <td>1508198450</td>\n",
       "      <td>1</td>\n",
       "      <td>1508198450</td>\n",
       "      <td>firefox</td>\n",
       "      <td>desktop</td>\n",
       "      <td>False</td>\n",
       "      <td>...</td>\n",
       "      <td>unknown</td>\n",
       "      <td>True</td>\n",
       "      <td>0.0</td>\n",
       "      <td>unknown</td>\n",
       "      <td>unknown</td>\n",
       "      <td>False</td>\n",
       "      <td>water bottle</td>\n",
       "      <td>organic</td>\n",
       "      <td>unknown</td>\n",
       "      <td>google</td>\n",
       "    </tr>\n",
       "    <tr>\n",
       "      <th>1</th>\n",
       "      <td>referral</td>\n",
       "      <td>[{'index': '4', 'value': 'north america'}]</td>\n",
       "      <td>20171016</td>\n",
       "      <td>8934116514970143966</td>\n",
       "      <td>1508176307</td>\n",
       "      <td>6</td>\n",
       "      <td>1508176307</td>\n",
       "      <td>chrome</td>\n",
       "      <td>desktop</td>\n",
       "      <td>False</td>\n",
       "      <td>...</td>\n",
       "      <td>unknown</td>\n",
       "      <td>True</td>\n",
       "      <td>0.0</td>\n",
       "      <td>unknown</td>\n",
       "      <td>unknown</td>\n",
       "      <td>False</td>\n",
       "      <td>unknown</td>\n",
       "      <td>referral</td>\n",
       "      <td>/a/google.com/transportation/mtv-services/bike...</td>\n",
       "      <td>sites.google.com</td>\n",
       "    </tr>\n",
       "    <tr>\n",
       "      <th>2</th>\n",
       "      <td>direct</td>\n",
       "      <td>[{'index': '4', 'value': 'north america'}]</td>\n",
       "      <td>20171016</td>\n",
       "      <td>7992466427990357681</td>\n",
       "      <td>1508201613</td>\n",
       "      <td>1</td>\n",
       "      <td>1508201613</td>\n",
       "      <td>chrome</td>\n",
       "      <td>mobile</td>\n",
       "      <td>True</td>\n",
       "      <td>...</td>\n",
       "      <td>unknown</td>\n",
       "      <td>True</td>\n",
       "      <td>0.0</td>\n",
       "      <td>unknown</td>\n",
       "      <td>unknown</td>\n",
       "      <td>True</td>\n",
       "      <td>unknown</td>\n",
       "      <td>unknown</td>\n",
       "      <td>unknown</td>\n",
       "      <td>(direct)</td>\n",
       "    </tr>\n",
       "    <tr>\n",
       "      <th>3</th>\n",
       "      <td>organic search</td>\n",
       "      <td>[{'index': '4', 'value': 'emea'}]</td>\n",
       "      <td>20171016</td>\n",
       "      <td>9075655783635761930</td>\n",
       "      <td>1508169851</td>\n",
       "      <td>1</td>\n",
       "      <td>1508169851</td>\n",
       "      <td>chrome</td>\n",
       "      <td>desktop</td>\n",
       "      <td>False</td>\n",
       "      <td>...</td>\n",
       "      <td>unknown</td>\n",
       "      <td>True</td>\n",
       "      <td>0.0</td>\n",
       "      <td>unknown</td>\n",
       "      <td>unknown</td>\n",
       "      <td>False</td>\n",
       "      <td>unknown</td>\n",
       "      <td>organic</td>\n",
       "      <td>unknown</td>\n",
       "      <td>google</td>\n",
       "    </tr>\n",
       "    <tr>\n",
       "      <th>4</th>\n",
       "      <td>organic search</td>\n",
       "      <td>[{'index': '4', 'value': 'central america'}]</td>\n",
       "      <td>20171016</td>\n",
       "      <td>6960673291025684308</td>\n",
       "      <td>1508190552</td>\n",
       "      <td>1</td>\n",
       "      <td>1508190552</td>\n",
       "      <td>chrome</td>\n",
       "      <td>desktop</td>\n",
       "      <td>False</td>\n",
       "      <td>...</td>\n",
       "      <td>unknown</td>\n",
       "      <td>True</td>\n",
       "      <td>0.0</td>\n",
       "      <td>unknown</td>\n",
       "      <td>unknown</td>\n",
       "      <td>False</td>\n",
       "      <td>unknown</td>\n",
       "      <td>organic</td>\n",
       "      <td>unknown</td>\n",
       "      <td>google</td>\n",
       "    </tr>\n",
       "  </tbody>\n",
       "</table>\n",
       "<p>5 rows × 39 columns</p>\n",
       "</div>"
      ],
      "text/plain": [
       "  channelGrouping                              customDimensions      date  \\\n",
       "0  organic search             [{'index': '4', 'value': 'emea'}]  20171016   \n",
       "1        referral    [{'index': '4', 'value': 'north america'}]  20171016   \n",
       "2          direct    [{'index': '4', 'value': 'north america'}]  20171016   \n",
       "3  organic search             [{'index': '4', 'value': 'emea'}]  20171016   \n",
       "4  organic search  [{'index': '4', 'value': 'central america'}]  20171016   \n",
       "\n",
       "         fullVisitorId     visitId  visitNumber  visitStartTime  \\\n",
       "0  3162355547410993243  1508198450            1      1508198450   \n",
       "1  8934116514970143966  1508176307            6      1508176307   \n",
       "2  7992466427990357681  1508201613            1      1508201613   \n",
       "3  9075655783635761930  1508169851            1      1508169851   \n",
       "4  6960673291025684308  1508190552            1      1508190552   \n",
       "\n",
       "  device_browser device_deviceCategory  device_isMobile          ...           \\\n",
       "0        firefox               desktop            False          ...            \n",
       "1         chrome               desktop            False          ...            \n",
       "2         chrome                mobile             True          ...            \n",
       "3         chrome               desktop            False          ...            \n",
       "4         chrome               desktop            False          ...            \n",
       "\n",
       "  trafficSource_adwordsClickInfo.gclId  \\\n",
       "0                              unknown   \n",
       "1                              unknown   \n",
       "2                              unknown   \n",
       "3                              unknown   \n",
       "4                              unknown   \n",
       "\n",
       "  trafficSource_adwordsClickInfo.isVideoAd  \\\n",
       "0                                     True   \n",
       "1                                     True   \n",
       "2                                     True   \n",
       "3                                     True   \n",
       "4                                     True   \n",
       "\n",
       "  trafficSource_adwordsClickInfo.page trafficSource_adwordsClickInfo.slot  \\\n",
       "0                                 0.0                             unknown   \n",
       "1                                 0.0                             unknown   \n",
       "2                                 0.0                             unknown   \n",
       "3                                 0.0                             unknown   \n",
       "4                                 0.0                             unknown   \n",
       "\n",
       "  trafficSource_campaign trafficSource_isTrueDirect trafficSource_keyword  \\\n",
       "0                unknown                      False          water bottle   \n",
       "1                unknown                      False               unknown   \n",
       "2                unknown                       True               unknown   \n",
       "3                unknown                      False               unknown   \n",
       "4                unknown                      False               unknown   \n",
       "\n",
       "  trafficSource_medium                         trafficSource_referralPath  \\\n",
       "0              organic                                            unknown   \n",
       "1             referral  /a/google.com/transportation/mtv-services/bike...   \n",
       "2              unknown                                            unknown   \n",
       "3              organic                                            unknown   \n",
       "4              organic                                            unknown   \n",
       "\n",
       "   trafficSource_source  \n",
       "0                google  \n",
       "1      sites.google.com  \n",
       "2              (direct)  \n",
       "3                google  \n",
       "4                google  \n",
       "\n",
       "[5 rows x 39 columns]"
      ]
     },
     "execution_count": 31,
     "metadata": {},
     "output_type": "execute_result"
    }
   ],
   "source": [
    "train_df.head()"
   ]
  },
  {
   "cell_type": "markdown",
   "metadata": {},
   "source": [
    "### NOTE: the next step is optional (may improve performances but it has to be tested)"
   ]
  },
  {
   "cell_type": "markdown",
   "metadata": {},
   "source": [
    "### Cleaning rare categories"
   ]
  },
  {
   "cell_type": "code",
   "execution_count": null,
   "metadata": {},
   "outputs": [],
   "source": [
    "# Actually we have no longer missing values, and we can manage the problem of the rare categories\n",
    "# We group them in an overfeature\n",
    "def clear_rare_categories(df, feature, limit = 900):\n",
    "\n",
    "    vc = df[feature].value_counts()\n",
    "    \n",
    "    common = vc > limit\n",
    "    common = set(common.index[common].values)\n",
    "    print(\"Set\", sum(vc <= limit), feature, \"categories to 'other';\", end=\" \")\n",
    "    \n",
    "    df.loc[df[feature].map(lambda x: x not in common), feature] = 'other'\n",
    "    print(\"now there are\", df[feature].nunique(), \"categories\")\n",
    "    \n",
    "    return df"
   ]
  },
  {
   "cell_type": "code",
   "execution_count": null,
   "metadata": {
    "scrolled": true
   },
   "outputs": [],
   "source": [
    "# to be chacked better!!!\n",
    "\n",
    "# There are features that we don't want to modify\n",
    "raw_features = [\n",
    "\"channelGrouping\",\n",
    "\"device.browser\",\n",
    "\"device.deviceCategory\",\n",
    "\"device.isMobile\",\n",
    "\"device.operatingSystem\",\n",
    "\"geoNetwork.city\",\n",
    "\"geoNetwork.continent\",\n",
    "\"geoNetwork.country\",\n",
    "\"geoNetwork.metro\",\n",
    "\"geoNetwork.networkDomain\",\n",
    "\"geoNetwork.region\",\n",
    "\"geoNetwork.subContinent\",\n",
    "\"totals.bounces\",\n",
    "\"totals.newVisits\",\n",
    "\"trafficSource.adContent\",\n",
    "\"trafficSource.adwordsClickInfo.adNetworkType\",\n",
    "# \"trafficSource.adwordsClickInfo.isVideoAd\",\n",
    "\"trafficSource.adwordsClickInfo.slot\",\n",
    "\"trafficSource.campaign\",\n",
    "\"trafficSource.isTrueDirect\",\n",
    "\"trafficSource.keyword\",\n",
    "\"trafficSource.medium\",\n",
    "\"trafficSource.referralPath\",\n",
    "\"trafficSource.source\"\n",
    "]\n",
    "\n",
    "\n",
    "for feat in raw_features:\n",
    "    print(\"\\nTRAIN:\\n\")\n",
    "    train_df = clear_rare_categories(train_df, feat)\n",
    "    print(\"\\nTEST:\\n\")\n",
    "    test_df = clear_rare_categories(test_df, feat)\n",
    "    \n",
    "#     if(train_df[feat].nunique() != test_df[feat].nunique()):\n",
    "#         print(\"\\n\\n\\nWARNING:\\n\")\n"
   ]
  },
  {
   "cell_type": "code",
   "execution_count": null,
   "metadata": {},
   "outputs": [],
   "source": [
    "for i in train_df.columns:    \n",
    "    if len(train_df[i].unique()) <= 100:\n",
    "        print(i + '\\n')\n",
    "        print(train_df[i].unique())\n",
    "        print('\\n')"
   ]
  },
  {
   "cell_type": "code",
   "execution_count": null,
   "metadata": {
    "scrolled": true
   },
   "outputs": [],
   "source": [
    "#check again number of categories in each variable (eg column)\n",
    "for c in train_df.columns:\n",
    "    print(c, len(np.unique(train_df[c].astype(str))))"
   ]
  },
  {
   "cell_type": "markdown",
   "metadata": {},
   "source": [
    "### Drop meaningless columns"
   ]
  },
  {
   "cell_type": "code",
   "execution_count": 43,
   "metadata": {},
   "outputs": [
    {
     "data": {
      "text/plain": [
       "((1708337, 38), (401589, 38))"
      ]
     },
     "execution_count": 43,
     "metadata": {},
     "output_type": "execute_result"
    }
   ],
   "source": [
    "meaningless_columns =[]\n",
    "\n",
    "def drop_meaningless_columns(df, meaningless_columns):\n",
    "    df.drop(meaningless_columns, axis=1, inplace=True)\n",
    "    return df\n",
    "\n",
    "train_df = drop_meaningless_columns(train_df, meaningless_columns)\n",
    "test_df = drop_meaningless_columns(test_df, meaningless_columns)\n",
    "train_df.shape, test_df.shape"
   ]
  },
  {
   "cell_type": "code",
   "execution_count": null,
   "metadata": {},
   "outputs": [],
   "source": [
    "\"\"\"\n",
    "\n",
    "meaningless_columns = [\n",
    "    'geoNetwork.city', 'geoNetwork.metro', 'geoNetwork.networkDomain', 'geoNetwork.region',\n",
    "    'totals.bounces',\n",
    "    'trafficSource.adContent', 'trafficSource.adwordsClickInfo.adNetworkType', 'trafficSource.adwordsClickInfo.gclId',\n",
    "    'trafficSource.adwordsClickInfo.isVideoAd', 'trafficSource.adwordsClickInfo.page', 'trafficSource.adwordsClickInfo.slot',\n",
    "    'trafficSource.campaign', 'trafficSource.isTrueDirect', 'trafficSource.keyword', 'trafficSource.referralPath'   \n",
    "]\n",
    "\n",
    "#NO DROP VERSION\n",
    "for i in meaningless_columns:\n",
    "    if train_df[i].dtype == float:\n",
    "\n",
    "        train_df[i].fillna(0, inplace=True)\n",
    "        test_df[i].fillna(0, inplace=True)\n",
    "    else:\n",
    "        print(i)        \n",
    "        train_df[i].fillna('(other)', inplace=True)\n",
    "        test_df[i].fillna('(other)', inplace=True)    \n",
    "\n",
    "def drop_meaningless_columns(df, meaningless_columns):\n",
    "    df.drop(meaningless_columns, axis=1, inplace=True)\n",
    "    return df\n",
    "\n",
    "#train_df = drop_meaningless_columns(train_df, meaningless_columns)\n",
    "#test_df = drop_meaningless_columns(test_df, meaningless_columns)\n",
    "train_df.shape, test_df.shape\n",
    "\n",
    "\"\"\""
   ]
  },
  {
   "cell_type": "markdown",
   "metadata": {},
   "source": [
    "### NOTE: the next step is optional"
   ]
  },
  {
   "cell_type": "markdown",
   "metadata": {},
   "source": [
    "###  Label encoder"
   ]
  },
  {
   "cell_type": "code",
   "execution_count": null,
   "metadata": {},
   "outputs": [],
   "source": [
    "from sklearn import preprocessing\n",
    "\n",
    "for col in string_features:\n",
    "    print(col)\n",
    "    lbl = preprocessing.LabelEncoder()\n",
    "    lbl.fit(list(train_df[col].values.astype('str')) + list(test_df[col].values.astype('str')))\n",
    "    train_df[col] = lbl.transform(list(train_df[col].values.astype('str')))\n",
    "    test_df[col] = lbl.transform(list(test_df[col].values.astype('str')))"
   ]
  },
  {
   "cell_type": "markdown",
   "metadata": {},
   "source": [
    "### Export Dataframes"
   ]
  },
  {
   "cell_type": "code",
   "execution_count": 44,
   "metadata": {},
   "outputs": [],
   "source": [
    "train_df.to_csv('preprocessed_train_v2(3).csv', index = False)\n",
    "test_df.to_csv('preprocessed_test_v2(3).csv', index = False)"
   ]
  }
 ],
 "metadata": {
  "kernelspec": {
   "display_name": "Python 3",
   "language": "python",
   "name": "python3"
  },
  "language_info": {
   "codemirror_mode": {
    "name": "ipython",
    "version": 3
   },
   "file_extension": ".py",
   "mimetype": "text/x-python",
   "name": "python",
   "nbconvert_exporter": "python",
   "pygments_lexer": "ipython3",
   "version": "3.7.0"
  }
 },
 "nbformat": 4,
 "nbformat_minor": 2
}
