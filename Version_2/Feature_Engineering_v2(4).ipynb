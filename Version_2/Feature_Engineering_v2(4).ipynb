{
 "cells": [
  {
   "cell_type": "code",
   "execution_count": 1,
   "metadata": {},
   "outputs": [],
   "source": [
    "import pandas as pd\n",
    "import numpy as np\n",
    "import matplotlib.pyplot as plt\n",
    "\n",
    "# Random seed for reproducibility\n",
    "seed = 202\n",
    "np.random.seed(seed)\n",
    "\n",
    "# Ignore warnings\n",
    "import warnings\n",
    "warnings.simplefilter('ignore')\n",
    "\n",
    "# Garbage collector\n",
    "import gc\n",
    "gc.enable()"
   ]
  },
  {
   "cell_type": "code",
   "execution_count": 2,
   "metadata": {
    "scrolled": true
   },
   "outputs": [
    {
     "data": {
      "text/plain": [
       "((1708337, 38), (401589, 38))"
      ]
     },
     "execution_count": 2,
     "metadata": {},
     "output_type": "execute_result"
    }
   ],
   "source": [
    "# Import the preprocessed dataframes\n",
    "train_raw_df = pd.read_csv(\"preprocessed_train_v2(3).csv\",\n",
    "    dtype={'fullVisitorId': str}, nrows=None)\n",
    "test_raw_df = pd.read_csv(\"preprocessed_test_v2(3).csv\",\n",
    "    dtype={'fullVisitorId': str}, nrows=None)\n",
    "train_raw_df.shape, test_raw_df.shape"
   ]
  },
  {
   "cell_type": "code",
   "execution_count": 3,
   "metadata": {},
   "outputs": [
    {
     "data": {
      "text/html": [
       "<div>\n",
       "<style scoped>\n",
       "    .dataframe tbody tr th:only-of-type {\n",
       "        vertical-align: middle;\n",
       "    }\n",
       "\n",
       "    .dataframe tbody tr th {\n",
       "        vertical-align: top;\n",
       "    }\n",
       "\n",
       "    .dataframe thead th {\n",
       "        text-align: right;\n",
       "    }\n",
       "</style>\n",
       "<table border=\"1\" class=\"dataframe\">\n",
       "  <thead>\n",
       "    <tr style=\"text-align: right;\">\n",
       "      <th></th>\n",
       "      <th>channelGrouping</th>\n",
       "      <th>customDimensions</th>\n",
       "      <th>fullVisitorId</th>\n",
       "      <th>visitId</th>\n",
       "      <th>visitNumber</th>\n",
       "      <th>visitStartTime</th>\n",
       "      <th>device_browser</th>\n",
       "      <th>device_deviceCategory</th>\n",
       "      <th>device_isMobile</th>\n",
       "      <th>device_operatingSystem</th>\n",
       "      <th>...</th>\n",
       "      <th>trafficSource_adwordsClickInfo.gclId</th>\n",
       "      <th>trafficSource_adwordsClickInfo.isVideoAd</th>\n",
       "      <th>trafficSource_adwordsClickInfo.page</th>\n",
       "      <th>trafficSource_adwordsClickInfo.slot</th>\n",
       "      <th>trafficSource_campaign</th>\n",
       "      <th>trafficSource_isTrueDirect</th>\n",
       "      <th>trafficSource_keyword</th>\n",
       "      <th>trafficSource_medium</th>\n",
       "      <th>trafficSource_referralPath</th>\n",
       "      <th>trafficSource_source</th>\n",
       "    </tr>\n",
       "  </thead>\n",
       "  <tbody>\n",
       "    <tr>\n",
       "      <th>0</th>\n",
       "      <td>3</td>\n",
       "      <td>2</td>\n",
       "      <td>3162355547410993243</td>\n",
       "      <td>1508198450</td>\n",
       "      <td>1</td>\n",
       "      <td>1508198450</td>\n",
       "      <td>6</td>\n",
       "      <td>0</td>\n",
       "      <td>False</td>\n",
       "      <td>5</td>\n",
       "      <td>...</td>\n",
       "      <td>1</td>\n",
       "      <td>True</td>\n",
       "      <td>0.0</td>\n",
       "      <td>4</td>\n",
       "      <td>13</td>\n",
       "      <td>False</td>\n",
       "      <td>11</td>\n",
       "      <td>3</td>\n",
       "      <td>58</td>\n",
       "      <td>9</td>\n",
       "    </tr>\n",
       "    <tr>\n",
       "      <th>1</th>\n",
       "      <td>5</td>\n",
       "      <td>3</td>\n",
       "      <td>8934116514970143966</td>\n",
       "      <td>1508176307</td>\n",
       "      <td>6</td>\n",
       "      <td>1508176307</td>\n",
       "      <td>3</td>\n",
       "      <td>0</td>\n",
       "      <td>False</td>\n",
       "      <td>1</td>\n",
       "      <td>...</td>\n",
       "      <td>1</td>\n",
       "      <td>True</td>\n",
       "      <td>0.0</td>\n",
       "      <td>4</td>\n",
       "      <td>13</td>\n",
       "      <td>False</td>\n",
       "      <td>12</td>\n",
       "      <td>4</td>\n",
       "      <td>57</td>\n",
       "      <td>21</td>\n",
       "    </tr>\n",
       "    <tr>\n",
       "      <th>2</th>\n",
       "      <td>1</td>\n",
       "      <td>3</td>\n",
       "      <td>7992466427990357681</td>\n",
       "      <td>1508201613</td>\n",
       "      <td>1</td>\n",
       "      <td>1508201613</td>\n",
       "      <td>3</td>\n",
       "      <td>1</td>\n",
       "      <td>True</td>\n",
       "      <td>0</td>\n",
       "      <td>...</td>\n",
       "      <td>1</td>\n",
       "      <td>True</td>\n",
       "      <td>0.0</td>\n",
       "      <td>4</td>\n",
       "      <td>13</td>\n",
       "      <td>True</td>\n",
       "      <td>12</td>\n",
       "      <td>5</td>\n",
       "      <td>58</td>\n",
       "      <td>0</td>\n",
       "    </tr>\n",
       "    <tr>\n",
       "      <th>3</th>\n",
       "      <td>3</td>\n",
       "      <td>2</td>\n",
       "      <td>9075655783635761930</td>\n",
       "      <td>1508169851</td>\n",
       "      <td>1</td>\n",
       "      <td>1508169851</td>\n",
       "      <td>3</td>\n",
       "      <td>0</td>\n",
       "      <td>False</td>\n",
       "      <td>5</td>\n",
       "      <td>...</td>\n",
       "      <td>1</td>\n",
       "      <td>True</td>\n",
       "      <td>0.0</td>\n",
       "      <td>4</td>\n",
       "      <td>13</td>\n",
       "      <td>False</td>\n",
       "      <td>12</td>\n",
       "      <td>3</td>\n",
       "      <td>58</td>\n",
       "      <td>9</td>\n",
       "    </tr>\n",
       "    <tr>\n",
       "      <th>4</th>\n",
       "      <td>3</td>\n",
       "      <td>1</td>\n",
       "      <td>6960673291025684308</td>\n",
       "      <td>1508190552</td>\n",
       "      <td>1</td>\n",
       "      <td>1508190552</td>\n",
       "      <td>3</td>\n",
       "      <td>0</td>\n",
       "      <td>False</td>\n",
       "      <td>5</td>\n",
       "      <td>...</td>\n",
       "      <td>1</td>\n",
       "      <td>True</td>\n",
       "      <td>0.0</td>\n",
       "      <td>4</td>\n",
       "      <td>13</td>\n",
       "      <td>False</td>\n",
       "      <td>12</td>\n",
       "      <td>3</td>\n",
       "      <td>58</td>\n",
       "      <td>9</td>\n",
       "    </tr>\n",
       "  </tbody>\n",
       "</table>\n",
       "<p>5 rows × 38 columns</p>\n",
       "</div>"
      ],
      "text/plain": [
       "   channelGrouping  customDimensions        fullVisitorId     visitId  \\\n",
       "0                3                 2  3162355547410993243  1508198450   \n",
       "1                5                 3  8934116514970143966  1508176307   \n",
       "2                1                 3  7992466427990357681  1508201613   \n",
       "3                3                 2  9075655783635761930  1508169851   \n",
       "4                3                 1  6960673291025684308  1508190552   \n",
       "\n",
       "   visitNumber  visitStartTime  device_browser  device_deviceCategory  \\\n",
       "0            1      1508198450               6                      0   \n",
       "1            6      1508176307               3                      0   \n",
       "2            1      1508201613               3                      1   \n",
       "3            1      1508169851               3                      0   \n",
       "4            1      1508190552               3                      0   \n",
       "\n",
       "   device_isMobile  device_operatingSystem          ...           \\\n",
       "0            False                       5          ...            \n",
       "1            False                       1          ...            \n",
       "2             True                       0          ...            \n",
       "3            False                       5          ...            \n",
       "4            False                       5          ...            \n",
       "\n",
       "   trafficSource_adwordsClickInfo.gclId  \\\n",
       "0                                     1   \n",
       "1                                     1   \n",
       "2                                     1   \n",
       "3                                     1   \n",
       "4                                     1   \n",
       "\n",
       "   trafficSource_adwordsClickInfo.isVideoAd  \\\n",
       "0                                      True   \n",
       "1                                      True   \n",
       "2                                      True   \n",
       "3                                      True   \n",
       "4                                      True   \n",
       "\n",
       "   trafficSource_adwordsClickInfo.page  trafficSource_adwordsClickInfo.slot  \\\n",
       "0                                  0.0                                    4   \n",
       "1                                  0.0                                    4   \n",
       "2                                  0.0                                    4   \n",
       "3                                  0.0                                    4   \n",
       "4                                  0.0                                    4   \n",
       "\n",
       "   trafficSource_campaign  trafficSource_isTrueDirect  trafficSource_keyword  \\\n",
       "0                      13                       False                     11   \n",
       "1                      13                       False                     12   \n",
       "2                      13                        True                     12   \n",
       "3                      13                       False                     12   \n",
       "4                      13                       False                     12   \n",
       "\n",
       "   trafficSource_medium  trafficSource_referralPath  trafficSource_source  \n",
       "0                     3                          58                     9  \n",
       "1                     4                          57                    21  \n",
       "2                     5                          58                     0  \n",
       "3                     3                          58                     9  \n",
       "4                     3                          58                     9  \n",
       "\n",
       "[5 rows x 38 columns]"
      ]
     },
     "execution_count": 3,
     "metadata": {},
     "output_type": "execute_result"
    }
   ],
   "source": [
    "train_raw_df.head()"
   ]
  },
  {
   "cell_type": "markdown",
   "metadata": {},
   "source": [
    "### Convert visitStartTime to different data features"
   ]
  },
  {
   "cell_type": "code",
   "execution_count": 4,
   "metadata": {},
   "outputs": [],
   "source": [
    "def expand_visit_start_time(df):\n",
    "    df['full_date'] = pd.to_datetime(df['visitStartTime'], unit='s')\n",
    "    df['date'] = df['full_date'].dt.date\n",
    "    df['day_of_week'] = df['full_date'].dt.dayofweek\n",
    "    df['hour_of_day'] = df['full_date'].dt.hour\n",
    "    df['day_of_month'] = df['full_date'].dt.day\n",
    "    df['week_of_year'] = df['full_date'].dt.weekofyear\n",
    "    \n",
    "    # Drop date column\n",
    "    df.drop(['full_date'], axis=1, inplace=True)\n",
    "    df.drop(['visitStartTime'], axis=1, inplace=True)\n",
    "    return df"
   ]
  },
  {
   "cell_type": "markdown",
   "metadata": {},
   "source": [
    "##### add here new features"
   ]
  },
  {
   "cell_type": "code",
   "execution_count": null,
   "metadata": {},
   "outputs": [],
   "source": []
  },
  {
   "cell_type": "code",
   "execution_count": null,
   "metadata": {},
   "outputs": [],
   "source": []
  },
  {
   "cell_type": "code",
   "execution_count": 5,
   "metadata": {},
   "outputs": [],
   "source": [
    "def apply_feature_engineering(df):\n",
    "    \n",
    "    df = expand_visit_start_time(df)\n",
    "     \n",
    "    return df"
   ]
  },
  {
   "cell_type": "markdown",
   "metadata": {},
   "source": [
    "### Checkpoint"
   ]
  },
  {
   "cell_type": "code",
   "execution_count": 6,
   "metadata": {},
   "outputs": [
    {
     "data": {
      "text/plain": [
       "((1708337, 42), (401589, 42))"
      ]
     },
     "execution_count": 6,
     "metadata": {},
     "output_type": "execute_result"
    }
   ],
   "source": [
    "train_df = apply_feature_engineering(train_raw_df)\n",
    "test_df = apply_feature_engineering(test_raw_df)\n",
    "train_df.shape, test_df.shape"
   ]
  },
  {
   "cell_type": "code",
   "execution_count": 7,
   "metadata": {},
   "outputs": [
    {
     "data": {
      "text/html": [
       "<div>\n",
       "<style scoped>\n",
       "    .dataframe tbody tr th:only-of-type {\n",
       "        vertical-align: middle;\n",
       "    }\n",
       "\n",
       "    .dataframe tbody tr th {\n",
       "        vertical-align: top;\n",
       "    }\n",
       "\n",
       "    .dataframe thead th {\n",
       "        text-align: right;\n",
       "    }\n",
       "</style>\n",
       "<table border=\"1\" class=\"dataframe\">\n",
       "  <thead>\n",
       "    <tr style=\"text-align: right;\">\n",
       "      <th></th>\n",
       "      <th>channelGrouping</th>\n",
       "      <th>customDimensions</th>\n",
       "      <th>fullVisitorId</th>\n",
       "      <th>visitId</th>\n",
       "      <th>visitNumber</th>\n",
       "      <th>device_browser</th>\n",
       "      <th>device_deviceCategory</th>\n",
       "      <th>device_isMobile</th>\n",
       "      <th>device_operatingSystem</th>\n",
       "      <th>geoNetwork_city</th>\n",
       "      <th>...</th>\n",
       "      <th>trafficSource_isTrueDirect</th>\n",
       "      <th>trafficSource_keyword</th>\n",
       "      <th>trafficSource_medium</th>\n",
       "      <th>trafficSource_referralPath</th>\n",
       "      <th>trafficSource_source</th>\n",
       "      <th>date</th>\n",
       "      <th>day_of_week</th>\n",
       "      <th>hour_of_day</th>\n",
       "      <th>day_of_month</th>\n",
       "      <th>week_of_year</th>\n",
       "    </tr>\n",
       "  </thead>\n",
       "  <tbody>\n",
       "    <tr>\n",
       "      <th>0</th>\n",
       "      <td>3</td>\n",
       "      <td>2</td>\n",
       "      <td>3162355547410993243</td>\n",
       "      <td>1508198450</td>\n",
       "      <td>1</td>\n",
       "      <td>6</td>\n",
       "      <td>0</td>\n",
       "      <td>False</td>\n",
       "      <td>5</td>\n",
       "      <td>106</td>\n",
       "      <td>...</td>\n",
       "      <td>False</td>\n",
       "      <td>11</td>\n",
       "      <td>3</td>\n",
       "      <td>58</td>\n",
       "      <td>9</td>\n",
       "      <td>2017-10-17</td>\n",
       "      <td>1</td>\n",
       "      <td>0</td>\n",
       "      <td>17</td>\n",
       "      <td>42</td>\n",
       "    </tr>\n",
       "    <tr>\n",
       "      <th>1</th>\n",
       "      <td>5</td>\n",
       "      <td>3</td>\n",
       "      <td>8934116514970143966</td>\n",
       "      <td>1508176307</td>\n",
       "      <td>6</td>\n",
       "      <td>3</td>\n",
       "      <td>0</td>\n",
       "      <td>False</td>\n",
       "      <td>1</td>\n",
       "      <td>24</td>\n",
       "      <td>...</td>\n",
       "      <td>False</td>\n",
       "      <td>12</td>\n",
       "      <td>4</td>\n",
       "      <td>57</td>\n",
       "      <td>21</td>\n",
       "      <td>2017-10-16</td>\n",
       "      <td>0</td>\n",
       "      <td>17</td>\n",
       "      <td>16</td>\n",
       "      <td>42</td>\n",
       "    </tr>\n",
       "    <tr>\n",
       "      <th>2</th>\n",
       "      <td>1</td>\n",
       "      <td>3</td>\n",
       "      <td>7992466427990357681</td>\n",
       "      <td>1508201613</td>\n",
       "      <td>1</td>\n",
       "      <td>3</td>\n",
       "      <td>1</td>\n",
       "      <td>True</td>\n",
       "      <td>0</td>\n",
       "      <td>106</td>\n",
       "      <td>...</td>\n",
       "      <td>True</td>\n",
       "      <td>12</td>\n",
       "      <td>5</td>\n",
       "      <td>58</td>\n",
       "      <td>0</td>\n",
       "      <td>2017-10-17</td>\n",
       "      <td>1</td>\n",
       "      <td>0</td>\n",
       "      <td>17</td>\n",
       "      <td>42</td>\n",
       "    </tr>\n",
       "    <tr>\n",
       "      <th>3</th>\n",
       "      <td>3</td>\n",
       "      <td>2</td>\n",
       "      <td>9075655783635761930</td>\n",
       "      <td>1508169851</td>\n",
       "      <td>1</td>\n",
       "      <td>3</td>\n",
       "      <td>0</td>\n",
       "      <td>False</td>\n",
       "      <td>5</td>\n",
       "      <td>106</td>\n",
       "      <td>...</td>\n",
       "      <td>False</td>\n",
       "      <td>12</td>\n",
       "      <td>3</td>\n",
       "      <td>58</td>\n",
       "      <td>9</td>\n",
       "      <td>2017-10-16</td>\n",
       "      <td>0</td>\n",
       "      <td>16</td>\n",
       "      <td>16</td>\n",
       "      <td>42</td>\n",
       "    </tr>\n",
       "    <tr>\n",
       "      <th>4</th>\n",
       "      <td>3</td>\n",
       "      <td>1</td>\n",
       "      <td>6960673291025684308</td>\n",
       "      <td>1508190552</td>\n",
       "      <td>1</td>\n",
       "      <td>3</td>\n",
       "      <td>0</td>\n",
       "      <td>False</td>\n",
       "      <td>5</td>\n",
       "      <td>106</td>\n",
       "      <td>...</td>\n",
       "      <td>False</td>\n",
       "      <td>12</td>\n",
       "      <td>3</td>\n",
       "      <td>58</td>\n",
       "      <td>9</td>\n",
       "      <td>2017-10-16</td>\n",
       "      <td>0</td>\n",
       "      <td>21</td>\n",
       "      <td>16</td>\n",
       "      <td>42</td>\n",
       "    </tr>\n",
       "  </tbody>\n",
       "</table>\n",
       "<p>5 rows × 42 columns</p>\n",
       "</div>"
      ],
      "text/plain": [
       "   channelGrouping  customDimensions        fullVisitorId     visitId  \\\n",
       "0                3                 2  3162355547410993243  1508198450   \n",
       "1                5                 3  8934116514970143966  1508176307   \n",
       "2                1                 3  7992466427990357681  1508201613   \n",
       "3                3                 2  9075655783635761930  1508169851   \n",
       "4                3                 1  6960673291025684308  1508190552   \n",
       "\n",
       "   visitNumber  device_browser  device_deviceCategory  device_isMobile  \\\n",
       "0            1               6                      0            False   \n",
       "1            6               3                      0            False   \n",
       "2            1               3                      1             True   \n",
       "3            1               3                      0            False   \n",
       "4            1               3                      0            False   \n",
       "\n",
       "   device_operatingSystem  geoNetwork_city      ...       \\\n",
       "0                       5              106      ...        \n",
       "1                       1               24      ...        \n",
       "2                       0              106      ...        \n",
       "3                       5              106      ...        \n",
       "4                       5              106      ...        \n",
       "\n",
       "   trafficSource_isTrueDirect  trafficSource_keyword  trafficSource_medium  \\\n",
       "0                       False                     11                     3   \n",
       "1                       False                     12                     4   \n",
       "2                        True                     12                     5   \n",
       "3                       False                     12                     3   \n",
       "4                       False                     12                     3   \n",
       "\n",
       "   trafficSource_referralPath  trafficSource_source        date  day_of_week  \\\n",
       "0                          58                     9  2017-10-17            1   \n",
       "1                          57                    21  2017-10-16            0   \n",
       "2                          58                     0  2017-10-17            1   \n",
       "3                          58                     9  2017-10-16            0   \n",
       "4                          58                     9  2017-10-16            0   \n",
       "\n",
       "   hour_of_day  day_of_month  week_of_year  \n",
       "0            0            17            42  \n",
       "1           17            16            42  \n",
       "2            0            17            42  \n",
       "3           16            16            42  \n",
       "4           21            16            42  \n",
       "\n",
       "[5 rows x 42 columns]"
      ]
     },
     "execution_count": 7,
     "metadata": {},
     "output_type": "execute_result"
    }
   ],
   "source": [
    "train_df.head()"
   ]
  },
  {
   "cell_type": "code",
   "execution_count": null,
   "metadata": {},
   "outputs": [],
   "source": [
    "\"\"\"test_start_date = min(test_df.date)\n",
    "test_end_date = max(test_df.date)\n",
    "\n",
    "test_label_start_date = pd.to_datetime(\"2018-12-01\").date()\n",
    "test_label_end_date = pd.to_datetime(\"2019-01-31\").date()\n",
    "\n",
    "missing_days = (test_label_start_date - test_end_date).days\n",
    "prediction_span = (test_label_end_date - test_label_start_date).days + 1\n",
    "\n",
    "print(\"There is a gap of %d days between the last day of our dataset and the prediction\" % missing_days)\n",
    "print(\"We have to predict %d days after this gap\" % prediction_span)\"\"\""
   ]
  },
  {
   "cell_type": "code",
   "execution_count": null,
   "metadata": {},
   "outputs": [],
   "source": []
  },
  {
   "cell_type": "code",
   "execution_count": null,
   "metadata": {},
   "outputs": [],
   "source": []
  },
  {
   "cell_type": "code",
   "execution_count": null,
   "metadata": {},
   "outputs": [],
   "source": []
  },
  {
   "cell_type": "code",
   "execution_count": 8,
   "metadata": {},
   "outputs": [],
   "source": [
    "train_start = pd.to_datetime(\"2017-05-01\").date()\n",
    "train_end = pd.to_datetime(\"2017-10-16\").date()\n",
    "\n",
    "train_label_start = pd.to_datetime(\"2017-12-01\").date()\n",
    "train_label_end = pd.to_datetime(\"2018-01-31\").date()"
   ]
  },
  {
   "cell_type": "code",
   "execution_count": 9,
   "metadata": {},
   "outputs": [
    {
     "data": {
      "text/plain": [
       "((427826, 42), (180572, 42))"
      ]
     },
     "execution_count": 9,
     "metadata": {},
     "output_type": "execute_result"
    }
   ],
   "source": [
    "labeled_train = train_df[(train_df['date'].values <= train_end) & (train_df['date'].values >= train_start)]\n",
    "temp_train_label = train_df[(train_df['date'].values <= train_label_end) & (train_df['date'].values >= train_label_start)]\n",
    "labeled_train.shape, temp_train_label.shape"
   ]
  },
  {
   "cell_type": "code",
   "execution_count": null,
   "metadata": {
    "scrolled": true
   },
   "outputs": [],
   "source": [
    "# Create a dataframe containing only couples of fullvisitorid and totaltransactionrevenue when the latter is not null\n",
    "def zip_df_on_revenue(df):\n",
    "    fullID = []\n",
    "    not_null_transactions = []\n",
    "    for row in df.itertuples():\n",
    "        if(row.totals_transactionRevenue > 0):\n",
    "            fullID.append(row.fullVisitorId)\n",
    "            not_null_transactions.append(row.totals_transactionRevenue)\n",
    "    temp_df = pd.DataFrame({'fullVisitorId': fullID})\n",
    "    not_null_transactions_temp_df = pd.DataFrame({'totals_transactionRevenue': not_null_transactions})\n",
    "    temp_df = temp_df.join(not_null_transactions_temp_df)\n",
    "    return temp_df"
   ]
  },
  {
   "cell_type": "code",
   "execution_count": null,
   "metadata": {},
   "outputs": [],
   "source": [
    "zipped_label = zip_df_on_revenue(temp_train_label)\n",
    "zipped_label.shape"
   ]
  },
  {
   "cell_type": "code",
   "execution_count": null,
   "metadata": {},
   "outputs": [],
   "source": [
    "%%time\n",
    "label = []\n",
    "\n",
    "for user in labeled_train['fullVisitorId'].values:\n",
    "    temp = 0\n",
    "    if(user in zipped_label.fullVisitorId.values):\n",
    "        for record in zipped_label.itertuples():\n",
    "            if (record.fullVisitorId == user):\n",
    "                temp += record.totals_transactionRevenue\n",
    "    label.append(temp)"
   ]
  },
  {
   "cell_type": "code",
   "execution_count": null,
   "metadata": {},
   "outputs": [],
   "source": [
    "\"\"\"%%time\n",
    "# Working but slower version of the previous algorithm\n",
    "label_old = []\n",
    "\n",
    "for user in labeled_train['fullVisitorId']:\n",
    "    temp = 0\n",
    "    for record in zipped_label.itertuples():\n",
    "        if (record.fullVisitorId == user):\n",
    "            temp += record.totals_transactionRevenue\n",
    "    label_old.append(temp)\n",
    "    \n",
    "if(label_old == label):\n",
    "    print(\"The two algorithms are equivalent\")\"\"\""
   ]
  },
  {
   "cell_type": "code",
   "execution_count": null,
   "metadata": {},
   "outputs": [],
   "source": [
    "labeled_train = labeled_train.reset_index(drop=True) # Important!\n",
    "\n",
    "temp_label = pd.DataFrame({'label': label})\n",
    "temp_label = temp_label.reset_index(drop=True) # Important!\n",
    "\n",
    "labeled_train = labeled_train.join(temp_label)\n",
    "\n",
    "labeled_train.head()"
   ]
  },
  {
   "cell_type": "code",
   "execution_count": null,
   "metadata": {},
   "outputs": [],
   "source": [
    "for i in temp_train_label.itertuples():\n",
    "    if i.fullVisitorId == '8934116514970143966':\n",
    "        print(i.totals_transactionRevenue)"
   ]
  },
  {
   "cell_type": "markdown",
   "metadata": {},
   "source": [
    "### Data preparation for catboost"
   ]
  },
  {
   "cell_type": "code",
   "execution_count": null,
   "metadata": {},
   "outputs": [],
   "source": [
    "labeled_train.columns"
   ]
  },
  {
   "cell_type": "code",
   "execution_count": null,
   "metadata": {},
   "outputs": [],
   "source": [
    "cont_features = ['totals_hits',\n",
    "                'totals_timeOnSite',\n",
    "                'totals_pageviews', \n",
    "                'visitNumber',\n",
    "                'totals_totalTransactionRevenue',\n",
    "                'totals_transactionRevenue',\n",
    "                'totals_transactions',\n",
    "                'totals_sessionQualityDim']\n",
    "\n",
    "cat_features = ['fullVisitorId',\n",
    "                'customDimensions',\n",
    "                'visitId', #\n",
    "                'channelGrouping', \n",
    "                'device_browser', \n",
    "                'device_deviceCategory',\n",
    "                'device_operatingSystem', \n",
    "                'geoNetwork_continent',\n",
    "                'geoNetwork_subContinent', \n",
    "                'trafficSource_medium', \n",
    "                'geoNetwork_country', \n",
    "                'geoNetwork_metro', \n",
    "                'geoNetwork_city', \n",
    "                'geoNetwork_region',\n",
    "                'geoNetwork_networkDomain',\n",
    "                'trafficSource_source', \n",
    "                'day_of_week', \n",
    "                'hour_of_day', \n",
    "                'day_of_month',\n",
    "                'week_of_year', \n",
    "                'trafficSource_adContent', \n",
    "                'trafficSource_adwordsClickInfo.adNetworkType', \n",
    "                'trafficSource_adwordsClickInfo.gclId',\n",
    "                'trafficSource_adwordsClickInfo.page', \n",
    "                'trafficSource_adwordsClickInfo.slot', \n",
    "                'trafficSource_keyword', \n",
    "                'trafficSource_referralPath',\n",
    "                'trafficSource_campaign',\n",
    "                #ex booleans\n",
    "                'device_isMobile', #\n",
    "                'trafficSource_isTrueDirect', #\n",
    "                'trafficSource_adwordsClickInfo.isVideoAd', #\n",
    "                'totals_bounces', #\n",
    "                'totals_newVisits' #\n",
    "               ]"
   ]
  },
  {
   "cell_type": "code",
   "execution_count": null,
   "metadata": {},
   "outputs": [],
   "source": [
    "train = labeled_train[cont_features + cat_features]\n",
    "train_y = labeled_train['label'].values\n",
    "log_y = np.log1p(train_y)"
   ]
  },
  {
   "cell_type": "code",
   "execution_count": null,
   "metadata": {},
   "outputs": [],
   "source": [
    "#check if we took all the features except totals_totalTransactionRevenue (yep!)\n",
    "for c in labeled_train.columns:\n",
    "    if c not in train.columns:\n",
    "        print(c)"
   ]
  },
  {
   "cell_type": "markdown",
   "metadata": {},
   "source": [
    "### Feature ranking with catboost"
   ]
  },
  {
   "cell_type": "code",
   "execution_count": null,
   "metadata": {
    "scrolled": true
   },
   "outputs": [],
   "source": [
    "#generate categorical column indices dinamically\n",
    "cat_positions = []\n",
    "for i in cat_features:\n",
    "    cat_positions.append(train.columns.get_loc(i))\n",
    "# cat_positions"
   ]
  },
  {
   "cell_type": "code",
   "execution_count": null,
   "metadata": {
    "scrolled": true
   },
   "outputs": [],
   "source": [
    "cat_positions"
   ]
  },
  {
   "cell_type": "code",
   "execution_count": null,
   "metadata": {},
   "outputs": [],
   "source": [
    "%%time\n",
    "from catboost import CatBoostRegressor\n",
    "from catboost import Pool\n",
    "\n",
    "# necessary for feature importance ranking\n",
    "pool = Pool(train, log_y, cat_features = cat_positions)\n",
    "\n",
    "\n",
    "#fit catboost regressor\n",
    "cat = CatBoostRegressor(\n",
    "    random_seed = seed,\n",
    "    loss_function = 'RMSE',\n",
    "    eval_metric = 'RMSE',\n",
    "    logging_level='Silent',\n",
    "    task_type = 'GPU'\n",
    ")\n",
    "\n",
    "\n",
    "cat.fit(pool)"
   ]
  },
  {
   "cell_type": "markdown",
   "metadata": {},
   "source": [
    "### Inspect features inside the model"
   ]
  },
  {
   "cell_type": "code",
   "execution_count": null,
   "metadata": {},
   "outputs": [],
   "source": [
    "# get features importance ranking\n",
    "# the individual importance values for each of the input features\n",
    "features = train.columns\n",
    "importances = np.asarray(cat.get_feature_importance(pool, fstr_type='FeatureImportance'))\n",
    "indices = np.argsort(importances)# top features\n",
    "plt.figure(figsize=(24, 12))\n",
    "plt.title('Feature Importances')\n",
    "plt.barh(range(len(indices)), importances[indices], color='b', align='center')\n",
    "plt.yticks(range(len(indices)), [features[i] for i in indices])\n",
    "plt.xlabel('Relative Importance')\n",
    "plt.show()"
   ]
  },
  {
   "cell_type": "code",
   "execution_count": null,
   "metadata": {},
   "outputs": [],
   "source": [
    "import shap\n",
    "\n",
    "# load JS visualization code to notebook\n",
    "shap.initjs()\n",
    "shap_values = np.asarray(cat.get_feature_importance(pool, fstr_type='ShapValues'))"
   ]
  },
  {
   "cell_type": "code",
   "execution_count": null,
   "metadata": {
    "scrolled": true
   },
   "outputs": [],
   "source": [
    "# summarize the effects of all the features\n",
    "shap.summary_plot(\n",
    "    shap_values[:,:pool.shape[1]], \n",
    "    features = train, \n",
    "    feature_names = train.columns,\n",
    "    max_display = 100\n",
    ")"
   ]
  },
  {
   "cell_type": "code",
   "execution_count": null,
   "metadata": {
    "scrolled": true
   },
   "outputs": [],
   "source": [
    "shap_values_lol = shap.TreeExplainer(cat).shap_values(pool)"
   ]
  },
  {
   "cell_type": "code",
   "execution_count": null,
   "metadata": {},
   "outputs": [],
   "source": [
    "if(shap_values == shap_values_lol):\n",
    "    print(\"ciao\")"
   ]
  },
  {
   "cell_type": "code",
   "execution_count": null,
   "metadata": {},
   "outputs": [],
   "source": [
    "shap.dependence_plot('fullVisitorId', shap_values_lol, train)"
   ]
  },
  {
   "cell_type": "code",
   "execution_count": null,
   "metadata": {
    "scrolled": true
   },
   "outputs": [],
   "source": [
    "explainer = shap.TreeExplainer(cat)\n",
    "print(explainer.expected_value)"
   ]
  },
  {
   "cell_type": "code",
   "execution_count": null,
   "metadata": {},
   "outputs": [],
   "source": [
    "shap_values.shape"
   ]
  },
  {
   "cell_type": "code",
   "execution_count": null,
   "metadata": {},
   "outputs": [],
   "source": [
    "train.shape"
   ]
  },
  {
   "cell_type": "code",
   "execution_count": null,
   "metadata": {},
   "outputs": [],
   "source": [
    "# visualize the first prediction's explanation\n",
    "shap.force_plot(0, shap_values[0,:pool.shape[1]], train.iloc[0,:])"
   ]
  },
  {
   "cell_type": "code",
   "execution_count": null,
   "metadata": {},
   "outputs": [],
   "source": [
    "# visualize the training set predictions\n",
    "shap.force_plot(explainer.expected_value, shap_values[:,:pool.shape[1]], train)"
   ]
  },
  {
   "cell_type": "markdown",
   "metadata": {},
   "source": [
    "### Export Dataframes"
   ]
  },
  {
   "cell_type": "code",
   "execution_count": null,
   "metadata": {},
   "outputs": [],
   "source": [
    "labeled_train.to_csv('featured_train_v2(4).csv', index = False)\n",
    "test_df.to_csv('featured_test_v2(4).csv', index = False)"
   ]
  }
 ],
 "metadata": {
  "kernelspec": {
   "display_name": "Python 3",
   "language": "python",
   "name": "python3"
  },
  "language_info": {
   "codemirror_mode": {
    "name": "ipython",
    "version": 3
   },
   "file_extension": ".py",
   "mimetype": "text/x-python",
   "name": "python",
   "nbconvert_exporter": "python",
   "pygments_lexer": "ipython3",
   "version": "3.7.0"
  }
 },
 "nbformat": 4,
 "nbformat_minor": 2
}
