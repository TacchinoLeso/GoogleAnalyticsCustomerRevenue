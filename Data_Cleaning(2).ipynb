{
 "cells": [
  {
   "cell_type": "code",
   "execution_count": 5,
   "metadata": {},
   "outputs": [],
   "source": [
    "import pandas as pd\n",
    "import numpy as np\n",
    "\n",
    "# Random seed for reproducibility\n",
    "seed = 202\n",
    "np.random.seed(seed)\n",
    "\n",
    "# Ignore warnings\n",
    "import warnings\n",
    "warnings.simplefilter('ignore')"
   ]
  },
  {
   "cell_type": "code",
   "execution_count": 6,
   "metadata": {},
   "outputs": [],
   "source": [
    "# Dobbiamo cazzo ringraziare questo kebabbaro!\n",
    "# Penso sia il miglior kernel che abbia mai letto da un anno a questa parte\n",
    "# https://www.kaggle.com/sudalairajkumar/simple-exploration-baseline-ga-customer-revenue"
   ]
  },
  {
   "cell_type": "markdown",
   "metadata": {},
   "source": [
    "### Import dataframes"
   ]
  },
  {
   "cell_type": "code",
   "execution_count": 7,
   "metadata": {},
   "outputs": [
    {
     "data": {
      "text/plain": [
       "((903653, 55), (804684, 53))"
      ]
     },
     "execution_count": 7,
     "metadata": {},
     "output_type": "execute_result"
    }
   ],
   "source": [
    "# Import the dataframes without JSON features\n",
    "train_raw_df = pd.read_csv(\"toDF_train(1).csv\",\n",
    "    dtype={'date': str, 'fullVisitorId': str, 'sessionId':str}, nrows=None)\n",
    "test_raw_df = pd.read_csv(\"toDF_test(1).csv\",\n",
    "    dtype={'date': str, 'fullVisitorId': str, 'sessionId':str}, nrows=None)\n",
    "train_raw_df.shape, test_raw_df.shape"
   ]
  },
  {
   "cell_type": "markdown",
   "metadata": {},
   "source": [
    "### Target variable exploration "
   ]
  },
  {
   "cell_type": "code",
   "execution_count": 8,
   "metadata": {},
   "outputs": [
    {
     "data": {
      "text/plain": [
       "<Figure size 800x600 with 1 Axes>"
      ]
     },
     "metadata": {},
     "output_type": "display_data"
    }
   ],
   "source": [
    "import matplotlib.pyplot as plt\n",
    "\n",
    "# Change dtype to float\n",
    "train_raw_df[\"totals.transactionRevenue\"] = train_raw_df[\"totals.transactionRevenue\"].astype('float')\n",
    "\n",
    "# Since we are predicting the natural log of sum of all transactions of the user, let us sum up the transaction revenue at user level\n",
    "gdf = train_raw_df.groupby(\"fullVisitorId\")[\"totals.transactionRevenue\"].sum().reset_index()\n",
    "\n",
    "# Let us take a log and then do a scatter plot\n",
    "plt.figure(figsize=(8,6))\n",
    "plt.scatter(range(gdf.shape[0]), np.sort(np.log1p(gdf[\"totals.transactionRevenue\"].values)))\n",
    "plt.xlabel('index', fontsize=12)\n",
    "plt.ylabel('TransactionRevenue', fontsize=12)\n",
    "plt.show()"
   ]
  },
  {
   "cell_type": "markdown",
   "metadata": {},
   "source": [
    "### Number of visitors and common visiotrs"
   ]
  },
  {
   "cell_type": "code",
   "execution_count": 9,
   "metadata": {},
   "outputs": [
    {
     "name": "stdout",
     "output_type": "stream",
     "text": [
      "Number of unique visitors in train set :  714167  out of rows :  903653\n",
      "Number of unique visitors in test set :  617242  out of rows :  804684\n",
      "Number of common visitors in train and test set :  7679\n"
     ]
    }
   ],
   "source": [
    "print(\"Number of unique visitors in train set : \",train_raw_df.fullVisitorId.nunique(), \" out of rows : \",train_raw_df.shape[0])\n",
    "print(\"Number of unique visitors in test set : \",test_raw_df.fullVisitorId.nunique(), \" out of rows : \",test_raw_df.shape[0])\n",
    "print(\"Number of common visitors in train and test set : \",len(set(train_raw_df.fullVisitorId.unique()).intersection(set(test_raw_df.fullVisitorId.unique()))))"
   ]
  },
  {
   "cell_type": "markdown",
   "metadata": {},
   "source": [
    "### Columns with constant values"
   ]
  },
  {
   "cell_type": "code",
   "execution_count": 10,
   "metadata": {},
   "outputs": [
    {
     "data": {
      "text/plain": [
       "['socialEngagementType',\n",
       " 'device.browserSize',\n",
       " 'device.browserVersion',\n",
       " 'device.flashVersion',\n",
       " 'device.language',\n",
       " 'device.mobileDeviceBranding',\n",
       " 'device.mobileDeviceInfo',\n",
       " 'device.mobileDeviceMarketingName',\n",
       " 'device.mobileDeviceModel',\n",
       " 'device.mobileInputSelector',\n",
       " 'device.operatingSystemVersion',\n",
       " 'device.screenColors',\n",
       " 'device.screenResolution',\n",
       " 'geoNetwork.cityId',\n",
       " 'geoNetwork.latitude',\n",
       " 'geoNetwork.longitude',\n",
       " 'geoNetwork.networkLocation',\n",
       " 'totals.visits',\n",
       " 'trafficSource.adwordsClickInfo.criteriaParameters']"
      ]
     },
     "execution_count": 10,
     "metadata": {},
     "output_type": "execute_result"
    }
   ],
   "source": [
    "const_cols = [c for c in train_raw_df.columns if train_raw_df[c].nunique(dropna=False)==1]\n",
    "const_cols"
   ]
  },
  {
   "cell_type": "markdown",
   "metadata": {},
   "source": [
    "## Checkpoint"
   ]
  },
  {
   "cell_type": "markdown",
   "metadata": {},
   "source": [
    "### Drop constant columns"
   ]
  },
  {
   "cell_type": "code",
   "execution_count": 16,
   "metadata": {},
   "outputs": [
    {
     "data": {
      "text/plain": [
       "((903653, 36), (804684, 34))"
      ]
     },
     "execution_count": 16,
     "metadata": {},
     "output_type": "execute_result"
    }
   ],
   "source": [
    "def drop_constant_columns(df, features):\n",
    "    df.drop(features, axis=1, inplace=True)\n",
    "    return df\n",
    "\n",
    "train_df = drop_constant_columns(train_raw_df, const_cols)\n",
    "test_df = drop_constant_columns(test_raw_df, const_cols)\n",
    "train_df.shape, test_df.shape"
   ]
  },
  {
   "cell_type": "markdown",
   "metadata": {},
   "source": [
    "### Features differences between train and test"
   ]
  },
  {
   "cell_type": "code",
   "execution_count": 17,
   "metadata": {},
   "outputs": [
    {
     "name": "stdout",
     "output_type": "stream",
     "text": [
      "Variables not in test but in train :  {'trafficSource.campaignCode', 'totals.transactionRevenue'}\n"
     ]
    }
   ],
   "source": [
    "print(\"Variables not in test but in train : \", set(train_df.columns).difference(set(test_df.columns)))"
   ]
  },
  {
   "cell_type": "markdown",
   "metadata": {},
   "source": [
    "### Drop trafficSource.campaignCode from train_df, and sessionID from both train_df and test_df"
   ]
  },
  {
   "cell_type": "code",
   "execution_count": 18,
   "metadata": {
    "scrolled": true
   },
   "outputs": [],
   "source": [
    "train_df.drop(['trafficSource.campaignCode', 'sessionId'], axis=1, inplace=True)\n",
    "test_df.drop(['sessionId'], axis=1, inplace=True)"
   ]
  },
  {
   "cell_type": "markdown",
   "metadata": {},
   "source": [
    "### Conversion from object to string and from float to integer"
   ]
  },
  {
   "cell_type": "code",
   "execution_count": null,
   "metadata": {},
   "outputs": [],
   "source": [
    "#convert all columns in parameter int_col_vec to integer\n",
    "def float_to_int(df):\n",
    "\n",
    "    #list of columns to be converted to integer\n",
    "    int_col_vec = ['totals.bounces', 'totals.newVisits', 'totals.newVisits', 'totals.pageviews', 'trafficSource.adwordsClickInfo.page']\n",
    "\n",
    "    for el in int_col_vec:    \n",
    "        train_df[el] = train_df[el].fillna(-1)\n",
    "        train_df[el] = train_df[el].astype(int)\n",
    "        train_df[el] = train_df[el].replace('-1', np.nan)"
   ]
  },
  {
   "cell_type": "code",
   "execution_count": null,
   "metadata": {},
   "outputs": [],
   "source": [
    "def obj_to_str(df):\n",
    "    \n",
    "    #list of columns to be converted to strings\n",
    "    str_col_vec = "
   ]
  },
  {
   "cell_type": "code",
   "execution_count": 1,
   "metadata": {},
   "outputs": [
    {
     "ename": "NameError",
     "evalue": "name 'train_df' is not defined",
     "output_type": "error",
     "traceback": [
      "\u001b[0;31m---------------------------------------------------------------------------\u001b[0m",
      "\u001b[0;31mNameError\u001b[0m                                 Traceback (most recent call last)",
      "\u001b[0;32m<ipython-input-1-637663892645>\u001b[0m in \u001b[0;36m<module>\u001b[0;34m()\u001b[0m\n\u001b[0;32m----> 1\u001b[0;31m \u001b[0mtrain_df\u001b[0m\u001b[0;34m[\u001b[0m\u001b[0;34m'trafficSource.adwordsClickInfo.page'\u001b[0m\u001b[0;34m]\u001b[0m\u001b[0;34m[\u001b[0m\u001b[0;36m0\u001b[0m\u001b[0;34m:\u001b[0m\u001b[0;36m30\u001b[0m\u001b[0;34m]\u001b[0m\u001b[0;34m\u001b[0m\u001b[0m\n\u001b[0m",
      "\u001b[0;31mNameError\u001b[0m: name 'train_df' is not defined"
     ]
    }
   ],
   "source": [
    "train_df['trafficSource.adwordsClickInfo.page'][0:30]"
   ]
  },
  {
   "cell_type": "code",
   "execution_count": 20,
   "metadata": {
    "scrolled": true
   },
   "outputs": [
    {
     "name": "stdout",
     "output_type": "stream",
     "text": [
      "<class 'pandas.core.frame.DataFrame'>\n",
      "RangeIndex: 903653 entries, 0 to 903652\n",
      "Data columns (total 35 columns):\n",
      "channelGrouping                                 903653 non-null object\n",
      "date                                            903653 non-null object\n",
      "fullVisitorId                                   903653 non-null object\n",
      "sessionId                                       903653 non-null object\n",
      "visitId                                         903653 non-null int64\n",
      "visitNumber                                     903653 non-null int64\n",
      "visitStartTime                                  903653 non-null int64\n",
      "device.browser                                  903653 non-null object\n",
      "device.deviceCategory                           903653 non-null object\n",
      "device.isMobile                                 903653 non-null bool\n",
      "device.operatingSystem                          903653 non-null object\n",
      "geoNetwork.city                                 903653 non-null object\n",
      "geoNetwork.continent                            903653 non-null object\n",
      "geoNetwork.country                              903653 non-null object\n",
      "geoNetwork.metro                                903653 non-null object\n",
      "geoNetwork.networkDomain                        903653 non-null object\n",
      "geoNetwork.region                               903653 non-null object\n",
      "geoNetwork.subContinent                         903653 non-null object\n",
      "totals.bounces                                  450630 non-null float64\n",
      "totals.hits                                     903653 non-null int64\n",
      "totals.newVisits                                703060 non-null float64\n",
      "totals.pageviews                                903553 non-null float64\n",
      "totals.transactionRevenue                       11515 non-null float64\n",
      "trafficSource.adContent                         10946 non-null object\n",
      "trafficSource.adwordsClickInfo.adNetworkType    21460 non-null object\n",
      "trafficSource.adwordsClickInfo.gclId            21561 non-null object\n",
      "trafficSource.adwordsClickInfo.isVideoAd        21460 non-null object\n",
      "trafficSource.adwordsClickInfo.page             21460 non-null float64\n",
      "trafficSource.adwordsClickInfo.slot             21460 non-null object\n",
      "trafficSource.campaign                          903653 non-null object\n",
      "trafficSource.isTrueDirect                      274005 non-null object\n",
      "trafficSource.keyword                           400724 non-null object\n",
      "trafficSource.medium                            903653 non-null object\n",
      "trafficSource.referralPath                      330941 non-null object\n",
      "trafficSource.source                            903653 non-null object\n",
      "dtypes: bool(1), float64(5), int64(4), object(25)\n",
      "memory usage: 235.3+ MB\n"
     ]
    }
   ],
   "source": [
    "train_df.info()"
   ]
  },
  {
   "cell_type": "code",
   "execution_count": 21,
   "metadata": {},
   "outputs": [
    {
     "data": {
      "text/html": [
       "<div>\n",
       "<style scoped>\n",
       "    .dataframe tbody tr th:only-of-type {\n",
       "        vertical-align: middle;\n",
       "    }\n",
       "\n",
       "    .dataframe tbody tr th {\n",
       "        vertical-align: top;\n",
       "    }\n",
       "\n",
       "    .dataframe thead th {\n",
       "        text-align: right;\n",
       "    }\n",
       "</style>\n",
       "<table border=\"1\" class=\"dataframe\">\n",
       "  <thead>\n",
       "    <tr style=\"text-align: right;\">\n",
       "      <th></th>\n",
       "      <th>channelGrouping</th>\n",
       "      <th>date</th>\n",
       "      <th>fullVisitorId</th>\n",
       "      <th>sessionId</th>\n",
       "      <th>visitId</th>\n",
       "      <th>visitNumber</th>\n",
       "      <th>visitStartTime</th>\n",
       "      <th>device.browser</th>\n",
       "      <th>device.deviceCategory</th>\n",
       "      <th>device.isMobile</th>\n",
       "      <th>...</th>\n",
       "      <th>trafficSource.adwordsClickInfo.gclId</th>\n",
       "      <th>trafficSource.adwordsClickInfo.isVideoAd</th>\n",
       "      <th>trafficSource.adwordsClickInfo.page</th>\n",
       "      <th>trafficSource.adwordsClickInfo.slot</th>\n",
       "      <th>trafficSource.campaign</th>\n",
       "      <th>trafficSource.isTrueDirect</th>\n",
       "      <th>trafficSource.keyword</th>\n",
       "      <th>trafficSource.medium</th>\n",
       "      <th>trafficSource.referralPath</th>\n",
       "      <th>trafficSource.source</th>\n",
       "    </tr>\n",
       "  </thead>\n",
       "  <tbody>\n",
       "    <tr>\n",
       "      <th>0</th>\n",
       "      <td>Organic Search</td>\n",
       "      <td>20171016</td>\n",
       "      <td>6167871330617112363</td>\n",
       "      <td>6167871330617112363_1508151024</td>\n",
       "      <td>1508151024</td>\n",
       "      <td>2</td>\n",
       "      <td>1508151024</td>\n",
       "      <td>Chrome</td>\n",
       "      <td>desktop</td>\n",
       "      <td>False</td>\n",
       "      <td>...</td>\n",
       "      <td>NaN</td>\n",
       "      <td>NaN</td>\n",
       "      <td>NaN</td>\n",
       "      <td>NaN</td>\n",
       "      <td>(not set)</td>\n",
       "      <td>True</td>\n",
       "      <td>(not provided)</td>\n",
       "      <td>organic</td>\n",
       "      <td>NaN</td>\n",
       "      <td>google</td>\n",
       "    </tr>\n",
       "    <tr>\n",
       "      <th>1</th>\n",
       "      <td>Organic Search</td>\n",
       "      <td>20171016</td>\n",
       "      <td>0643697640977915618</td>\n",
       "      <td>0643697640977915618_1508175522</td>\n",
       "      <td>1508175522</td>\n",
       "      <td>1</td>\n",
       "      <td>1508175522</td>\n",
       "      <td>Chrome</td>\n",
       "      <td>desktop</td>\n",
       "      <td>False</td>\n",
       "      <td>...</td>\n",
       "      <td>NaN</td>\n",
       "      <td>NaN</td>\n",
       "      <td>NaN</td>\n",
       "      <td>NaN</td>\n",
       "      <td>(not set)</td>\n",
       "      <td>NaN</td>\n",
       "      <td>(not provided)</td>\n",
       "      <td>organic</td>\n",
       "      <td>NaN</td>\n",
       "      <td>google</td>\n",
       "    </tr>\n",
       "    <tr>\n",
       "      <th>2</th>\n",
       "      <td>Organic Search</td>\n",
       "      <td>20171016</td>\n",
       "      <td>6059383810968229466</td>\n",
       "      <td>6059383810968229466_1508143220</td>\n",
       "      <td>1508143220</td>\n",
       "      <td>1</td>\n",
       "      <td>1508143220</td>\n",
       "      <td>Chrome</td>\n",
       "      <td>desktop</td>\n",
       "      <td>False</td>\n",
       "      <td>...</td>\n",
       "      <td>NaN</td>\n",
       "      <td>NaN</td>\n",
       "      <td>NaN</td>\n",
       "      <td>NaN</td>\n",
       "      <td>(not set)</td>\n",
       "      <td>NaN</td>\n",
       "      <td>(not provided)</td>\n",
       "      <td>organic</td>\n",
       "      <td>NaN</td>\n",
       "      <td>google</td>\n",
       "    </tr>\n",
       "    <tr>\n",
       "      <th>3</th>\n",
       "      <td>Organic Search</td>\n",
       "      <td>20171016</td>\n",
       "      <td>2376720078563423631</td>\n",
       "      <td>2376720078563423631_1508193530</td>\n",
       "      <td>1508193530</td>\n",
       "      <td>1</td>\n",
       "      <td>1508193530</td>\n",
       "      <td>Safari</td>\n",
       "      <td>mobile</td>\n",
       "      <td>True</td>\n",
       "      <td>...</td>\n",
       "      <td>NaN</td>\n",
       "      <td>NaN</td>\n",
       "      <td>NaN</td>\n",
       "      <td>NaN</td>\n",
       "      <td>(not set)</td>\n",
       "      <td>NaN</td>\n",
       "      <td>(not provided)</td>\n",
       "      <td>organic</td>\n",
       "      <td>NaN</td>\n",
       "      <td>google</td>\n",
       "    </tr>\n",
       "    <tr>\n",
       "      <th>4</th>\n",
       "      <td>Organic Search</td>\n",
       "      <td>20171016</td>\n",
       "      <td>2314544520795440038</td>\n",
       "      <td>2314544520795440038_1508217442</td>\n",
       "      <td>1508217442</td>\n",
       "      <td>1</td>\n",
       "      <td>1508217442</td>\n",
       "      <td>Safari</td>\n",
       "      <td>desktop</td>\n",
       "      <td>False</td>\n",
       "      <td>...</td>\n",
       "      <td>NaN</td>\n",
       "      <td>NaN</td>\n",
       "      <td>NaN</td>\n",
       "      <td>NaN</td>\n",
       "      <td>(not set)</td>\n",
       "      <td>NaN</td>\n",
       "      <td>(not provided)</td>\n",
       "      <td>organic</td>\n",
       "      <td>NaN</td>\n",
       "      <td>google</td>\n",
       "    </tr>\n",
       "  </tbody>\n",
       "</table>\n",
       "<p>5 rows × 34 columns</p>\n",
       "</div>"
      ],
      "text/plain": [
       "  channelGrouping      date        fullVisitorId  \\\n",
       "0  Organic Search  20171016  6167871330617112363   \n",
       "1  Organic Search  20171016  0643697640977915618   \n",
       "2  Organic Search  20171016  6059383810968229466   \n",
       "3  Organic Search  20171016  2376720078563423631   \n",
       "4  Organic Search  20171016  2314544520795440038   \n",
       "\n",
       "                        sessionId     visitId  visitNumber  visitStartTime  \\\n",
       "0  6167871330617112363_1508151024  1508151024            2      1508151024   \n",
       "1  0643697640977915618_1508175522  1508175522            1      1508175522   \n",
       "2  6059383810968229466_1508143220  1508143220            1      1508143220   \n",
       "3  2376720078563423631_1508193530  1508193530            1      1508193530   \n",
       "4  2314544520795440038_1508217442  1508217442            1      1508217442   \n",
       "\n",
       "  device.browser device.deviceCategory  device.isMobile          ...           \\\n",
       "0         Chrome               desktop            False          ...            \n",
       "1         Chrome               desktop            False          ...            \n",
       "2         Chrome               desktop            False          ...            \n",
       "3         Safari                mobile             True          ...            \n",
       "4         Safari               desktop            False          ...            \n",
       "\n",
       "  trafficSource.adwordsClickInfo.gclId  \\\n",
       "0                                  NaN   \n",
       "1                                  NaN   \n",
       "2                                  NaN   \n",
       "3                                  NaN   \n",
       "4                                  NaN   \n",
       "\n",
       "  trafficSource.adwordsClickInfo.isVideoAd  \\\n",
       "0                                      NaN   \n",
       "1                                      NaN   \n",
       "2                                      NaN   \n",
       "3                                      NaN   \n",
       "4                                      NaN   \n",
       "\n",
       "  trafficSource.adwordsClickInfo.page trafficSource.adwordsClickInfo.slot  \\\n",
       "0                                 NaN                                 NaN   \n",
       "1                                 NaN                                 NaN   \n",
       "2                                 NaN                                 NaN   \n",
       "3                                 NaN                                 NaN   \n",
       "4                                 NaN                                 NaN   \n",
       "\n",
       "  trafficSource.campaign trafficSource.isTrueDirect trafficSource.keyword  \\\n",
       "0              (not set)                       True        (not provided)   \n",
       "1              (not set)                        NaN        (not provided)   \n",
       "2              (not set)                        NaN        (not provided)   \n",
       "3              (not set)                        NaN        (not provided)   \n",
       "4              (not set)                        NaN        (not provided)   \n",
       "\n",
       "  trafficSource.medium  trafficSource.referralPath  trafficSource.source  \n",
       "0              organic                         NaN                google  \n",
       "1              organic                         NaN                google  \n",
       "2              organic                         NaN                google  \n",
       "3              organic                         NaN                google  \n",
       "4              organic                         NaN                google  \n",
       "\n",
       "[5 rows x 34 columns]"
      ]
     },
     "execution_count": 21,
     "metadata": {},
     "output_type": "execute_result"
    }
   ],
   "source": [
    "test_df.head()"
   ]
  },
  {
   "cell_type": "code",
   "execution_count": 22,
   "metadata": {
    "scrolled": true
   },
   "outputs": [
    {
     "name": "stdout",
     "output_type": "stream",
     "text": [
      "<class 'pandas.core.frame.DataFrame'>\n",
      "RangeIndex: 804684 entries, 0 to 804683\n",
      "Data columns (total 34 columns):\n",
      "channelGrouping                                 804684 non-null object\n",
      "date                                            804684 non-null object\n",
      "fullVisitorId                                   804684 non-null object\n",
      "sessionId                                       804684 non-null object\n",
      "visitId                                         804684 non-null int64\n",
      "visitNumber                                     804684 non-null int64\n",
      "visitStartTime                                  804684 non-null int64\n",
      "device.browser                                  804684 non-null object\n",
      "device.deviceCategory                           804684 non-null object\n",
      "device.isMobile                                 804684 non-null bool\n",
      "device.operatingSystem                          804684 non-null object\n",
      "geoNetwork.city                                 804684 non-null object\n",
      "geoNetwork.continent                            804684 non-null object\n",
      "geoNetwork.country                              804684 non-null object\n",
      "geoNetwork.metro                                804684 non-null object\n",
      "geoNetwork.networkDomain                        804684 non-null object\n",
      "geoNetwork.region                               804684 non-null object\n",
      "geoNetwork.subContinent                         804684 non-null object\n",
      "totals.bounces                                  420948 non-null float64\n",
      "totals.hits                                     804684 non-null int64\n",
      "totals.newVisits                                604370 non-null float64\n",
      "totals.pageviews                                804545 non-null float64\n",
      "trafficSource.adContent                         53791 non-null object\n",
      "trafficSource.adwordsClickInfo.adNetworkType    53814 non-null object\n",
      "trafficSource.adwordsClickInfo.gclId            53862 non-null object\n",
      "trafficSource.adwordsClickInfo.isVideoAd        53814 non-null object\n",
      "trafficSource.adwordsClickInfo.page             53814 non-null float64\n",
      "trafficSource.adwordsClickInfo.slot             53814 non-null object\n",
      "trafficSource.campaign                          804684 non-null object\n",
      "trafficSource.isTrueDirect                      260513 non-null object\n",
      "trafficSource.keyword                           413652 non-null object\n",
      "trafficSource.medium                            804684 non-null object\n",
      "trafficSource.referralPath                      235323 non-null object\n",
      "trafficSource.source                            804684 non-null object\n",
      "dtypes: bool(1), float64(4), int64(4), object(25)\n",
      "memory usage: 203.4+ MB\n"
     ]
    }
   ],
   "source": [
    "test_df.info()"
   ]
  },
  {
   "cell_type": "markdown",
   "metadata": {},
   "source": [
    "### Export Dataframes"
   ]
  },
  {
   "cell_type": "code",
   "execution_count": 23,
   "metadata": {},
   "outputs": [],
   "source": [
    "train_df.to_csv('cleaned_train(2).csv', index = False)\n",
    "test_df.to_csv('cleaned_test(2).csv', index = False)"
   ]
  }
 ],
 "metadata": {
  "kernelspec": {
   "display_name": "Python 3",
   "language": "python",
   "name": "python3"
  },
  "language_info": {
   "codemirror_mode": {
    "name": "ipython",
    "version": 3
   },
   "file_extension": ".py",
   "mimetype": "text/x-python",
   "name": "python",
   "nbconvert_exporter": "python",
   "pygments_lexer": "ipython3",
   "version": "3.6.5"
  }
 },
 "nbformat": 4,
 "nbformat_minor": 2
}
