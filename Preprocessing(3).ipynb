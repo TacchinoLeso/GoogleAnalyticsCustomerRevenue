{
 "cells": [
  {
   "cell_type": "code",
   "execution_count": 24,
   "metadata": {},
   "outputs": [],
   "source": [
    "import pandas as pd\n",
    "import numpy as np\n",
    "\n",
    "# Random seed for reproducibility\n",
    "seed = 202\n",
    "np.random.seed(seed)\n",
    "\n",
    "# Ignore warnings\n",
    "import warnings\n",
    "warnings.simplefilter('ignore')\n",
    "\n",
    "# Garbage collector\n",
    "import gc\n",
    "gc.enable()"
   ]
  },
  {
   "cell_type": "code",
   "execution_count": 25,
   "metadata": {},
   "outputs": [
    {
     "data": {
      "text/plain": [
       "((903653, 33), (804684, 32))"
      ]
     },
     "execution_count": 25,
     "metadata": {},
     "output_type": "execute_result"
    }
   ],
   "source": [
    "# Import the dataframes without JSON features and useless features\n",
    "train_raw_df = pd.read_csv(\"cleaned_train(2).csv\",\n",
    "    dtype={'date': str, 'fullVisitorId': str}, nrows=None)\n",
    "test_raw_df = pd.read_csv(\"cleaned_test(2).csv\",\n",
    "    dtype={'date': str, 'fullVisitorId': str}, nrows=None)\n",
    "train_raw_df.shape, test_raw_df.shape"
   ]
  },
  {
   "cell_type": "markdown",
   "metadata": {},
   "source": [
    "## First preprocessing"
   ]
  },
  {
   "cell_type": "markdown",
   "metadata": {},
   "source": [
    "### Cast string categorical features to lower case"
   ]
  },
  {
   "cell_type": "code",
   "execution_count": 26,
   "metadata": {
    "scrolled": true
   },
   "outputs": [
    {
     "name": "stdout",
     "output_type": "stream",
     "text": [
      "<class 'pandas.core.frame.DataFrame'>\n",
      "RangeIndex: 903653 entries, 0 to 903652\n",
      "Data columns (total 33 columns):\n",
      "channelGrouping                                 903653 non-null object\n",
      "fullVisitorId                                   903653 non-null object\n",
      "sessionId                                       903653 non-null object\n",
      "visitId                                         903653 non-null int64\n",
      "visitNumber                                     903653 non-null int64\n",
      "visitStartTime                                  903653 non-null int64\n",
      "device.browser                                  903653 non-null object\n",
      "device.deviceCategory                           903653 non-null object\n",
      "device.isMobile                                 903653 non-null bool\n",
      "device.operatingSystem                          903653 non-null object\n",
      "geoNetwork.city                                 903653 non-null object\n",
      "geoNetwork.continent                            903653 non-null object\n",
      "geoNetwork.country                              903653 non-null object\n",
      "geoNetwork.metro                                903653 non-null object\n",
      "geoNetwork.networkDomain                        903653 non-null object\n",
      "geoNetwork.region                               903653 non-null object\n",
      "geoNetwork.subContinent                         903653 non-null object\n",
      "totals.bounces                                  450630 non-null float64\n",
      "totals.hits                                     903653 non-null int64\n",
      "totals.newVisits                                703060 non-null float64\n",
      "totals.pageviews                                903553 non-null float64\n",
      "totals.transactionRevenue                       11515 non-null float64\n",
      "trafficSource.adContent                         10946 non-null object\n",
      "trafficSource.adwordsClickInfo.adNetworkType    21460 non-null object\n",
      "trafficSource.adwordsClickInfo.gclId            21561 non-null object\n",
      "trafficSource.adwordsClickInfo.page             21460 non-null float64\n",
      "trafficSource.adwordsClickInfo.slot             21460 non-null object\n",
      "trafficSource.campaign                          903653 non-null object\n",
      "trafficSource.isTrueDirect                      274005 non-null object\n",
      "trafficSource.keyword                           400724 non-null object\n",
      "trafficSource.medium                            903653 non-null object\n",
      "trafficSource.referralPath                      330941 non-null object\n",
      "trafficSource.source                            903653 non-null object\n",
      "dtypes: bool(1), float64(5), int64(4), object(23)\n",
      "memory usage: 221.5+ MB\n"
     ]
    }
   ],
   "source": [
    "train_raw_df.info()"
   ]
  },
  {
   "cell_type": "code",
   "execution_count": 27,
   "metadata": {},
   "outputs": [],
   "source": [
    "string_features = ['channelGrouping', 'device.browser', 'device.deviceCategory',\n",
    "                  'device.operatingSystem', 'geoNetwork.city', 'geoNetwork.continent', 'geoNetwork.country',\n",
    "                  'geoNetwork.metro', 'geoNetwork.networkDomain', 'geoNetwork.region',\n",
    "                  'geoNetwork.metro', 'geoNetwork.networkDomain', 'geoNetwork.region',\n",
    "                  'trafficSource.adContent', 'trafficSource.adwordsClickInfo.adNetworkType', 'trafficSource.adwordsClickInfo.gclId',\n",
    "                  'trafficSource.adwordsClickInfo.slot', 'trafficSource.campaign', 'trafficSource.referralPath',\n",
    "                  'geoNetwork.subContinent','trafficSource.medium', 'trafficSource.source', 'trafficSource.keyword']\n",
    "\n",
    "for col in string_features:\n",
    "    train_raw_df[col] = train_raw_df[col].str.lower()\n",
    "    test_raw_df[col] = test_raw_df[col].str.lower()"
   ]
  },
  {
   "cell_type": "markdown",
   "metadata": {},
   "source": [
    "### NOTE: the next step is optional"
   ]
  },
  {
   "cell_type": "markdown",
   "metadata": {},
   "source": [
    "### Inspect disguised nans"
   ]
  },
  {
   "cell_type": "code",
   "execution_count": 28,
   "metadata": {
    "scrolled": true
   },
   "outputs": [
    {
     "name": "stdout",
     "output_type": "stream",
     "text": [
      "channelGrouping 8\n",
      "fullVisitorId 714167\n",
      "sessionId 902755\n",
      "visitId 886303\n",
      "visitNumber 384\n",
      "visitStartTime 887159\n",
      "device.browser 54\n",
      "device.deviceCategory 3\n",
      "device.isMobile 2\n",
      "device.operatingSystem 20\n",
      "geoNetwork.city 649\n",
      "geoNetwork.continent 6\n",
      "geoNetwork.country 222\n",
      "geoNetwork.metro 94\n",
      "geoNetwork.networkDomain 28064\n",
      "geoNetwork.region 376\n",
      "geoNetwork.subContinent 23\n",
      "totals.bounces 2\n",
      "totals.hits 274\n",
      "totals.newVisits 2\n",
      "totals.pageviews 214\n",
      "totals.transactionRevenue 5333\n",
      "trafficSource.adContent 43\n",
      "trafficSource.adwordsClickInfo.adNetworkType 3\n",
      "trafficSource.adwordsClickInfo.gclId 17775\n",
      "trafficSource.adwordsClickInfo.page 9\n",
      "trafficSource.adwordsClickInfo.slot 3\n",
      "trafficSource.campaign 10\n",
      "trafficSource.isTrueDirect 2\n",
      "trafficSource.keyword 3397\n",
      "trafficSource.medium 7\n",
      "trafficSource.referralPath 1474\n",
      "trafficSource.source 380\n"
     ]
    }
   ],
   "source": [
    "# check how many categories are present per column (before nans substitution)\n",
    "for c in train_raw_df.columns:\n",
    "    print(c, len(np.unique(train_raw_df[c].astype(str))))"
   ]
  },
  {
   "cell_type": "code",
   "execution_count": 29,
   "metadata": {},
   "outputs": [
    {
     "data": {
      "text/plain": [
       "Counter({'organic search': 381561,\n",
       "         'referral': 104838,\n",
       "         'paid search': 25326,\n",
       "         'affiliates': 16403,\n",
       "         'direct': 143026,\n",
       "         'display': 6262,\n",
       "         'social': 226117,\n",
       "         '(other)': 120})"
      ]
     },
     "execution_count": 29,
     "metadata": {},
     "output_type": "execute_result"
    }
   ],
   "source": [
    "from collections import Counter\n",
    "Counter(train_raw_df['channelGrouping'])"
   ]
  },
  {
   "cell_type": "code",
   "execution_count": 30,
   "metadata": {
    "scrolled": true
   },
   "outputs": [
    {
     "data": {
      "text/plain": [
       "array(['organic search', 'referral', 'paid search', 'affiliates',\n",
       "       'direct', 'display', 'social', '(other)'], dtype=object)"
      ]
     },
     "execution_count": 30,
     "metadata": {},
     "output_type": "execute_result"
    }
   ],
   "source": [
    "train_raw_df['channelGrouping'].unique()"
   ]
  },
  {
   "cell_type": "markdown",
   "metadata": {},
   "source": [
    "### Convert disguised nans"
   ]
  },
  {
   "cell_type": "code",
   "execution_count": 31,
   "metadata": {},
   "outputs": [],
   "source": [
    "nan_list = [\n",
    "    \"(not set)\",\n",
    "    \"not available in demo dataset\",\n",
    "    \"not.configured\",\n",
    "    \"(not provided)\",\n",
    "    \"unknown.unknown\",\n",
    "    \"/\",\n",
    "    \"(Other)\",\n",
    "    \"(other)\",\n",
    "    \"(none)\"\n",
    "]\n",
    "\n",
    "nan_dict = {nl:np.nan for nl in nan_list}\n",
    "\n",
    "# convert all \"disguised\" missing values to nans\n",
    "def miss_to_nan(df):\n",
    "    df.replace(nan_dict, inplace=True) # convert disguised NaNs\n",
    "    df.dropna(axis=1, how='all', inplace=True)\n",
    "    return df"
   ]
  },
  {
   "cell_type": "code",
   "execution_count": 32,
   "metadata": {},
   "outputs": [
    {
     "data": {
      "text/plain": [
       "'\\nimport datetime\\n\\n# convert date from string to datetime\\ndef date_conv(df):\\n    df[\\'date\\'] = df[\\'date\\'].apply(lambda x: datetime.date(int(str(x)[:4]), int(str(x)[4:6]), int(str(x)[6:])))\\n    return df\\n\\n# convert all \"disguised\" missing values to nans\\ndef miss_to_nan(df):\\n    df.replace(nan_dict, inplace=True) # convert disguised NaNs\\n    df.dropna(axis=1, how=\\'all\\', inplace=True)\\n    return df\\n\\n# exec the two previous functions\\ndef first_preprocessing(df):\\n#     df = date_conv(df)\\n    df = miss_to_nan(df)\\n    return df\\n'"
      ]
     },
     "execution_count": 32,
     "metadata": {},
     "output_type": "execute_result"
    }
   ],
   "source": [
    "'''\n",
    "import datetime\n",
    "\n",
    "# convert date from string to datetime\n",
    "def date_conv(df):\n",
    "    df['date'] = df['date'].apply(lambda x: datetime.date(int(str(x)[:4]), int(str(x)[4:6]), int(str(x)[6:])))\n",
    "    return df\n",
    "\n",
    "# convert all \"disguised\" missing values to nans\n",
    "def miss_to_nan(df):\n",
    "    df.replace(nan_dict, inplace=True) # convert disguised NaNs\n",
    "    df.dropna(axis=1, how='all', inplace=True)\n",
    "    return df\n",
    "\n",
    "# exec the two previous functions\n",
    "def first_preprocessing(df):\n",
    "#     df = date_conv(df)\n",
    "    df = miss_to_nan(df)\n",
    "    return df\n",
    "'''"
   ]
  },
  {
   "cell_type": "markdown",
   "metadata": {},
   "source": [
    "### Checkpoint"
   ]
  },
  {
   "cell_type": "code",
   "execution_count": 33,
   "metadata": {},
   "outputs": [],
   "source": [
    "# apply the preprocessing up to this point and save into copies\n",
    "train_df = miss_to_nan(train_raw_df)\n",
    "test_df = miss_to_nan(test_raw_df)"
   ]
  },
  {
   "cell_type": "markdown",
   "metadata": {},
   "source": [
    "### Fill nans with zeroes in target column"
   ]
  },
  {
   "cell_type": "code",
   "execution_count": 34,
   "metadata": {},
   "outputs": [],
   "source": [
    "train_df['totals.transactionRevenue'].fillna(0, inplace=True)"
   ]
  },
  {
   "cell_type": "markdown",
   "metadata": {},
   "source": [
    "### NOTE: the next step is optional"
   ]
  },
  {
   "cell_type": "markdown",
   "metadata": {},
   "source": [
    "### Inspect data"
   ]
  },
  {
   "cell_type": "code",
   "execution_count": 35,
   "metadata": {
    "scrolled": true
   },
   "outputs": [
    {
     "data": {
      "text/plain": [
       "True"
      ]
     },
     "execution_count": 35,
     "metadata": {},
     "output_type": "execute_result"
    }
   ],
   "source": [
    "# check the nan condition in totals.newVisits\n",
    "from itertools import compress\n",
    "sum(list(compress(train_df['visitNumber'] > 1, train_df['totals.newVisits'].isnull()))) == train_df['totals.newVisits'].isnull().sum()"
   ]
  },
  {
   "cell_type": "code",
   "execution_count": 11,
   "metadata": {},
   "outputs": [
    {
     "name": "stdout",
     "output_type": "stream",
     "text": [
      "200593\n"
     ]
    },
    {
     "data": {
      "text/plain": [
       "200593"
      ]
     },
     "execution_count": 11,
     "metadata": {},
     "output_type": "execute_result"
    }
   ],
   "source": [
    "# check the nan condition in totals.newVisits\n",
    "print(sum(train_df['totals.newVisits'].isnull()))\n",
    "sum(list(compress(train_df['totals.newVisits'].isnull(), train_df['visitNumber'] > 1)))"
   ]
  },
  {
   "cell_type": "code",
   "execution_count": 12,
   "metadata": {},
   "outputs": [
    {
     "name": "stdout",
     "output_type": "stream",
     "text": [
      "120\n"
     ]
    },
    {
     "data": {
      "text/plain": [
       "119"
      ]
     },
     "execution_count": 12,
     "metadata": {},
     "output_type": "execute_result"
    }
   ],
   "source": [
    "# check if there is difference between nan and (none) in df['trafficSource.medium']\n",
    "print(sum(train_df['trafficSource.medium'].isnull()))\n",
    "sum(list(compress(train_df['trafficSource.medium'].isnull(), train_df['totals.transactionRevenue'] == 0)))\n",
    "\n",
    "### c'è un valore con revenue !!!!!"
   ]
  },
  {
   "cell_type": "code",
   "execution_count": 13,
   "metadata": {},
   "outputs": [
    {
     "name": "stdout",
     "output_type": "stream",
     "text": [
      "69\n"
     ]
    },
    {
     "data": {
      "text/plain": [
       "69"
      ]
     },
     "execution_count": 13,
     "metadata": {},
     "output_type": "execute_result"
    }
   ],
   "source": [
    "#same shit for trafficSource.source\n",
    "print(sum(train_df['trafficSource.source'].isnull()))\n",
    "sum(list(compress(train_df['trafficSource.source'].isnull(), train_df['totals.transactionRevenue'] == 0)))"
   ]
  },
  {
   "cell_type": "code",
   "execution_count": 14,
   "metadata": {
    "scrolled": true
   },
   "outputs": [
    {
     "data": {
      "text/plain": [
       "channelGrouping                                      0\n",
       "date                                                 0\n",
       "fullVisitorId                                        0\n",
       "sessionId                                            0\n",
       "visitId                                              0\n",
       "visitNumber                                          0\n",
       "visitStartTime                                       0\n",
       "device.browser                                       8\n",
       "device.deviceCategory                                0\n",
       "device.isMobile                                      0\n",
       "device.operatingSystem                            4695\n",
       "geoNetwork.city                                 542491\n",
       "geoNetwork.continent                              1468\n",
       "geoNetwork.country                                1468\n",
       "geoNetwork.metro                                709995\n",
       "geoNetwork.networkDomain                        390996\n",
       "geoNetwork.region                               536056\n",
       "geoNetwork.subContinent                           1468\n",
       "totals.bounces                                  453023\n",
       "totals.hits                                          0\n",
       "totals.newVisits                                200593\n",
       "totals.pageviews                                   100\n",
       "totals.transactionRevenue                            0\n",
       "trafficSource.adContent                         892707\n",
       "trafficSource.adwordsClickInfo.adNetworkType    882193\n",
       "trafficSource.adwordsClickInfo.gclId            882092\n",
       "trafficSource.adwordsClickInfo.isVideoAd        882193\n",
       "trafficSource.adwordsClickInfo.page             882193\n",
       "trafficSource.adwordsClickInfo.slot             882193\n",
       "trafficSource.campaign                          865347\n",
       "trafficSource.isTrueDirect                      629648\n",
       "trafficSource.keyword                           869292\n",
       "trafficSource.medium                               120\n",
       "trafficSource.referralPath                      648235\n",
       "trafficSource.source                                69\n",
       "dtype: int64"
      ]
     },
     "execution_count": 14,
     "metadata": {},
     "output_type": "execute_result"
    }
   ],
   "source": [
    "train_df.isnull().sum()"
   ]
  },
  {
   "cell_type": "code",
   "execution_count": 15,
   "metadata": {
    "scrolled": true
   },
   "outputs": [
    {
     "name": "stdout",
     "output_type": "stream",
     "text": [
      "channelGrouping 8\n",
      "date 366\n",
      "fullVisitorId 714167\n",
      "sessionId 902755\n",
      "visitId 886303\n",
      "visitNumber 384\n",
      "visitStartTime 887159\n",
      "device.browser 54\n",
      "device.deviceCategory 3\n",
      "device.isMobile 2\n",
      "device.operatingSystem 20\n",
      "geoNetwork.city 648\n",
      "geoNetwork.continent 6\n",
      "geoNetwork.country 222\n",
      "geoNetwork.metro 93\n",
      "geoNetwork.networkDomain 28062\n",
      "geoNetwork.region 375\n",
      "geoNetwork.subContinent 23\n",
      "totals.bounces 2\n",
      "totals.hits 274\n",
      "totals.newVisits 2\n",
      "totals.pageviews 214\n",
      "totals.transactionRevenue 5333\n",
      "trafficSource.adContent 45\n",
      "trafficSource.adwordsClickInfo.adNetworkType 3\n",
      "trafficSource.adwordsClickInfo.gclId 17775\n",
      "trafficSource.adwordsClickInfo.isVideoAd 2\n",
      "trafficSource.adwordsClickInfo.page 9\n",
      "trafficSource.adwordsClickInfo.slot 3\n",
      "trafficSource.campaign 10\n",
      "trafficSource.isTrueDirect 2\n",
      "trafficSource.keyword 3659\n",
      "trafficSource.medium 7\n",
      "trafficSource.referralPath 1475\n",
      "trafficSource.source 380\n"
     ]
    }
   ],
   "source": [
    "#check again number of categories in each variable (eg column)\n",
    "for c in train_df.columns:\n",
    "    print(c, len(np.unique(train_df[c].astype(str))))"
   ]
  },
  {
   "cell_type": "code",
   "execution_count": 36,
   "metadata": {},
   "outputs": [
    {
     "name": "stdout",
     "output_type": "stream",
     "text": [
      "channelGrouping\n",
      "\n",
      "['Organic Search' 'Referral' 'Paid Search' 'Affiliates' 'Direct' 'Display'\n",
      " 'Social' nan]\n",
      "\n",
      "\n",
      "device.browser\n",
      "\n",
      "['Chrome' 'Firefox' 'UC Browser' 'Internet Explorer' 'Safari' 'Edge'\n",
      " 'Opera Mini' 'Opera' 'BlackBerry' 'Safari (in-app)' 'Coc Coc'\n",
      " 'Mozilla Compatible Agent' 'ADM' 'MRCHROME' 'Amazon Silk' 'YaBrowser'\n",
      " 'Android Webview' 'Puffin' 'Nokia Browser' 'Maxthon' 'Nintendo Browser'\n",
      " 'Android Browser' 'Lunascape' 'IE with Chrome Frame' 'ThumbSniper'\n",
      " 'LYF_LS_4002_12' 'Mozilla' 'osee2unifiedRelease' 'NokiaE52-1' 'Iron'\n",
      " '[Use default User-agent string] LIVRENPOCHE' 'LYF_LS_4002_11' 'M5'\n",
      " 'Android Runtime' 'Apple-iPhone7C2' 'SeaMonkey' 'Konqueror' 'Seznam'\n",
      " 'Changa 99695759' 'no-ua' 'MQQBrowser' 'Nichrome' 'HTC802t_TD'\n",
      " 'DASH_JR_3G' 'DoCoMo' 'subjectAgent: NoticiasBoom' 'YE' 'User Agent' '0'\n",
      " 'Hisense M20-M_LTE' 'Reddit' 'TCL P500M' 'CSM Click']\n",
      "\n",
      "\n",
      "device.deviceCategory\n",
      "\n",
      "['desktop' 'mobile' 'tablet']\n",
      "\n",
      "\n",
      "device.isMobile\n",
      "\n",
      "[False  True]\n",
      "\n",
      "\n",
      "device.operatingSystem\n",
      "\n",
      "['Windows' 'Macintosh' 'Linux' 'Android' 'iOS' 'Chrome OS' 'BlackBerry'\n",
      " nan 'Samsung' 'Windows Phone' 'Xbox' 'Nintendo Wii' 'Firefox OS'\n",
      " 'Nintendo WiiU' 'FreeBSD' 'Nokia' 'NTT DoCoMo' 'Nintendo 3DS' 'SunOS'\n",
      " 'OpenBSD']\n",
      "\n",
      "\n",
      "geoNetwork.continent\n",
      "\n",
      "['Asia' 'Oceania' 'Europe' 'Americas' 'Africa' nan]\n",
      "\n",
      "\n",
      "geoNetwork.metro\n",
      "\n",
      "[nan 'London' 'San Francisco-Oakland-San Jose CA' 'New York NY'\n",
      " 'Washington DC (Hagerstown MD)' 'Los Angeles CA' 'Seattle-Tacoma WA'\n",
      " 'Chicago IL' 'Boston MA-Manchester NH' 'Detroit MI' 'Austin TX'\n",
      " 'Pittsburgh PA' 'Roanoke-Lynchburg VA' 'Dallas-Ft. Worth TX'\n",
      " 'Portland OR' 'Denver CO' 'Houston TX' 'Atlanta GA' 'San Diego CA'\n",
      " 'Phoenix AZ' 'Columbus OH' 'Charlotte NC' 'Jacksonville FL'\n",
      " 'Meridian (exc. Channel Islands)' 'Midlands' 'Las Vegas NV'\n",
      " 'La Crosse-Eau Claire WI' 'Springfield-Holyoke MA'\n",
      " 'Green Bay-Appleton WI' 'San Antonio TX' 'North West'\n",
      " 'Minneapolis-St. Paul MN' 'Philadelphia PA' 'Indianapolis IN'\n",
      " 'Chico-Redding CA' 'Orlando-Daytona Beach-Melbourne FL'\n",
      " 'Norfolk-Portsmouth-Newport News VA' 'Miami-Ft. Lauderdale FL' 'JP_KANTO'\n",
      " 'Central Scotland' 'Omaha NE' 'Tampa-St. Petersburg (Sarasota) FL'\n",
      " 'Nashville TN' 'Salt Lake City UT' 'Charleston SC' 'Louisville KY'\n",
      " 'St. Louis MO' 'Raleigh-Durham (Fayetteville) NC'\n",
      " 'Greenville-Spartanburg-Asheville-Anderson'\n",
      " 'Sacramento-Stockton-Modesto CA' 'El Paso TX' 'Kansas City MO'\n",
      " 'Lansing MI' 'Fresno-Visalia CA' 'Cleveland-Akron (Canton) OH' 'Tulsa OK'\n",
      " 'Butte-Bozeman MT' 'North Scotland'\n",
      " 'Harlingen-Weslaco-Brownsville-McAllen TX' 'Lexington KY' 'Yorkshire'\n",
      " 'Mankato MN' 'Cincinnati OH' 'Grand Rapids-Kalamazoo-Battle Creek MI'\n",
      " 'Honolulu HI' 'Baltimore MD' 'Madison WI' 'Tri-Cities TN-VA'\n",
      " 'Idaho Falls-Pocatello ID' 'Tucson (Sierra Vista) AZ' 'Milwaukee WI'\n",
      " 'Chattanooga TN' 'Springfield MO' 'Memphis TN' 'JP_KINKI'\n",
      " 'Tallahassee FL-Thomasville GA' 'Providence-New Bedford,MA'\n",
      " 'Hartford & New Haven CT' 'Albany-Schenectady-Troy NY' 'HTV Wales'\n",
      " 'Colorado Springs-Pueblo CO' 'Syracuse NY' 'HTV West' 'Boise ID'\n",
      " 'Rochester-Mason City-Austin,IA' 'Utica NY' 'Charlottesville VA'\n",
      " 'JP_OTHER' 'Augusta GA' 'Wheeling WV-Steubenville OH'\n",
      " 'Abilene-Sweetwater TX' 'New Orleans LA' 'Panama City FL']\n",
      "\n",
      "\n",
      "geoNetwork.subContinent\n",
      "\n",
      "['Western Asia' 'Australasia' 'Southern Europe' 'Southeast Asia'\n",
      " 'Northern Europe' 'Southern Asia' 'Western Europe' 'South America'\n",
      " 'Eastern Asia' 'Eastern Europe' 'Northern America' 'Western Africa'\n",
      " 'Central America' 'Eastern Africa' nan 'Caribbean' 'Southern Africa'\n",
      " 'Northern Africa' 'Central Asia' 'Middle Africa' 'Melanesia'\n",
      " 'Micronesian Region' 'Polynesia']\n",
      "\n",
      "\n",
      "totals.bounces\n",
      "\n",
      "[ 1. nan]\n",
      "\n",
      "\n",
      "totals.newVisits\n",
      "\n",
      "[1. 0.]\n",
      "\n",
      "\n",
      "trafficSource.adContent\n",
      "\n",
      "[nan 'Full auto ad IMAGE ONLY' 'First Full Auto Template Test Ad'\n",
      " '{KeyWord:Google Brand Items}' 'Display Ad created 3/11/14'\n",
      " 'Ad from 11/7/16' 'Display Ad created 3/11/15' 'Ad from 12/13/16'\n",
      " 'Ad from 11/3/16' 'Google Online Store' 'Google Merchandise Collection'\n",
      " '{KeyWord:Want Google Stickers?}' '{KeyWord:Google Merchandise}'\n",
      " 'Display Ad created 11/17/14' '{KeyWord:Google Drinkware}'\n",
      " \"{KeyWord:Google Men's T-Shirts}\" '{KeyWord:Google Branded Gear}'\n",
      " '{KeyWord:Google Branded Apparel}' 'Google Paraphernalia'\n",
      " 'Swag with Google Logos' '{KeyWord:Google Branded Kit}'\n",
      " 'Want Google Sunglasses' '{KeyWord:Looking for Google Bags?}'\n",
      " 'Full auto ad TEXT ONLY' 'Google Merchandise' 'google store' 'LeEco_1a'\n",
      " 'Full auto ad TEXT/NATIVE' '{KeyWord:Want Google Pet Toys?}'\n",
      " 'Google Store' \"Men's-Outerwear Google Apparel\" '20% discount'\n",
      " 'Full auto ad with Primary Color' 'JD_5a_v1'\n",
      " '{KeyWord:Google Branded Outerwear}' 'Full auto ad NATIVE ONLY'\n",
      " 'url_builder' 'Google store' 'free shipping'\n",
      " 'Official Google Merchandise - Fast Shipping' 'GA Help Center'\n",
      " 'Free Shipping!' 'Swag w/ Google Logos' 'visit us again'\n",
      " 'Ad from 2/17/17']\n",
      "\n",
      "\n",
      "trafficSource.adwordsClickInfo.adNetworkType\n",
      "\n",
      "[nan 'Google Search' 'Search partners']\n",
      "\n",
      "\n",
      "trafficSource.adwordsClickInfo.isVideoAd\n",
      "\n",
      "[nan False]\n",
      "\n",
      "\n",
      "trafficSource.adwordsClickInfo.page\n",
      "\n",
      "[nan  1.  5.  3.  2. 14.  7.  9.  4.]\n",
      "\n",
      "\n",
      "trafficSource.adwordsClickInfo.slot\n",
      "\n",
      "[nan 'Top' 'RHS']\n",
      "\n",
      "\n",
      "trafficSource.campaign\n",
      "\n",
      "[nan 'AW - Dynamic Search Ads Whole Site' 'Data Share Promo'\n",
      " 'AW - Electronics' 'test-liyuhz' 'AW - Accessories'\n",
      " 'Retail (DO NOT EDIT owners nophakun and tianyu)' 'AW - Apparel'\n",
      " 'All Products' 'Data Share']\n",
      "\n",
      "\n",
      "trafficSource.isTrueDirect\n",
      "\n",
      "[nan True]\n",
      "\n",
      "\n",
      "trafficSource.medium\n",
      "\n",
      "['organic' 'referral' 'cpc' 'affiliate' nan 'cpm']\n",
      "\n",
      "\n"
     ]
    }
   ],
   "source": [
    "for i in train_df.columns:    \n",
    "    if len(train_df[i].unique()) <= 100:\n",
    "        print(i + '\\n')\n",
    "        print(train_df[i].unique())\n",
    "        print('\\n')"
   ]
  },
  {
   "cell_type": "markdown",
   "metadata": {},
   "source": [
    "## Second preprocessing"
   ]
  },
  {
   "cell_type": "markdown",
   "metadata": {},
   "source": [
    "### Missing values filling"
   ]
  },
  {
   "cell_type": "code",
   "execution_count": 36,
   "metadata": {},
   "outputs": [],
   "source": [
    "def fill_nans(df):\n",
    "    \n",
    "    \n",
    "    df['channelGrouping'].fillna('Organic Search', inplace=True) # few nans, a lot of \"Organic Search\"\n",
    "    df['device.browser'].fillna('Chrome', inplace=True) # few nans, a lot of \"Chrome\"\n",
    "    df['device.operatingSystem'].fillna('unknown', inplace=True) # no predominance of any value, quite a bit of nans, keep separated category\n",
    "    df['totals.pageviews'].fillna(1, inplace=True) # many 1s, nans do not bring any revenue -> nans become 1s\n",
    "    df['trafficSource.medium'].fillna('unknown', inplace=True) # seems to be the same\n",
    "    df['trafficSource.source'].fillna('unknown', inplace = True) # seems to be the same\n",
    "    \n",
    "    \n",
    "    df['geoNetwork.continent'].fillna('unknown', inplace=True)# keep separate category\n",
    "    df['geoNetwork.country'].fillna('unknown', inplace=True)# keep separate category\n",
    "    df['geoNetwork.subContinent'].fillna('unknown', inplace=True)# keep separate category\n",
    "\n",
    "    \n",
    "    # Features with huge amout of nans\n",
    "    df['geoNetwork.city'].fillna('unknown', inplace=True)\n",
    "    df['geoNetwork.metro'].fillna('unknown', inplace=True)\n",
    "    df['geoNetwork.networkDomain'].fillna('unknown', inplace=True)\n",
    "    df['geoNetwork.region'].fillna('unknown', inplace=True)\n",
    "    df['totals.bounces'].fillna(0, inplace=True) # nan and 1\n",
    "    df['trafficSource.adContent'].fillna('unknown', inplace=True)\n",
    "    df['trafficSource.adwordsClickInfo.adNetworkType'].fillna('unknown', inplace=True)\n",
    "    df['trafficSource.adwordsClickInfo.gclId'].fillna('unknown', inplace=True)\n",
    "#     df['trafficSource.adwordsClickInfo.isVideoAd'].fillna(True, inplace=True) # nan and False\n",
    "    df['trafficSource.adwordsClickInfo.page'].fillna(0, inplace=True) # 0 is not cointained in the set\n",
    "    df['trafficSource.adwordsClickInfo.slot'].fillna('unknown', inplace=True)\n",
    "    df['trafficSource.campaign'].fillna('unknown', inplace=True)\n",
    "    df['trafficSource.isTrueDirect'].fillna(False, inplace=True) # nan and True\n",
    "    df['trafficSource.keyword'].fillna('unknown', inplace=True)\n",
    "    df['trafficSource.referralPath'].fillna('unknown', inplace=True)\n",
    "    df['totals.newVisits'].fillna(0, inplace=True)# totals.newVisits is always == nan when visitNumber > 1, we keep it for now but it will be dropped eventually\n",
    "\n",
    "    return df"
   ]
  },
  {
   "cell_type": "code",
   "execution_count": 37,
   "metadata": {},
   "outputs": [],
   "source": [
    "train_df = fill_nans(train_df)\n",
    "test_df = fill_nans(test_df)"
   ]
  },
  {
   "cell_type": "code",
   "execution_count": 38,
   "metadata": {
    "scrolled": true
   },
   "outputs": [
    {
     "data": {
      "text/plain": [
       "channelGrouping                                 0\n",
       "fullVisitorId                                   0\n",
       "sessionId                                       0\n",
       "visitId                                         0\n",
       "visitNumber                                     0\n",
       "visitStartTime                                  0\n",
       "device.browser                                  0\n",
       "device.deviceCategory                           0\n",
       "device.isMobile                                 0\n",
       "device.operatingSystem                          0\n",
       "geoNetwork.city                                 0\n",
       "geoNetwork.continent                            0\n",
       "geoNetwork.country                              0\n",
       "geoNetwork.metro                                0\n",
       "geoNetwork.networkDomain                        0\n",
       "geoNetwork.region                               0\n",
       "geoNetwork.subContinent                         0\n",
       "totals.bounces                                  0\n",
       "totals.hits                                     0\n",
       "totals.newVisits                                0\n",
       "totals.pageviews                                0\n",
       "totals.transactionRevenue                       0\n",
       "trafficSource.adContent                         0\n",
       "trafficSource.adwordsClickInfo.adNetworkType    0\n",
       "trafficSource.adwordsClickInfo.gclId            0\n",
       "trafficSource.adwordsClickInfo.page             0\n",
       "trafficSource.adwordsClickInfo.slot             0\n",
       "trafficSource.campaign                          0\n",
       "trafficSource.isTrueDirect                      0\n",
       "trafficSource.keyword                           0\n",
       "trafficSource.medium                            0\n",
       "trafficSource.referralPath                      0\n",
       "trafficSource.source                            0\n",
       "dtype: int64"
      ]
     },
     "execution_count": 38,
     "metadata": {},
     "output_type": "execute_result"
    }
   ],
   "source": [
    "train_df.isnull().sum()"
   ]
  },
  {
   "cell_type": "markdown",
   "metadata": {},
   "source": [
    "### NOTE: the next step is optional (may improve performances but it has to be tested)"
   ]
  },
  {
   "cell_type": "markdown",
   "metadata": {},
   "source": [
    "### Cleaning rare categories"
   ]
  },
  {
   "cell_type": "code",
   "execution_count": 39,
   "metadata": {},
   "outputs": [],
   "source": [
    "# Actually we have no longer missing values, and we can manage the problem of the rare categories\n",
    "# We group them in an overfeature\n",
    "def clear_rare_categories(df, feature, limit = 900):\n",
    "\n",
    "    vc = df[feature].value_counts()\n",
    "    \n",
    "    common = vc > limit\n",
    "    common = set(common.index[common].values)\n",
    "    print(\"Set\", sum(vc <= limit), feature, \"categories to 'other';\", end=\" \")\n",
    "    \n",
    "    df.loc[df[feature].map(lambda x: x not in common), feature] = 'other'\n",
    "    print(\"now there are\", df[feature].nunique(), \"categories\")\n",
    "    \n",
    "    return df"
   ]
  },
  {
   "cell_type": "code",
   "execution_count": 40,
   "metadata": {},
   "outputs": [
    {
     "name": "stdout",
     "output_type": "stream",
     "text": [
      "\n",
      "TRAIN:\n",
      "\n",
      "Set 1 channelGrouping categories to 'other'; now there are 8 categories\n",
      "\n",
      "TEST:\n",
      "\n",
      "Set 1 channelGrouping categories to 'other'; now there are 8 categories\n",
      "\n",
      "TRAIN:\n",
      "\n",
      "Set 43 device.browser categories to 'other'; now there are 12 categories\n",
      "\n",
      "TEST:\n",
      "\n",
      "Set 96 device.browser categories to 'other'; now there are 14 categories\n",
      "\n",
      "TRAIN:\n",
      "\n",
      "Set 0 device.deviceCategory categories to 'other'; now there are 3 categories\n",
      "\n",
      "TEST:\n",
      "\n",
      "Set 0 device.deviceCategory categories to 'other'; now there are 3 categories\n",
      "\n",
      "TRAIN:\n",
      "\n",
      "Set 0 device.isMobile categories to 'other'; now there are 2 categories\n",
      "\n",
      "TEST:\n",
      "\n",
      "Set 0 device.isMobile categories to 'other'; now there are 2 categories\n",
      "\n",
      "TRAIN:\n",
      "\n",
      "Set 12 device.operatingSystem categories to 'other'; now there are 9 categories\n",
      "\n",
      "TEST:\n",
      "\n",
      "Set 15 device.operatingSystem categories to 'other'; now there are 8 categories\n",
      "\n",
      "TRAIN:\n",
      "\n",
      "Set 576 geoNetwork.city categories to 'other'; now there are 73 categories\n",
      "\n",
      "TEST:\n",
      "\n",
      "Set 653 geoNetwork.city categories to 'other'; now there are 79 categories\n",
      "\n",
      "TRAIN:\n",
      "\n",
      "Set 0 geoNetwork.continent categories to 'other'; now there are 6 categories\n",
      "\n",
      "TEST:\n",
      "\n",
      "Set 0 geoNetwork.continent categories to 'other'; now there are 6 categories\n",
      "\n",
      "TRAIN:\n",
      "\n",
      "Set 154 geoNetwork.country categories to 'other'; now there are 69 categories\n",
      "\n",
      "TEST:\n",
      "\n",
      "Set 158 geoNetwork.country categories to 'other'; now there are 62 categories\n",
      "\n",
      "TRAIN:\n",
      "\n",
      "Set 75 geoNetwork.metro categories to 'other'; now there are 19 categories\n",
      "\n",
      "TEST:\n",
      "\n",
      "Set 85 geoNetwork.metro categories to 'other'; now there are 24 categories\n",
      "\n",
      "TRAIN:\n",
      "\n",
      "Set 27981 geoNetwork.networkDomain categories to 'other'; now there are 82 categories\n",
      "\n",
      "TEST:\n",
      "\n",
      "Set 25684 geoNetwork.networkDomain categories to 'other'; now there are 65 categories\n",
      "\n",
      "TRAIN:\n",
      "\n",
      "Set 315 geoNetwork.region categories to 'other'; now there are 61 categories\n",
      "\n",
      "TEST:\n",
      "\n",
      "Set 312 geoNetwork.region categories to 'other'; now there are 64 categories\n",
      "\n",
      "TRAIN:\n",
      "\n",
      "Set 4 geoNetwork.subContinent categories to 'other'; now there are 20 categories\n",
      "\n",
      "TEST:\n",
      "\n",
      "Set 5 geoNetwork.subContinent categories to 'other'; now there are 19 categories\n",
      "\n",
      "TRAIN:\n",
      "\n",
      "Set 0 totals.bounces categories to 'other'; now there are 2 categories\n",
      "\n",
      "TEST:\n",
      "\n",
      "Set 0 totals.bounces categories to 'other'; now there are 2 categories\n",
      "\n",
      "TRAIN:\n",
      "\n",
      "Set 241 totals.hits categories to 'other'; now there are 34 categories\n",
      "\n",
      "TEST:\n",
      "\n",
      "Set 199 totals.hits categories to 'other'; now there are 31 categories\n",
      "\n",
      "TRAIN:\n",
      "\n",
      "Set 0 totals.newVisits categories to 'other'; now there are 2 categories\n",
      "\n",
      "TEST:\n",
      "\n",
      "Set 0 totals.newVisits categories to 'other'; now there are 2 categories\n",
      "\n",
      "TRAIN:\n",
      "\n",
      "Set 185 totals.pageviews categories to 'other'; now there are 29 categories\n",
      "\n",
      "TEST:\n",
      "\n",
      "Set 134 totals.pageviews categories to 'other'; now there are 27 categories\n",
      "\n",
      "TRAIN:\n",
      "\n",
      "Set 39 trafficSource.adContent categories to 'other'; now there are 5 categories\n",
      "\n",
      "TEST:\n",
      "\n",
      "Set 45 trafficSource.adContent categories to 'other'; now there are 7 categories\n",
      "\n",
      "TRAIN:\n",
      "\n",
      "Set 1 trafficSource.adwordsClickInfo.adNetworkType categories to 'other'; now there are 3 categories\n",
      "\n",
      "TEST:\n",
      "\n",
      "Set 1 trafficSource.adwordsClickInfo.adNetworkType categories to 'other'; now there are 4 categories\n",
      "\n",
      "TRAIN:\n",
      "\n",
      "Set 17774 trafficSource.adwordsClickInfo.gclId categories to 'other'; now there are 2 categories\n",
      "\n",
      "TEST:\n",
      "\n",
      "Set 41317 trafficSource.adwordsClickInfo.gclId categories to 'other'; now there are 2 categories\n",
      "\n",
      "TRAIN:\n",
      "\n",
      "Set 7 trafficSource.adwordsClickInfo.page categories to 'other'; now there are 3 categories\n",
      "\n",
      "TEST:\n",
      "\n",
      "Set 8 trafficSource.adwordsClickInfo.page categories to 'other'; now there are 4 categories\n",
      "\n",
      "TRAIN:\n",
      "\n",
      "Set 1 trafficSource.adwordsClickInfo.slot categories to 'other'; now there are 3 categories\n",
      "\n",
      "TEST:\n",
      "\n",
      "Set 1 trafficSource.adwordsClickInfo.slot categories to 'other'; now there are 4 categories\n",
      "\n",
      "TRAIN:\n",
      "\n",
      "Set 6 trafficSource.campaign categories to 'other'; now there are 5 categories\n",
      "\n",
      "TEST:\n",
      "\n",
      "Set 23 trafficSource.campaign categories to 'other'; now there are 9 categories\n",
      "\n",
      "TRAIN:\n",
      "\n",
      "Set 0 trafficSource.isTrueDirect categories to 'other'; now there are 2 categories\n",
      "\n",
      "TEST:\n",
      "\n",
      "Set 0 trafficSource.isTrueDirect categories to 'other'; now there are 2 categories\n",
      "\n",
      "TRAIN:\n",
      "\n",
      "Set 3389 trafficSource.keyword categories to 'other'; now there are 8 categories\n",
      "\n",
      "TEST:\n",
      "\n",
      "Set 2261 trafficSource.keyword categories to 'other'; now there are 8 categories\n",
      "\n",
      "TRAIN:\n",
      "\n",
      "Set 0 trafficSource.medium categories to 'other'; now there are 6 categories\n",
      "\n",
      "TEST:\n",
      "\n",
      "Set 0 trafficSource.medium categories to 'other'; now there are 6 categories\n",
      "\n",
      "TRAIN:\n",
      "\n",
      "Set 1443 trafficSource.referralPath categories to 'other'; now there are 31 categories\n",
      "\n",
      "TEST:\n",
      "\n",
      "Set 2168 trafficSource.referralPath categories to 'other'; now there are 28 categories\n",
      "\n",
      "TRAIN:\n",
      "\n",
      "Set 358 trafficSource.source categories to 'other'; now there are 23 categories\n",
      "\n",
      "TEST:\n",
      "\n",
      "Set 301 trafficSource.source categories to 'other'; now there are 24 categories\n"
     ]
    }
   ],
   "source": [
    "# to be chacked better!!!\n",
    "\n",
    "# There are features that we don't want to modify\n",
    "raw_features = [\n",
    "\"channelGrouping\",\n",
    "\"device.browser\",\n",
    "\"device.deviceCategory\",\n",
    "\"device.isMobile\",\n",
    "\"device.operatingSystem\",\n",
    "\"geoNetwork.city\",\n",
    "\"geoNetwork.continent\",\n",
    "\"geoNetwork.country\",\n",
    "\"geoNetwork.metro\",\n",
    "\"geoNetwork.networkDomain\",\n",
    "\"geoNetwork.region\",\n",
    "\"geoNetwork.subContinent\",\n",
    "\"totals.bounces\",\n",
    "\"totals.hits\",\n",
    "\"totals.newVisits\",\n",
    "\"totals.pageviews\",\n",
    "\"trafficSource.adContent\",\n",
    "\"trafficSource.adwordsClickInfo.adNetworkType\",\n",
    "\"trafficSource.adwordsClickInfo.gclId\",\n",
    "# \"trafficSource.adwordsClickInfo.isVideoAd\",\n",
    "\"trafficSource.adwordsClickInfo.page\",\n",
    "\"trafficSource.adwordsClickInfo.slot\",\n",
    "\"trafficSource.campaign\",\n",
    "\"trafficSource.isTrueDirect\",\n",
    "\"trafficSource.keyword\",\n",
    "\"trafficSource.medium\",\n",
    "\"trafficSource.referralPath\",\n",
    "\"trafficSource.source\"\n",
    "]\n",
    "\n",
    "\n",
    "for feat in raw_features:\n",
    "    print(\"\\nTRAIN:\\n\")\n",
    "    train_df = clear_rare_categories(train_df, feat)\n",
    "    print(\"\\nTEST:\\n\")\n",
    "    test_df = clear_rare_categories(test_df, feat)\n",
    "    \n",
    "#     if(train_df[feat].nunique() != test_df[feat].nunique()):\n",
    "#         print(\"\\n\\n\\nWARNING:\\n\")\n"
   ]
  },
  {
   "cell_type": "code",
   "execution_count": 17,
   "metadata": {},
   "outputs": [
    {
     "name": "stdout",
     "output_type": "stream",
     "text": [
      "channelGrouping 7\n",
      "date 366\n",
      "fullVisitorId 714167\n",
      "sessionId 902755\n",
      "visitId 886303\n",
      "visitNumber 384\n",
      "visitStartTime 887159\n",
      "device.browser 12\n",
      "device.deviceCategory 3\n",
      "device.isMobile 2\n",
      "device.operatingSystem 9\n",
      "geoNetwork.city 73\n",
      "geoNetwork.continent 6\n",
      "geoNetwork.country 69\n",
      "geoNetwork.metro 19\n",
      "geoNetwork.networkDomain 82\n",
      "geoNetwork.region 61\n",
      "geoNetwork.subContinent 20\n",
      "totals.bounces 2\n",
      "totals.hits 34\n",
      "totals.newVisits 2\n",
      "totals.pageviews 29\n",
      "totals.transactionRevenue 5333\n",
      "trafficSource.adContent 5\n",
      "trafficSource.adwordsClickInfo.adNetworkType 3\n",
      "trafficSource.adwordsClickInfo.gclId 2\n",
      "trafficSource.adwordsClickInfo.isVideoAd 2\n",
      "trafficSource.adwordsClickInfo.page 3\n",
      "trafficSource.adwordsClickInfo.slot 3\n",
      "trafficSource.campaign 5\n",
      "trafficSource.isTrueDirect 2\n",
      "trafficSource.keyword 8\n",
      "trafficSource.medium 6\n",
      "trafficSource.referralPath 31\n",
      "trafficSource.source 23\n"
     ]
    }
   ],
   "source": [
    "#check again number of categories in each variable (eg column)\n",
    "for c in train_df.columns:\n",
    "    print(c, len(np.unique(train_df[c].astype(str))))"
   ]
  },
  {
   "cell_type": "markdown",
   "metadata": {},
   "source": [
    "### Drop meaningless columns"
   ]
  },
  {
   "cell_type": "code",
   "execution_count": 41,
   "metadata": {},
   "outputs": [
    {
     "data": {
      "text/plain": [
       "((903653, 33), (804684, 32))"
      ]
     },
     "execution_count": 41,
     "metadata": {},
     "output_type": "execute_result"
    }
   ],
   "source": [
    "meaningless_columns =[]\n",
    "\n",
    "def drop_meaningless_columns(df, meaningless_columns):\n",
    "    df.drop(meaningless_columns, axis=1, inplace=True)\n",
    "    return df\n",
    "\n",
    "train_df = drop_meaningless_columns(train_df, meaningless_columns)\n",
    "test_df = drop_meaningless_columns(test_df, meaningless_columns)\n",
    "train_df.shape, test_df.shape"
   ]
  },
  {
   "cell_type": "code",
   "execution_count": 20,
   "metadata": {},
   "outputs": [
    {
     "data": {
      "text/plain": [
       "\"\\n\\nmeaningless_columns = [\\n    'geoNetwork.city', 'geoNetwork.metro', 'geoNetwork.networkDomain', 'geoNetwork.region',\\n    'totals.bounces',\\n    'trafficSource.adContent', 'trafficSource.adwordsClickInfo.adNetworkType', 'trafficSource.adwordsClickInfo.gclId',\\n    'trafficSource.adwordsClickInfo.isVideoAd', 'trafficSource.adwordsClickInfo.page', 'trafficSource.adwordsClickInfo.slot',\\n    'trafficSource.campaign', 'trafficSource.isTrueDirect', 'trafficSource.keyword', 'trafficSource.referralPath'   \\n]\\n\\n#NO DROP VERSION\\nfor i in meaningless_columns:\\n    if train_df[i].dtype == float:\\n\\n        train_df[i].fillna(0, inplace=True)\\n        test_df[i].fillna(0, inplace=True)\\n    else:\\n        print(i)        \\n        train_df[i].fillna('(other)', inplace=True)\\n        test_df[i].fillna('(other)', inplace=True)    \\n\\ndef drop_meaningless_columns(df, meaningless_columns):\\n    df.drop(meaningless_columns, axis=1, inplace=True)\\n    return df\\n\\n#train_df = drop_meaningless_columns(train_df, meaningless_columns)\\n#test_df = drop_meaningless_columns(test_df, meaningless_columns)\\ntrain_df.shape, test_df.shape\\n\\n\""
      ]
     },
     "execution_count": 20,
     "metadata": {},
     "output_type": "execute_result"
    }
   ],
   "source": [
    "\"\"\"\n",
    "\n",
    "meaningless_columns = [\n",
    "    'geoNetwork.city', 'geoNetwork.metro', 'geoNetwork.networkDomain', 'geoNetwork.region',\n",
    "    'totals.bounces',\n",
    "    'trafficSource.adContent', 'trafficSource.adwordsClickInfo.adNetworkType', 'trafficSource.adwordsClickInfo.gclId',\n",
    "    'trafficSource.adwordsClickInfo.isVideoAd', 'trafficSource.adwordsClickInfo.page', 'trafficSource.adwordsClickInfo.slot',\n",
    "    'trafficSource.campaign', 'trafficSource.isTrueDirect', 'trafficSource.keyword', 'trafficSource.referralPath'   \n",
    "]\n",
    "\n",
    "#NO DROP VERSION\n",
    "for i in meaningless_columns:\n",
    "    if train_df[i].dtype == float:\n",
    "\n",
    "        train_df[i].fillna(0, inplace=True)\n",
    "        test_df[i].fillna(0, inplace=True)\n",
    "    else:\n",
    "        print(i)        \n",
    "        train_df[i].fillna('(other)', inplace=True)\n",
    "        test_df[i].fillna('(other)', inplace=True)    \n",
    "\n",
    "def drop_meaningless_columns(df, meaningless_columns):\n",
    "    df.drop(meaningless_columns, axis=1, inplace=True)\n",
    "    return df\n",
    "\n",
    "#train_df = drop_meaningless_columns(train_df, meaningless_columns)\n",
    "#test_df = drop_meaningless_columns(test_df, meaningless_columns)\n",
    "train_df.shape, test_df.shape\n",
    "\n",
    "\"\"\""
   ]
  },
  {
   "cell_type": "markdown",
   "metadata": {},
   "source": [
    "###  Label encoder"
   ]
  },
  {
   "cell_type": "code",
   "execution_count": 42,
   "metadata": {},
   "outputs": [
    {
     "name": "stdout",
     "output_type": "stream",
     "text": [
      "channelGrouping\n",
      "device.browser\n",
      "device.deviceCategory\n",
      "device.operatingSystem\n",
      "geoNetwork.city\n",
      "geoNetwork.continent\n",
      "geoNetwork.country\n",
      "geoNetwork.metro\n",
      "geoNetwork.networkDomain\n",
      "geoNetwork.region\n",
      "geoNetwork.metro\n",
      "geoNetwork.networkDomain\n",
      "geoNetwork.region\n",
      "trafficSource.adContent\n",
      "trafficSource.adwordsClickInfo.adNetworkType\n",
      "trafficSource.adwordsClickInfo.gclId\n",
      "trafficSource.adwordsClickInfo.slot\n",
      "trafficSource.campaign\n",
      "trafficSource.referralPath\n",
      "geoNetwork.subContinent\n",
      "trafficSource.medium\n",
      "trafficSource.source\n",
      "trafficSource.keyword\n"
     ]
    }
   ],
   "source": [
    "from sklearn import preprocessing\n",
    "\n",
    "for col in string_features:\n",
    "    print(col)\n",
    "    lbl = preprocessing.LabelEncoder()\n",
    "    lbl.fit(list(train_df[col].values.astype('str')) + list(test_df[col].values.astype('str')))\n",
    "    train_df[col] = lbl.transform(list(train_df[col].values.astype('str')))\n",
    "    test_df[col] = lbl.transform(list(test_df[col].values.astype('str')))"
   ]
  },
  {
   "cell_type": "markdown",
   "metadata": {},
   "source": [
    "### Export Dataframes"
   ]
  },
  {
   "cell_type": "code",
   "execution_count": 43,
   "metadata": {},
   "outputs": [],
   "source": [
    "train_df.to_csv('preprocessed_train(3).csv', index = False)\n",
    "test_df.to_csv('preprocessed_test(3).csv', index = False)"
   ]
  }
 ],
 "metadata": {
  "kernelspec": {
   "display_name": "Python 3",
   "language": "python",
   "name": "python3"
  },
  "language_info": {
   "codemirror_mode": {
    "name": "ipython",
    "version": 3
   },
   "file_extension": ".py",
   "mimetype": "text/x-python",
   "name": "python",
   "nbconvert_exporter": "python",
   "pygments_lexer": "ipython3",
   "version": "3.7.0"
  }
 },
 "nbformat": 4,
 "nbformat_minor": 2
}
