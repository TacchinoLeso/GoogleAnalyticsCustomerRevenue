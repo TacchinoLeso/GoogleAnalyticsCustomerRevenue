{
 "cells": [
  {
   "cell_type": "code",
   "execution_count": 1,
   "metadata": {},
   "outputs": [],
   "source": [
    "import pandas as pd\n",
    "import numpy as np\n",
    "\n",
    "# Random seed for reproducibility\n",
    "seed = 202\n",
    "np.random.seed(seed)\n",
    "\n",
    "# Ignore warnings\n",
    "import warnings\n",
    "warnings.simplefilter('ignore')\n",
    "\n",
    "# Garbage collector\n",
    "import gc\n",
    "gc.enable()"
   ]
  },
  {
   "cell_type": "code",
   "execution_count": 2,
   "metadata": {},
   "outputs": [
    {
     "data": {
      "text/plain": [
       "((903653, 33), (804684, 32))"
      ]
     },
     "execution_count": 2,
     "metadata": {},
     "output_type": "execute_result"
    }
   ],
   "source": [
    "# Import the dataframes without JSON features and useless features\n",
    "train_raw_df = pd.read_csv(\"cleaned_train(2).csv\",\n",
    "    dtype={'date': str, 'fullVisitorId': str}, nrows=None)\n",
    "test_raw_df = pd.read_csv(\"cleaned_test(2).csv\",\n",
    "    dtype={'date': str, 'fullVisitorId': str}, nrows=None)\n",
    "train_raw_df.shape, test_raw_df.shape"
   ]
  },
  {
   "cell_type": "markdown",
   "metadata": {},
   "source": [
    "## First preprocessing"
   ]
  },
  {
   "cell_type": "markdown",
   "metadata": {},
   "source": [
    "### Cast string categorical features to lower case"
   ]
  },
  {
   "cell_type": "code",
   "execution_count": null,
   "metadata": {
    "scrolled": true
   },
   "outputs": [],
   "source": [
    "train_raw_df.info()"
   ]
  },
  {
   "cell_type": "code",
   "execution_count": 3,
   "metadata": {},
   "outputs": [],
   "source": [
    "string_features = ['channelGrouping', 'device.browser', 'device.deviceCategory',\n",
    "                  'device.operatingSystem', 'geoNetwork.city', 'geoNetwork.continent', 'geoNetwork.country',\n",
    "                  'geoNetwork.metro', 'geoNetwork.networkDomain', 'geoNetwork.region',\n",
    "                  'geoNetwork.metro', 'geoNetwork.networkDomain', 'geoNetwork.region',\n",
    "                  'trafficSource.adContent', 'trafficSource.adwordsClickInfo.adNetworkType', 'trafficSource.adwordsClickInfo.gclId',\n",
    "                  'trafficSource.adwordsClickInfo.slot', 'trafficSource.campaign', 'trafficSource.referralPath',\n",
    "                  'geoNetwork.subContinent','trafficSource.medium', 'trafficSource.source', 'trafficSource.keyword']\n",
    "\n",
    "for col in string_features:\n",
    "    train_raw_df[col] = train_raw_df[col].str.lower()\n",
    "    test_raw_df[col] = test_raw_df[col].str.lower()"
   ]
  },
  {
   "cell_type": "markdown",
   "metadata": {},
   "source": [
    "### NOTE: the next step is optional"
   ]
  },
  {
   "cell_type": "markdown",
   "metadata": {},
   "source": [
    "### Inspect disguised nans"
   ]
  },
  {
   "cell_type": "code",
   "execution_count": null,
   "metadata": {
    "scrolled": true
   },
   "outputs": [],
   "source": [
    "# check how many categories are present per column (before nans substitution)\n",
    "for c in train_raw_df.columns:\n",
    "    print(c, len(np.unique(train_raw_df[c].astype(str))))"
   ]
  },
  {
   "cell_type": "code",
   "execution_count": null,
   "metadata": {},
   "outputs": [],
   "source": [
    "from collections import Counter\n",
    "Counter(train_raw_df['channelGrouping'])"
   ]
  },
  {
   "cell_type": "code",
   "execution_count": null,
   "metadata": {
    "scrolled": true
   },
   "outputs": [],
   "source": [
    "train_raw_df['channelGrouping'].unique()"
   ]
  },
  {
   "cell_type": "markdown",
   "metadata": {},
   "source": [
    "### Convert disguised nans"
   ]
  },
  {
   "cell_type": "code",
   "execution_count": 4,
   "metadata": {},
   "outputs": [],
   "source": [
    "nan_list = [\n",
    "    \"(not set)\",\n",
    "    \"not available in demo dataset\",\n",
    "    \"not.configured\",\n",
    "    \"(not provided)\",\n",
    "    \"unknown.unknown\",\n",
    "    \"/\",\n",
    "    \"(Other)\",\n",
    "    \"(other)\",\n",
    "    \"(none)\"\n",
    "]\n",
    "\n",
    "nan_dict = {nl:np.nan for nl in nan_list}\n",
    "\n",
    "# convert all \"disguised\" missing values to nans\n",
    "def miss_to_nan(df):\n",
    "    df.replace(nan_dict, inplace=True) # convert disguised NaNs\n",
    "    df.dropna(axis=1, how='all', inplace=True)\n",
    "    return df"
   ]
  },
  {
   "cell_type": "code",
   "execution_count": null,
   "metadata": {},
   "outputs": [],
   "source": [
    "'''\n",
    "import datetime\n",
    "\n",
    "# convert date from string to datetime\n",
    "def date_conv(df):\n",
    "    df['date'] = df['date'].apply(lambda x: datetime.date(int(str(x)[:4]), int(str(x)[4:6]), int(str(x)[6:])))\n",
    "    return df\n",
    "\n",
    "# convert all \"disguised\" missing values to nans\n",
    "def miss_to_nan(df):\n",
    "    df.replace(nan_dict, inplace=True) # convert disguised NaNs\n",
    "    df.dropna(axis=1, how='all', inplace=True)\n",
    "    return df\n",
    "\n",
    "# exec the two previous functions\n",
    "def first_preprocessing(df):\n",
    "#     df = date_conv(df)\n",
    "    df = miss_to_nan(df)\n",
    "    return df\n",
    "'''"
   ]
  },
  {
   "cell_type": "markdown",
   "metadata": {},
   "source": [
    "### Checkpoint"
   ]
  },
  {
   "cell_type": "code",
   "execution_count": 5,
   "metadata": {},
   "outputs": [],
   "source": [
    "# apply the preprocessing up to this point and save into copies\n",
    "train_df = miss_to_nan(train_raw_df)\n",
    "test_df = miss_to_nan(test_raw_df)"
   ]
  },
  {
   "cell_type": "markdown",
   "metadata": {},
   "source": [
    "### Fill nans with zeroes in target column"
   ]
  },
  {
   "cell_type": "code",
   "execution_count": 6,
   "metadata": {},
   "outputs": [],
   "source": [
    "train_df['totals.transactionRevenue'].fillna(0, inplace=True)"
   ]
  },
  {
   "cell_type": "markdown",
   "metadata": {},
   "source": [
    "### NOTE: the next step is optional"
   ]
  },
  {
   "cell_type": "markdown",
   "metadata": {},
   "source": [
    "### Inspect data"
   ]
  },
  {
   "cell_type": "code",
   "execution_count": null,
   "metadata": {
    "scrolled": true
   },
   "outputs": [],
   "source": [
    "# check the nan condition in totals.newVisits\n",
    "from itertools import compress\n",
    "sum(list(compress(train_df['visitNumber'] > 1, train_df['totals.newVisits'].isnull()))) == train_df['totals.newVisits'].isnull().sum()"
   ]
  },
  {
   "cell_type": "code",
   "execution_count": null,
   "metadata": {},
   "outputs": [],
   "source": [
    "# check the nan condition in totals.newVisits\n",
    "print(sum(train_df['totals.newVisits'].isnull()))\n",
    "sum(list(compress(train_df['totals.newVisits'].isnull(), train_df['visitNumber'] > 1)))"
   ]
  },
  {
   "cell_type": "code",
   "execution_count": null,
   "metadata": {},
   "outputs": [],
   "source": [
    "# check if there is difference between nan and (none) in df['trafficSource.medium']\n",
    "print(sum(train_df['trafficSource.medium'].isnull()))\n",
    "sum(list(compress(train_df['trafficSource.medium'].isnull(), train_df['totals.transactionRevenue'] == 0)))\n",
    "\n",
    "### c'è un valore con revenue !!!!!"
   ]
  },
  {
   "cell_type": "code",
   "execution_count": null,
   "metadata": {},
   "outputs": [],
   "source": [
    "#same shit for trafficSource.source\n",
    "print(sum(train_df['trafficSource.source'].isnull()))\n",
    "sum(list(compress(train_df['trafficSource.source'].isnull(), train_df['totals.transactionRevenue'] == 0)))"
   ]
  },
  {
   "cell_type": "code",
   "execution_count": null,
   "metadata": {
    "scrolled": true
   },
   "outputs": [],
   "source": [
    "train_df.isnull().sum()"
   ]
  },
  {
   "cell_type": "code",
   "execution_count": 17,
   "metadata": {
    "scrolled": true
   },
   "outputs": [
    {
     "name": "stdout",
     "output_type": "stream",
     "text": [
      "channelGrouping 8\n",
      "fullVisitorId 714167\n",
      "sessionId 902755\n",
      "visitId 886303\n",
      "visitNumber 384\n",
      "visitStartTime 887159\n",
      "device.browser 12\n",
      "device.deviceCategory 3\n",
      "device.isMobile 2\n",
      "device.operatingSystem 9\n",
      "geoNetwork.city 73\n",
      "geoNetwork.continent 6\n",
      "geoNetwork.country 69\n",
      "geoNetwork.metro 19\n",
      "geoNetwork.networkDomain 82\n",
      "geoNetwork.region 61\n",
      "geoNetwork.subContinent 20\n",
      "totals.bounces 2\n",
      "totals.hits 274\n",
      "totals.newVisits 2\n",
      "totals.pageviews 213\n",
      "totals.transactionRevenue 5333\n",
      "trafficSource.adContent 5\n",
      "trafficSource.adwordsClickInfo.adNetworkType 3\n",
      "trafficSource.adwordsClickInfo.gclId 17775\n",
      "trafficSource.adwordsClickInfo.page 9\n",
      "trafficSource.adwordsClickInfo.slot 3\n",
      "trafficSource.campaign 5\n",
      "trafficSource.isTrueDirect 2\n",
      "trafficSource.keyword 8\n",
      "trafficSource.medium 6\n",
      "trafficSource.referralPath 31\n",
      "trafficSource.source 23\n"
     ]
    }
   ],
   "source": [
    "#check again number of categories in each variable (eg column)\n",
    "for c in train_df.columns:\n",
    "    print(c, len(np.unique(train_df[c].astype(str))))"
   ]
  },
  {
   "cell_type": "code",
   "execution_count": null,
   "metadata": {},
   "outputs": [],
   "source": [
    "for i in train_df.columns:    \n",
    "    if len(train_df[i].unique()) <= 100:\n",
    "        print(i + '\\n')\n",
    "        print(train_df[i].unique())\n",
    "        print('\\n')"
   ]
  },
  {
   "cell_type": "markdown",
   "metadata": {},
   "source": [
    "## Second preprocessing"
   ]
  },
  {
   "cell_type": "markdown",
   "metadata": {},
   "source": [
    "### Missing values filling"
   ]
  },
  {
   "cell_type": "code",
   "execution_count": 7,
   "metadata": {},
   "outputs": [],
   "source": [
    "def fill_nans(df):\n",
    "    \n",
    "    \n",
    "    df['channelGrouping'].fillna('Organic Search', inplace=True) # few nans, a lot of \"Organic Search\"\n",
    "    df['device.browser'].fillna('Chrome', inplace=True) # few nans, a lot of \"Chrome\"\n",
    "    df['device.operatingSystem'].fillna('unknown', inplace=True) # no predominance of any value, quite a bit of nans, keep separated category\n",
    "    df['totals.pageviews'].fillna(1, inplace=True) # many 1s, nans do not bring any revenue -> nans become 1s\n",
    "    df['trafficSource.medium'].fillna('unknown', inplace=True) # seems to be the same\n",
    "    df['trafficSource.source'].fillna('unknown', inplace = True) # seems to be the same\n",
    "    \n",
    "    \n",
    "    df['geoNetwork.continent'].fillna('unknown', inplace=True)# keep separate category\n",
    "    df['geoNetwork.country'].fillna('unknown', inplace=True)# keep separate category\n",
    "    df['geoNetwork.subContinent'].fillna('unknown', inplace=True)# keep separate category\n",
    "\n",
    "    \n",
    "    # Features with huge amout of nans\n",
    "    df['geoNetwork.city'].fillna('unknown', inplace=True)\n",
    "    df['geoNetwork.metro'].fillna('unknown', inplace=True)\n",
    "    df['geoNetwork.networkDomain'].fillna('unknown', inplace=True)\n",
    "    df['geoNetwork.region'].fillna('unknown', inplace=True)\n",
    "    df['totals.bounces'].fillna(0, inplace=True) # nan and 1\n",
    "    df['trafficSource.adContent'].fillna('unknown', inplace=True)\n",
    "    df['trafficSource.adwordsClickInfo.adNetworkType'].fillna('unknown', inplace=True)\n",
    "    df['trafficSource.adwordsClickInfo.gclId'].fillna('unknown', inplace=True)\n",
    "#     df['trafficSource.adwordsClickInfo.isVideoAd'].fillna(True, inplace=True) # nan and False\n",
    "    df['trafficSource.adwordsClickInfo.page'].fillna(0, inplace=True) # 0 is not cointained in the set\n",
    "    df['trafficSource.adwordsClickInfo.slot'].fillna('unknown', inplace=True)\n",
    "    df['trafficSource.campaign'].fillna('unknown', inplace=True)\n",
    "    df['trafficSource.isTrueDirect'].fillna(False, inplace=True) # nan and True\n",
    "    df['trafficSource.keyword'].fillna('unknown', inplace=True)\n",
    "    df['trafficSource.referralPath'].fillna('unknown', inplace=True)\n",
    "    df['totals.newVisits'].fillna(0, inplace=True)# totals.newVisits is always == nan when visitNumber > 1, we keep it for now but it will be dropped eventually\n",
    "\n",
    "    return df"
   ]
  },
  {
   "cell_type": "code",
   "execution_count": 8,
   "metadata": {},
   "outputs": [],
   "source": [
    "train_df = fill_nans(train_df)\n",
    "test_df = fill_nans(test_df)"
   ]
  },
  {
   "cell_type": "code",
   "execution_count": 19,
   "metadata": {
    "scrolled": true
   },
   "outputs": [
    {
     "data": {
      "text/plain": [
       "channelGrouping                                 0\n",
       "fullVisitorId                                   0\n",
       "sessionId                                       0\n",
       "visitId                                         0\n",
       "visitNumber                                     0\n",
       "visitStartTime                                  0\n",
       "device.browser                                  0\n",
       "device.deviceCategory                           0\n",
       "device.isMobile                                 0\n",
       "device.operatingSystem                          0\n",
       "geoNetwork.city                                 0\n",
       "geoNetwork.continent                            0\n",
       "geoNetwork.country                              0\n",
       "geoNetwork.metro                                0\n",
       "geoNetwork.networkDomain                        0\n",
       "geoNetwork.region                               0\n",
       "geoNetwork.subContinent                         0\n",
       "totals.bounces                                  0\n",
       "totals.hits                                     0\n",
       "totals.newVisits                                0\n",
       "totals.pageviews                                0\n",
       "totals.transactionRevenue                       0\n",
       "trafficSource.adContent                         0\n",
       "trafficSource.adwordsClickInfo.adNetworkType    0\n",
       "trafficSource.adwordsClickInfo.gclId            0\n",
       "trafficSource.adwordsClickInfo.page             0\n",
       "trafficSource.adwordsClickInfo.slot             0\n",
       "trafficSource.campaign                          0\n",
       "trafficSource.isTrueDirect                      0\n",
       "trafficSource.keyword                           0\n",
       "trafficSource.medium                            0\n",
       "trafficSource.referralPath                      0\n",
       "trafficSource.source                            0\n",
       "dtype: int64"
      ]
     },
     "execution_count": 19,
     "metadata": {},
     "output_type": "execute_result"
    }
   ],
   "source": [
    "train_df.isnull().sum()"
   ]
  },
  {
   "cell_type": "markdown",
   "metadata": {},
   "source": [
    "### NOTE: the next step is optional (may improve performances but it has to be tested)"
   ]
  },
  {
   "cell_type": "markdown",
   "metadata": {},
   "source": [
    "### Cleaning rare categories"
   ]
  },
  {
   "cell_type": "code",
   "execution_count": 9,
   "metadata": {},
   "outputs": [],
   "source": [
    "# Actually we have no longer missing values, and we can manage the problem of the rare categories\n",
    "# We group them in an overfeature\n",
    "def clear_rare_categories(df, feature, limit = 900):\n",
    "\n",
    "    vc = df[feature].value_counts()\n",
    "    \n",
    "    common = vc > limit\n",
    "    common = set(common.index[common].values)\n",
    "    print(\"Set\", sum(vc <= limit), feature, \"categories to 'other';\", end=\" \")\n",
    "    \n",
    "    df.loc[df[feature].map(lambda x: x not in common), feature] = 'other'\n",
    "    print(\"now there are\", df[feature].nunique(), \"categories\")\n",
    "    \n",
    "    return df"
   ]
  },
  {
   "cell_type": "code",
   "execution_count": 10,
   "metadata": {
    "scrolled": true
   },
   "outputs": [
    {
     "name": "stdout",
     "output_type": "stream",
     "text": [
      "\n",
      "TRAIN:\n",
      "\n",
      "Set 1 channelGrouping categories to 'other'; now there are 8 categories\n",
      "\n",
      "TEST:\n",
      "\n",
      "Set 1 channelGrouping categories to 'other'; now there are 8 categories\n",
      "\n",
      "TRAIN:\n",
      "\n",
      "Set 43 device.browser categories to 'other'; now there are 12 categories\n",
      "\n",
      "TEST:\n",
      "\n",
      "Set 96 device.browser categories to 'other'; now there are 14 categories\n",
      "\n",
      "TRAIN:\n",
      "\n",
      "Set 0 device.deviceCategory categories to 'other'; now there are 3 categories\n",
      "\n",
      "TEST:\n",
      "\n",
      "Set 0 device.deviceCategory categories to 'other'; now there are 3 categories\n",
      "\n",
      "TRAIN:\n",
      "\n",
      "Set 0 device.isMobile categories to 'other'; now there are 2 categories\n",
      "\n",
      "TEST:\n",
      "\n",
      "Set 0 device.isMobile categories to 'other'; now there are 2 categories\n",
      "\n",
      "TRAIN:\n",
      "\n",
      "Set 12 device.operatingSystem categories to 'other'; now there are 9 categories\n",
      "\n",
      "TEST:\n",
      "\n",
      "Set 15 device.operatingSystem categories to 'other'; now there are 8 categories\n",
      "\n",
      "TRAIN:\n",
      "\n",
      "Set 576 geoNetwork.city categories to 'other'; now there are 73 categories\n",
      "\n",
      "TEST:\n",
      "\n",
      "Set 653 geoNetwork.city categories to 'other'; now there are 79 categories\n",
      "\n",
      "TRAIN:\n",
      "\n",
      "Set 0 geoNetwork.continent categories to 'other'; now there are 6 categories\n",
      "\n",
      "TEST:\n",
      "\n",
      "Set 0 geoNetwork.continent categories to 'other'; now there are 6 categories\n",
      "\n",
      "TRAIN:\n",
      "\n",
      "Set 154 geoNetwork.country categories to 'other'; now there are 69 categories\n",
      "\n",
      "TEST:\n",
      "\n",
      "Set 158 geoNetwork.country categories to 'other'; now there are 62 categories\n",
      "\n",
      "TRAIN:\n",
      "\n",
      "Set 75 geoNetwork.metro categories to 'other'; now there are 19 categories\n",
      "\n",
      "TEST:\n",
      "\n",
      "Set 85 geoNetwork.metro categories to 'other'; now there are 24 categories\n",
      "\n",
      "TRAIN:\n",
      "\n",
      "Set 27981 geoNetwork.networkDomain categories to 'other'; now there are 82 categories\n",
      "\n",
      "TEST:\n",
      "\n",
      "Set 25684 geoNetwork.networkDomain categories to 'other'; now there are 65 categories\n",
      "\n",
      "TRAIN:\n",
      "\n",
      "Set 315 geoNetwork.region categories to 'other'; now there are 61 categories\n",
      "\n",
      "TEST:\n",
      "\n",
      "Set 312 geoNetwork.region categories to 'other'; now there are 64 categories\n",
      "\n",
      "TRAIN:\n",
      "\n",
      "Set 4 geoNetwork.subContinent categories to 'other'; now there are 20 categories\n",
      "\n",
      "TEST:\n",
      "\n",
      "Set 5 geoNetwork.subContinent categories to 'other'; now there are 19 categories\n",
      "\n",
      "TRAIN:\n",
      "\n",
      "Set 0 totals.bounces categories to 'other'; now there are 2 categories\n",
      "\n",
      "TEST:\n",
      "\n",
      "Set 0 totals.bounces categories to 'other'; now there are 2 categories\n",
      "\n",
      "TRAIN:\n",
      "\n",
      "Set 0 totals.newVisits categories to 'other'; now there are 2 categories\n",
      "\n",
      "TEST:\n",
      "\n",
      "Set 0 totals.newVisits categories to 'other'; now there are 2 categories\n",
      "\n",
      "TRAIN:\n",
      "\n",
      "Set 39 trafficSource.adContent categories to 'other'; now there are 5 categories\n",
      "\n",
      "TEST:\n",
      "\n",
      "Set 45 trafficSource.adContent categories to 'other'; now there are 7 categories\n",
      "\n",
      "TRAIN:\n",
      "\n",
      "Set 1 trafficSource.adwordsClickInfo.adNetworkType categories to 'other'; now there are 3 categories\n",
      "\n",
      "TEST:\n",
      "\n",
      "Set 1 trafficSource.adwordsClickInfo.adNetworkType categories to 'other'; now there are 4 categories\n",
      "\n",
      "TRAIN:\n",
      "\n",
      "Set 1 trafficSource.adwordsClickInfo.slot categories to 'other'; now there are 3 categories\n",
      "\n",
      "TEST:\n",
      "\n",
      "Set 1 trafficSource.adwordsClickInfo.slot categories to 'other'; now there are 4 categories\n",
      "\n",
      "TRAIN:\n",
      "\n",
      "Set 6 trafficSource.campaign categories to 'other'; now there are 5 categories\n",
      "\n",
      "TEST:\n",
      "\n",
      "Set 23 trafficSource.campaign categories to 'other'; now there are 9 categories\n",
      "\n",
      "TRAIN:\n",
      "\n",
      "Set 0 trafficSource.isTrueDirect categories to 'other'; now there are 2 categories\n",
      "\n",
      "TEST:\n",
      "\n",
      "Set 0 trafficSource.isTrueDirect categories to 'other'; now there are 2 categories\n",
      "\n",
      "TRAIN:\n",
      "\n",
      "Set 3389 trafficSource.keyword categories to 'other'; now there are 8 categories\n",
      "\n",
      "TEST:\n",
      "\n",
      "Set 2261 trafficSource.keyword categories to 'other'; now there are 8 categories\n",
      "\n",
      "TRAIN:\n",
      "\n",
      "Set 0 trafficSource.medium categories to 'other'; now there are 6 categories\n",
      "\n",
      "TEST:\n",
      "\n",
      "Set 0 trafficSource.medium categories to 'other'; now there are 6 categories\n",
      "\n",
      "TRAIN:\n",
      "\n",
      "Set 1443 trafficSource.referralPath categories to 'other'; now there are 31 categories\n",
      "\n",
      "TEST:\n",
      "\n",
      "Set 2168 trafficSource.referralPath categories to 'other'; now there are 28 categories\n",
      "\n",
      "TRAIN:\n",
      "\n",
      "Set 358 trafficSource.source categories to 'other'; now there are 23 categories\n",
      "\n",
      "TEST:\n",
      "\n",
      "Set 301 trafficSource.source categories to 'other'; now there are 24 categories\n"
     ]
    }
   ],
   "source": [
    "# to be chacked better!!!\n",
    "\n",
    "# There are features that we don't want to modify\n",
    "raw_features = [\n",
    "\"channelGrouping\",\n",
    "\"device.browser\",\n",
    "\"device.deviceCategory\",\n",
    "\"device.isMobile\",\n",
    "\"device.operatingSystem\",\n",
    "\"geoNetwork.city\",\n",
    "\"geoNetwork.continent\",\n",
    "\"geoNetwork.country\",\n",
    "\"geoNetwork.metro\",\n",
    "\"geoNetwork.networkDomain\",\n",
    "\"geoNetwork.region\",\n",
    "\"geoNetwork.subContinent\",\n",
    "\"totals.bounces\",\n",
    "\"totals.newVisits\",\n",
    "\"trafficSource.adContent\",\n",
    "\"trafficSource.adwordsClickInfo.adNetworkType\",\n",
    "# \"trafficSource.adwordsClickInfo.isVideoAd\",\n",
    "\"trafficSource.adwordsClickInfo.slot\",\n",
    "\"trafficSource.campaign\",\n",
    "\"trafficSource.isTrueDirect\",\n",
    "\"trafficSource.keyword\",\n",
    "\"trafficSource.medium\",\n",
    "\"trafficSource.referralPath\",\n",
    "\"trafficSource.source\"\n",
    "]\n",
    "\n",
    "\n",
    "for feat in raw_features:\n",
    "    print(\"\\nTRAIN:\\n\")\n",
    "    train_df = clear_rare_categories(train_df, feat)\n",
    "    print(\"\\nTEST:\\n\")\n",
    "    test_df = clear_rare_categories(test_df, feat)\n",
    "    \n",
    "#     if(train_df[feat].nunique() != test_df[feat].nunique()):\n",
    "#         print(\"\\n\\n\\nWARNING:\\n\")\n"
   ]
  },
  {
   "cell_type": "code",
   "execution_count": 16,
   "metadata": {},
   "outputs": [
    {
     "name": "stdout",
     "output_type": "stream",
     "text": [
      "channelGrouping\n",
      "\n",
      "[3 6 5 0 1 2 7 4]\n",
      "\n",
      "\n",
      "device.browser\n",
      "\n",
      "[ 2  4 12  5  9  3  7  6  8 10 13  1]\n",
      "\n",
      "\n",
      "device.deviceCategory\n",
      "\n",
      "[0 1 2]\n",
      "\n",
      "\n",
      "device.isMobile\n",
      "\n",
      "[False  True]\n",
      "\n",
      "\n",
      "device.operatingSystem\n",
      "\n",
      "[7 4 3 0 2 1 5 6 8]\n",
      "\n",
      "\n",
      "geoNetwork.city\n",
      "\n",
      "[31 82 44 57 59 76 13  6 33  8 41  1 50 36 75 83 21 46  7 73 51 30 20 54\n",
      " 79 55 28 81 84 42 63 70 74 58 72 52 18 11 80 39 78  3 71  5 62 49 66 25\n",
      " 24  2 64 48 19 35 77 22 17 34 27 26  4 69 15 45 29 68 37  9 12 85 10 47\n",
      "  0]\n",
      "\n",
      "\n",
      "geoNetwork.continent\n",
      "\n",
      "[2 4 3 1 0 5]\n",
      "\n",
      "\n",
      "geoNetwork.country\n",
      "\n",
      "[62  2 55 27 65 31 42  3 37 26 21  8 12 51  1 45 22 10 60 25 34 16 59 48\n",
      " 39  6 54 11 29 44 23 35 41 66  4 32 15 57 64 58 46 43 24 69 56 50 40 47\n",
      " 63 30 52 67  7 14 53 13  0 20 19  9 38 49 36 61 68 17 33  5 18]\n",
      "\n",
      "\n",
      "geoNetwork.metro\n",
      "\n",
      "[17  2 15  4 18  3 16 20 12 23  1  9 11 21 10  6 24  0 14]\n",
      "\n",
      "\n",
      "geoNetwork.networkDomain\n",
      "\n",
      "[64 33 66 17  5 12 79 63 67 22  6 41 35 82 30  0 36 32 43 37 11 48 29 47\n",
      " 38 58 13 76 75  4 73 14 61 25 71 78 40 62 74  3 54 15 77 39 57 42 70 56\n",
      " 34 81 83 18 21 49 50 31 27 44  2  9 26 53 51  7 55 52 16 46  8 24 10 80\n",
      " 72 20 23 65 68 69 28 19  1 59]\n",
      "\n",
      "\n",
      "geoNetwork.region\n",
      "\n",
      "[25 64  4 50 21 67 12 26 27 11 47 40 70 54 35 10 38  2 55 73 24  9  6 42\n",
      " 44 61 48  8 33 69 22 36 60 30 39 58 62 51 52 68 19 18  0 37 63  5 57 49\n",
      " 59 28 15  7 66 13 34 56 71 45 31 43 16]\n",
      "\n",
      "\n",
      "geoNetwork.subContinent\n",
      "\n",
      "[18  0 15 12  9 14 19 11  5  6  8 17  2  4 16  1 13  7  3 10]\n",
      "\n",
      "\n",
      "totals.bounces\n",
      "\n",
      "[1 0]\n",
      "\n",
      "\n",
      "totals.newVisits\n",
      "\n",
      "[1 0]\n",
      "\n",
      "\n",
      "trafficSource.adContent\n",
      "\n",
      "[7 4 0 3 1]\n",
      "\n",
      "\n",
      "trafficSource.adwordsClickInfo.adNetworkType\n",
      "\n",
      "[3 1 2]\n",
      "\n",
      "\n",
      "trafficSource.adwordsClickInfo.page\n",
      "\n",
      "[ 0.  1.  5.  3.  2. 14.  7.  9.  4.]\n",
      "\n",
      "\n",
      "trafficSource.adwordsClickInfo.slot\n",
      "\n",
      "[3 2 0]\n",
      "\n",
      "\n",
      "trafficSource.campaign\n",
      "\n",
      "[8 4 5 6 3]\n",
      "\n",
      "\n",
      "trafficSource.isTrueDirect\n",
      "\n",
      "[False  True]\n",
      "\n",
      "\n",
      "trafficSource.keyword\n",
      "\n",
      "[10  9  8  5  1  3  7  6]\n",
      "\n",
      "\n",
      "trafficSource.medium\n",
      "\n",
      "[3 4 1 0 5 2]\n",
      "\n",
      "\n",
      "trafficSource.referralPath\n",
      "\n",
      "[50 49 12  2 15 18  3 10 28 37 23 39 29 42 32 31 30 33 38 43 19 25 26 24\n",
      " 40 41 27 20 36  0 13]\n",
      "\n",
      "\n",
      "trafficSource.source\n",
      "\n",
      "[ 7  2 15 21  3 20  1 16  0 13  8 17 12  4 25  5 18 11 19 24 22  6 10]\n",
      "\n",
      "\n"
     ]
    }
   ],
   "source": [
    "for i in train_df.columns:    \n",
    "    if len(train_df[i].unique()) <= 100:\n",
    "        print(i + '\\n')\n",
    "        print(train_df[i].unique())\n",
    "        print('\\n')"
   ]
  },
  {
   "cell_type": "code",
   "execution_count": 18,
   "metadata": {
    "scrolled": true
   },
   "outputs": [
    {
     "name": "stdout",
     "output_type": "stream",
     "text": [
      "channelGrouping 8\n",
      "fullVisitorId 714167\n",
      "sessionId 902755\n",
      "visitId 886303\n",
      "visitNumber 384\n",
      "visitStartTime 887159\n",
      "device.browser 12\n",
      "device.deviceCategory 3\n",
      "device.isMobile 2\n",
      "device.operatingSystem 9\n",
      "geoNetwork.city 73\n",
      "geoNetwork.continent 6\n",
      "geoNetwork.country 69\n",
      "geoNetwork.metro 19\n",
      "geoNetwork.networkDomain 82\n",
      "geoNetwork.region 61\n",
      "geoNetwork.subContinent 20\n",
      "totals.bounces 2\n",
      "totals.hits 274\n",
      "totals.newVisits 2\n",
      "totals.pageviews 213\n",
      "totals.transactionRevenue 5333\n",
      "trafficSource.adContent 5\n",
      "trafficSource.adwordsClickInfo.adNetworkType 3\n",
      "trafficSource.adwordsClickInfo.gclId 17775\n",
      "trafficSource.adwordsClickInfo.page 9\n",
      "trafficSource.adwordsClickInfo.slot 3\n",
      "trafficSource.campaign 5\n",
      "trafficSource.isTrueDirect 2\n",
      "trafficSource.keyword 8\n",
      "trafficSource.medium 6\n",
      "trafficSource.referralPath 31\n",
      "trafficSource.source 23\n"
     ]
    }
   ],
   "source": [
    "#check again number of categories in each variable (eg column)\n",
    "for c in train_df.columns:\n",
    "    print(c, len(np.unique(train_df[c].astype(str))))"
   ]
  },
  {
   "cell_type": "markdown",
   "metadata": {},
   "source": [
    "### Drop meaningless columns"
   ]
  },
  {
   "cell_type": "code",
   "execution_count": 12,
   "metadata": {},
   "outputs": [
    {
     "data": {
      "text/plain": [
       "((903653, 33), (804684, 32))"
      ]
     },
     "execution_count": 12,
     "metadata": {},
     "output_type": "execute_result"
    }
   ],
   "source": [
    "meaningless_columns =[]\n",
    "\n",
    "def drop_meaningless_columns(df, meaningless_columns):\n",
    "    df.drop(meaningless_columns, axis=1, inplace=True)\n",
    "    return df\n",
    "\n",
    "train_df = drop_meaningless_columns(train_df, meaningless_columns)\n",
    "test_df = drop_meaningless_columns(test_df, meaningless_columns)\n",
    "train_df.shape, test_df.shape"
   ]
  },
  {
   "cell_type": "code",
   "execution_count": null,
   "metadata": {},
   "outputs": [],
   "source": [
    "\"\"\"\n",
    "\n",
    "meaningless_columns = [\n",
    "    'geoNetwork.city', 'geoNetwork.metro', 'geoNetwork.networkDomain', 'geoNetwork.region',\n",
    "    'totals.bounces',\n",
    "    'trafficSource.adContent', 'trafficSource.adwordsClickInfo.adNetworkType', 'trafficSource.adwordsClickInfo.gclId',\n",
    "    'trafficSource.adwordsClickInfo.isVideoAd', 'trafficSource.adwordsClickInfo.page', 'trafficSource.adwordsClickInfo.slot',\n",
    "    'trafficSource.campaign', 'trafficSource.isTrueDirect', 'trafficSource.keyword', 'trafficSource.referralPath'   \n",
    "]\n",
    "\n",
    "#NO DROP VERSION\n",
    "for i in meaningless_columns:\n",
    "    if train_df[i].dtype == float:\n",
    "\n",
    "        train_df[i].fillna(0, inplace=True)\n",
    "        test_df[i].fillna(0, inplace=True)\n",
    "    else:\n",
    "        print(i)        \n",
    "        train_df[i].fillna('(other)', inplace=True)\n",
    "        test_df[i].fillna('(other)', inplace=True)    \n",
    "\n",
    "def drop_meaningless_columns(df, meaningless_columns):\n",
    "    df.drop(meaningless_columns, axis=1, inplace=True)\n",
    "    return df\n",
    "\n",
    "#train_df = drop_meaningless_columns(train_df, meaningless_columns)\n",
    "#test_df = drop_meaningless_columns(test_df, meaningless_columns)\n",
    "train_df.shape, test_df.shape\n",
    "\n",
    "\"\"\""
   ]
  },
  {
   "cell_type": "markdown",
   "metadata": {},
   "source": [
    "###  Label encoder"
   ]
  },
  {
   "cell_type": "code",
   "execution_count": 13,
   "metadata": {},
   "outputs": [
    {
     "name": "stdout",
     "output_type": "stream",
     "text": [
      "channelGrouping\n",
      "device.browser\n",
      "device.deviceCategory\n",
      "device.operatingSystem\n",
      "geoNetwork.city\n",
      "geoNetwork.continent\n",
      "geoNetwork.country\n",
      "geoNetwork.metro\n",
      "geoNetwork.networkDomain\n",
      "geoNetwork.region\n",
      "geoNetwork.metro\n",
      "geoNetwork.networkDomain\n",
      "geoNetwork.region\n",
      "trafficSource.adContent\n",
      "trafficSource.adwordsClickInfo.adNetworkType\n",
      "trafficSource.adwordsClickInfo.gclId\n",
      "trafficSource.adwordsClickInfo.slot\n",
      "trafficSource.campaign\n",
      "trafficSource.referralPath\n",
      "geoNetwork.subContinent\n",
      "trafficSource.medium\n",
      "trafficSource.source\n",
      "trafficSource.keyword\n"
     ]
    }
   ],
   "source": [
    "from sklearn import preprocessing\n",
    "\n",
    "for col in string_features:\n",
    "    print(col)\n",
    "    lbl = preprocessing.LabelEncoder()\n",
    "    lbl.fit(list(train_df[col].values.astype('str')) + list(test_df[col].values.astype('str')))\n",
    "    train_df[col] = lbl.transform(list(train_df[col].values.astype('str')))\n",
    "    test_df[col] = lbl.transform(list(test_df[col].values.astype('str')))"
   ]
  },
  {
   "cell_type": "markdown",
   "metadata": {},
   "source": [
    "### Export Dataframes"
   ]
  },
  {
   "cell_type": "code",
   "execution_count": 14,
   "metadata": {},
   "outputs": [],
   "source": [
    "train_df.to_csv('preprocessed_train(3).csv', index = False)\n",
    "test_df.to_csv('preprocessed_test(3).csv', index = False)"
   ]
  }
 ],
 "metadata": {
  "kernelspec": {
   "display_name": "Python 3",
   "language": "python",
   "name": "python3"
  },
  "language_info": {
   "codemirror_mode": {
    "name": "ipython",
    "version": 3
   },
   "file_extension": ".py",
   "mimetype": "text/x-python",
   "name": "python",
   "nbconvert_exporter": "python",
   "pygments_lexer": "ipython3",
   "version": "3.7.0"
  }
 },
 "nbformat": 4,
 "nbformat_minor": 2
}
